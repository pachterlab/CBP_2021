{
  "nbformat": 4,
  "nbformat_minor": 0,
  "metadata": {
    "colab": {
      "name": "all2DDistortions.ipynb",
      "provenance": [],
      "collapsed_sections": [],
      "toc_visible": true,
      "authorship_tag": "ABX9TyOgXdKBHfXzKfS86BzaGb/h",
      "include_colab_link": true
    },
    "kernelspec": {
      "display_name": "Python 3",
      "name": "python3"
    },
    "language_info": {
      "name": "python"
    },
    "widgets": {
      "application/vnd.jupyter.widget-state+json": {
        "4386870407a44bcdbdbde0de9f12db3d": {
          "model_module": "@jupyter-widgets/controls",
          "model_name": "HBoxModel",
          "model_module_version": "1.5.0",
          "state": {
            "_view_name": "HBoxView",
            "_dom_classes": [],
            "_model_name": "HBoxModel",
            "_view_module": "@jupyter-widgets/controls",
            "_model_module_version": "1.5.0",
            "_view_count": null,
            "_view_module_version": "1.5.0",
            "box_style": "",
            "layout": "IPY_MODEL_40a03c05da93471b9819c2d8e12575e9",
            "_model_module": "@jupyter-widgets/controls",
            "children": [
              "IPY_MODEL_cd84c6af734545d4bc2fc6fca4882ebb",
              "IPY_MODEL_d48145976e1d4c28a8deb4e8a8222aca",
              "IPY_MODEL_6b4ec58830f8404ab6b2b9f7eddf8d37"
            ]
          }
        },
        "40a03c05da93471b9819c2d8e12575e9": {
          "model_module": "@jupyter-widgets/base",
          "model_name": "LayoutModel",
          "model_module_version": "1.2.0",
          "state": {
            "_view_name": "LayoutView",
            "grid_template_rows": null,
            "right": null,
            "justify_content": null,
            "_view_module": "@jupyter-widgets/base",
            "overflow": null,
            "_model_module_version": "1.2.0",
            "_view_count": null,
            "flex_flow": null,
            "width": null,
            "min_width": null,
            "border": null,
            "align_items": null,
            "bottom": null,
            "_model_module": "@jupyter-widgets/base",
            "top": null,
            "grid_column": null,
            "overflow_y": null,
            "overflow_x": null,
            "grid_auto_flow": null,
            "grid_area": null,
            "grid_template_columns": null,
            "flex": null,
            "_model_name": "LayoutModel",
            "justify_items": null,
            "grid_row": null,
            "max_height": null,
            "align_content": null,
            "visibility": null,
            "align_self": null,
            "height": null,
            "min_height": null,
            "padding": null,
            "grid_auto_rows": null,
            "grid_gap": null,
            "max_width": null,
            "order": null,
            "_view_module_version": "1.2.0",
            "grid_template_areas": null,
            "object_position": null,
            "object_fit": null,
            "grid_auto_columns": null,
            "margin": null,
            "display": null,
            "left": null
          }
        },
        "cd84c6af734545d4bc2fc6fca4882ebb": {
          "model_module": "@jupyter-widgets/controls",
          "model_name": "HTMLModel",
          "model_module_version": "1.5.0",
          "state": {
            "_view_name": "HTMLView",
            "style": "IPY_MODEL_2f95c89989e4489f80cf9f5c854d180d",
            "_dom_classes": [],
            "description": "",
            "_model_name": "HTMLModel",
            "placeholder": "​",
            "_view_module": "@jupyter-widgets/controls",
            "_model_module_version": "1.5.0",
            "value": "",
            "_view_count": null,
            "_view_module_version": "1.5.0",
            "description_tooltip": null,
            "_model_module": "@jupyter-widgets/controls",
            "layout": "IPY_MODEL_7ff75477ae3047c1aaebbaa6644eed96"
          }
        },
        "d48145976e1d4c28a8deb4e8a8222aca": {
          "model_module": "@jupyter-widgets/controls",
          "model_name": "FloatProgressModel",
          "model_module_version": "1.5.0",
          "state": {
            "_view_name": "ProgressView",
            "style": "IPY_MODEL_60242e50febc47a0832ac329209bb7b8",
            "_dom_classes": [],
            "description": "",
            "_model_name": "FloatProgressModel",
            "bar_style": "",
            "max": 940,
            "_view_module": "@jupyter-widgets/controls",
            "_model_module_version": "1.5.0",
            "value": 940,
            "_view_count": null,
            "_view_module_version": "1.5.0",
            "orientation": "horizontal",
            "min": 0,
            "description_tooltip": null,
            "_model_module": "@jupyter-widgets/controls",
            "layout": "IPY_MODEL_eca61d9d137542aab1490241f85ed3c1"
          }
        },
        "6b4ec58830f8404ab6b2b9f7eddf8d37": {
          "model_module": "@jupyter-widgets/controls",
          "model_name": "HTMLModel",
          "model_module_version": "1.5.0",
          "state": {
            "_view_name": "HTMLView",
            "style": "IPY_MODEL_1b9b6af5157748398d49aa5cc739a6c2",
            "_dom_classes": [],
            "description": "",
            "_model_name": "HTMLModel",
            "placeholder": "​",
            "_view_module": "@jupyter-widgets/controls",
            "_model_module_version": "1.5.0",
            "value": " 941/? [00:20&lt;00:00, 1805.33B/s]",
            "_view_count": null,
            "_view_module_version": "1.5.0",
            "description_tooltip": null,
            "_model_module": "@jupyter-widgets/controls",
            "layout": "IPY_MODEL_dfc94ca24a514dae960a674cc3758540"
          }
        },
        "2f95c89989e4489f80cf9f5c854d180d": {
          "model_module": "@jupyter-widgets/controls",
          "model_name": "DescriptionStyleModel",
          "model_module_version": "1.5.0",
          "state": {
            "_view_name": "StyleView",
            "_model_name": "DescriptionStyleModel",
            "description_width": "",
            "_view_module": "@jupyter-widgets/base",
            "_model_module_version": "1.5.0",
            "_view_count": null,
            "_view_module_version": "1.2.0",
            "_model_module": "@jupyter-widgets/controls"
          }
        },
        "7ff75477ae3047c1aaebbaa6644eed96": {
          "model_module": "@jupyter-widgets/base",
          "model_name": "LayoutModel",
          "model_module_version": "1.2.0",
          "state": {
            "_view_name": "LayoutView",
            "grid_template_rows": null,
            "right": null,
            "justify_content": null,
            "_view_module": "@jupyter-widgets/base",
            "overflow": null,
            "_model_module_version": "1.2.0",
            "_view_count": null,
            "flex_flow": null,
            "width": null,
            "min_width": null,
            "border": null,
            "align_items": null,
            "bottom": null,
            "_model_module": "@jupyter-widgets/base",
            "top": null,
            "grid_column": null,
            "overflow_y": null,
            "overflow_x": null,
            "grid_auto_flow": null,
            "grid_area": null,
            "grid_template_columns": null,
            "flex": null,
            "_model_name": "LayoutModel",
            "justify_items": null,
            "grid_row": null,
            "max_height": null,
            "align_content": null,
            "visibility": null,
            "align_self": null,
            "height": null,
            "min_height": null,
            "padding": null,
            "grid_auto_rows": null,
            "grid_gap": null,
            "max_width": null,
            "order": null,
            "_view_module_version": "1.2.0",
            "grid_template_areas": null,
            "object_position": null,
            "object_fit": null,
            "grid_auto_columns": null,
            "margin": null,
            "display": null,
            "left": null
          }
        },
        "60242e50febc47a0832ac329209bb7b8": {
          "model_module": "@jupyter-widgets/controls",
          "model_name": "ProgressStyleModel",
          "model_module_version": "1.5.0",
          "state": {
            "_view_name": "StyleView",
            "_model_name": "ProgressStyleModel",
            "description_width": "",
            "_view_module": "@jupyter-widgets/base",
            "_model_module_version": "1.5.0",
            "_view_count": null,
            "_view_module_version": "1.2.0",
            "bar_color": null,
            "_model_module": "@jupyter-widgets/controls"
          }
        },
        "eca61d9d137542aab1490241f85ed3c1": {
          "model_module": "@jupyter-widgets/base",
          "model_name": "LayoutModel",
          "model_module_version": "1.2.0",
          "state": {
            "_view_name": "LayoutView",
            "grid_template_rows": null,
            "right": null,
            "justify_content": null,
            "_view_module": "@jupyter-widgets/base",
            "overflow": null,
            "_model_module_version": "1.2.0",
            "_view_count": null,
            "flex_flow": null,
            "width": null,
            "min_width": null,
            "border": null,
            "align_items": null,
            "bottom": null,
            "_model_module": "@jupyter-widgets/base",
            "top": null,
            "grid_column": null,
            "overflow_y": null,
            "overflow_x": null,
            "grid_auto_flow": null,
            "grid_area": null,
            "grid_template_columns": null,
            "flex": null,
            "_model_name": "LayoutModel",
            "justify_items": null,
            "grid_row": null,
            "max_height": null,
            "align_content": null,
            "visibility": null,
            "align_self": null,
            "height": null,
            "min_height": null,
            "padding": null,
            "grid_auto_rows": null,
            "grid_gap": null,
            "max_width": null,
            "order": null,
            "_view_module_version": "1.2.0",
            "grid_template_areas": null,
            "object_position": null,
            "object_fit": null,
            "grid_auto_columns": null,
            "margin": null,
            "display": null,
            "left": null
          }
        },
        "1b9b6af5157748398d49aa5cc739a6c2": {
          "model_module": "@jupyter-widgets/controls",
          "model_name": "DescriptionStyleModel",
          "model_module_version": "1.5.0",
          "state": {
            "_view_name": "StyleView",
            "_model_name": "DescriptionStyleModel",
            "description_width": "",
            "_view_module": "@jupyter-widgets/base",
            "_model_module_version": "1.5.0",
            "_view_count": null,
            "_view_module_version": "1.2.0",
            "_model_module": "@jupyter-widgets/controls"
          }
        },
        "dfc94ca24a514dae960a674cc3758540": {
          "model_module": "@jupyter-widgets/base",
          "model_name": "LayoutModel",
          "model_module_version": "1.2.0",
          "state": {
            "_view_name": "LayoutView",
            "grid_template_rows": null,
            "right": null,
            "justify_content": null,
            "_view_module": "@jupyter-widgets/base",
            "overflow": null,
            "_model_module_version": "1.2.0",
            "_view_count": null,
            "flex_flow": null,
            "width": null,
            "min_width": null,
            "border": null,
            "align_items": null,
            "bottom": null,
            "_model_module": "@jupyter-widgets/base",
            "top": null,
            "grid_column": null,
            "overflow_y": null,
            "overflow_x": null,
            "grid_auto_flow": null,
            "grid_area": null,
            "grid_template_columns": null,
            "flex": null,
            "_model_name": "LayoutModel",
            "justify_items": null,
            "grid_row": null,
            "max_height": null,
            "align_content": null,
            "visibility": null,
            "align_self": null,
            "height": null,
            "min_height": null,
            "padding": null,
            "grid_auto_rows": null,
            "grid_gap": null,
            "max_width": null,
            "order": null,
            "_view_module_version": "1.2.0",
            "grid_template_areas": null,
            "object_position": null,
            "object_fit": null,
            "grid_auto_columns": null,
            "margin": null,
            "display": null,
            "left": null
          }
        },
        "b5056f702ebb47e2b4101b92a1d35ac1": {
          "model_module": "@jupyter-widgets/controls",
          "model_name": "HBoxModel",
          "model_module_version": "1.5.0",
          "state": {
            "_view_name": "HBoxView",
            "_dom_classes": [],
            "_model_name": "HBoxModel",
            "_view_module": "@jupyter-widgets/controls",
            "_model_module_version": "1.5.0",
            "_view_count": null,
            "_view_module_version": "1.5.0",
            "box_style": "",
            "layout": "IPY_MODEL_cc716e3c790048b798f07c175dfc6833",
            "_model_module": "@jupyter-widgets/controls",
            "children": [
              "IPY_MODEL_2fc5ec29807e4ed0bd3dd434174038e4",
              "IPY_MODEL_dbe9a47115ee4252ae46718d4d217782",
              "IPY_MODEL_c5e8c2e73c5f4aabbe9f2ba8c8c8c355"
            ]
          }
        },
        "cc716e3c790048b798f07c175dfc6833": {
          "model_module": "@jupyter-widgets/base",
          "model_name": "LayoutModel",
          "model_module_version": "1.2.0",
          "state": {
            "_view_name": "LayoutView",
            "grid_template_rows": null,
            "right": null,
            "justify_content": null,
            "_view_module": "@jupyter-widgets/base",
            "overflow": null,
            "_model_module_version": "1.2.0",
            "_view_count": null,
            "flex_flow": null,
            "width": null,
            "min_width": null,
            "border": null,
            "align_items": null,
            "bottom": null,
            "_model_module": "@jupyter-widgets/base",
            "top": null,
            "grid_column": null,
            "overflow_y": null,
            "overflow_x": null,
            "grid_auto_flow": null,
            "grid_area": null,
            "grid_template_columns": null,
            "flex": null,
            "_model_name": "LayoutModel",
            "justify_items": null,
            "grid_row": null,
            "max_height": null,
            "align_content": null,
            "visibility": null,
            "align_self": null,
            "height": null,
            "min_height": null,
            "padding": null,
            "grid_auto_rows": null,
            "grid_gap": null,
            "max_width": null,
            "order": null,
            "_view_module_version": "1.2.0",
            "grid_template_areas": null,
            "object_position": null,
            "object_fit": null,
            "grid_auto_columns": null,
            "margin": null,
            "display": null,
            "left": null
          }
        },
        "2fc5ec29807e4ed0bd3dd434174038e4": {
          "model_module": "@jupyter-widgets/controls",
          "model_name": "HTMLModel",
          "model_module_version": "1.5.0",
          "state": {
            "_view_name": "HTMLView",
            "style": "IPY_MODEL_45db52d330564c169e5d2f3a2336cf3a",
            "_dom_classes": [],
            "description": "",
            "_model_name": "HTMLModel",
            "placeholder": "​",
            "_view_module": "@jupyter-widgets/controls",
            "_model_module_version": "1.5.0",
            "value": "",
            "_view_count": null,
            "_view_module_version": "1.5.0",
            "description_tooltip": null,
            "_model_module": "@jupyter-widgets/controls",
            "layout": "IPY_MODEL_8dc6eac49975441f9d06856712feddd9"
          }
        },
        "dbe9a47115ee4252ae46718d4d217782": {
          "model_module": "@jupyter-widgets/controls",
          "model_name": "FloatProgressModel",
          "model_module_version": "1.5.0",
          "state": {
            "_view_name": "ProgressView",
            "style": "IPY_MODEL_6cb5876d3fb040c6b007c61bbafb8b61",
            "_dom_classes": [],
            "description": "",
            "_model_name": "FloatProgressModel",
            "bar_style": "",
            "max": 104912,
            "_view_module": "@jupyter-widgets/controls",
            "_model_module_version": "1.5.0",
            "value": 104912,
            "_view_count": null,
            "_view_module_version": "1.5.0",
            "orientation": "horizontal",
            "min": 0,
            "description_tooltip": null,
            "_model_module": "@jupyter-widgets/controls",
            "layout": "IPY_MODEL_1f128fefe4104c2fa67b81ce10f26c45"
          }
        },
        "c5e8c2e73c5f4aabbe9f2ba8c8c8c355": {
          "model_module": "@jupyter-widgets/controls",
          "model_name": "HTMLModel",
          "model_module_version": "1.5.0",
          "state": {
            "_view_name": "HTMLView",
            "style": "IPY_MODEL_c324ed6a7f644e81b58ba68612c411e6",
            "_dom_classes": [],
            "description": "",
            "_model_name": "HTMLModel",
            "placeholder": "​",
            "_view_module": "@jupyter-widgets/controls",
            "_model_module_version": "1.5.0",
            "value": " 104913/? [00:30&lt;00:00, 19560.26B/s]",
            "_view_count": null,
            "_view_module_version": "1.5.0",
            "description_tooltip": null,
            "_model_module": "@jupyter-widgets/controls",
            "layout": "IPY_MODEL_5b88d29ecef84f5d9cceec9ab499064e"
          }
        },
        "45db52d330564c169e5d2f3a2336cf3a": {
          "model_module": "@jupyter-widgets/controls",
          "model_name": "DescriptionStyleModel",
          "model_module_version": "1.5.0",
          "state": {
            "_view_name": "StyleView",
            "_model_name": "DescriptionStyleModel",
            "description_width": "",
            "_view_module": "@jupyter-widgets/base",
            "_model_module_version": "1.5.0",
            "_view_count": null,
            "_view_module_version": "1.2.0",
            "_model_module": "@jupyter-widgets/controls"
          }
        },
        "8dc6eac49975441f9d06856712feddd9": {
          "model_module": "@jupyter-widgets/base",
          "model_name": "LayoutModel",
          "model_module_version": "1.2.0",
          "state": {
            "_view_name": "LayoutView",
            "grid_template_rows": null,
            "right": null,
            "justify_content": null,
            "_view_module": "@jupyter-widgets/base",
            "overflow": null,
            "_model_module_version": "1.2.0",
            "_view_count": null,
            "flex_flow": null,
            "width": null,
            "min_width": null,
            "border": null,
            "align_items": null,
            "bottom": null,
            "_model_module": "@jupyter-widgets/base",
            "top": null,
            "grid_column": null,
            "overflow_y": null,
            "overflow_x": null,
            "grid_auto_flow": null,
            "grid_area": null,
            "grid_template_columns": null,
            "flex": null,
            "_model_name": "LayoutModel",
            "justify_items": null,
            "grid_row": null,
            "max_height": null,
            "align_content": null,
            "visibility": null,
            "align_self": null,
            "height": null,
            "min_height": null,
            "padding": null,
            "grid_auto_rows": null,
            "grid_gap": null,
            "max_width": null,
            "order": null,
            "_view_module_version": "1.2.0",
            "grid_template_areas": null,
            "object_position": null,
            "object_fit": null,
            "grid_auto_columns": null,
            "margin": null,
            "display": null,
            "left": null
          }
        },
        "6cb5876d3fb040c6b007c61bbafb8b61": {
          "model_module": "@jupyter-widgets/controls",
          "model_name": "ProgressStyleModel",
          "model_module_version": "1.5.0",
          "state": {
            "_view_name": "StyleView",
            "_model_name": "ProgressStyleModel",
            "description_width": "",
            "_view_module": "@jupyter-widgets/base",
            "_model_module_version": "1.5.0",
            "_view_count": null,
            "_view_module_version": "1.2.0",
            "bar_color": null,
            "_model_module": "@jupyter-widgets/controls"
          }
        },
        "1f128fefe4104c2fa67b81ce10f26c45": {
          "model_module": "@jupyter-widgets/base",
          "model_name": "LayoutModel",
          "model_module_version": "1.2.0",
          "state": {
            "_view_name": "LayoutView",
            "grid_template_rows": null,
            "right": null,
            "justify_content": null,
            "_view_module": "@jupyter-widgets/base",
            "overflow": null,
            "_model_module_version": "1.2.0",
            "_view_count": null,
            "flex_flow": null,
            "width": null,
            "min_width": null,
            "border": null,
            "align_items": null,
            "bottom": null,
            "_model_module": "@jupyter-widgets/base",
            "top": null,
            "grid_column": null,
            "overflow_y": null,
            "overflow_x": null,
            "grid_auto_flow": null,
            "grid_area": null,
            "grid_template_columns": null,
            "flex": null,
            "_model_name": "LayoutModel",
            "justify_items": null,
            "grid_row": null,
            "max_height": null,
            "align_content": null,
            "visibility": null,
            "align_self": null,
            "height": null,
            "min_height": null,
            "padding": null,
            "grid_auto_rows": null,
            "grid_gap": null,
            "max_width": null,
            "order": null,
            "_view_module_version": "1.2.0",
            "grid_template_areas": null,
            "object_position": null,
            "object_fit": null,
            "grid_auto_columns": null,
            "margin": null,
            "display": null,
            "left": null
          }
        },
        "c324ed6a7f644e81b58ba68612c411e6": {
          "model_module": "@jupyter-widgets/controls",
          "model_name": "DescriptionStyleModel",
          "model_module_version": "1.5.0",
          "state": {
            "_view_name": "StyleView",
            "_model_name": "DescriptionStyleModel",
            "description_width": "",
            "_view_module": "@jupyter-widgets/base",
            "_model_module_version": "1.5.0",
            "_view_count": null,
            "_view_module_version": "1.2.0",
            "_model_module": "@jupyter-widgets/controls"
          }
        },
        "5b88d29ecef84f5d9cceec9ab499064e": {
          "model_module": "@jupyter-widgets/base",
          "model_name": "LayoutModel",
          "model_module_version": "1.2.0",
          "state": {
            "_view_name": "LayoutView",
            "grid_template_rows": null,
            "right": null,
            "justify_content": null,
            "_view_module": "@jupyter-widgets/base",
            "overflow": null,
            "_model_module_version": "1.2.0",
            "_view_count": null,
            "flex_flow": null,
            "width": null,
            "min_width": null,
            "border": null,
            "align_items": null,
            "bottom": null,
            "_model_module": "@jupyter-widgets/base",
            "top": null,
            "grid_column": null,
            "overflow_y": null,
            "overflow_x": null,
            "grid_auto_flow": null,
            "grid_area": null,
            "grid_template_columns": null,
            "flex": null,
            "_model_name": "LayoutModel",
            "justify_items": null,
            "grid_row": null,
            "max_height": null,
            "align_content": null,
            "visibility": null,
            "align_self": null,
            "height": null,
            "min_height": null,
            "padding": null,
            "grid_auto_rows": null,
            "grid_gap": null,
            "max_width": null,
            "order": null,
            "_view_module_version": "1.2.0",
            "grid_template_areas": null,
            "object_position": null,
            "object_fit": null,
            "grid_auto_columns": null,
            "margin": null,
            "display": null,
            "left": null
          }
        }
      }
    }
  },
  "cells": [
    {
      "cell_type": "markdown",
      "metadata": {
        "id": "view-in-github",
        "colab_type": "text"
      },
      "source": [
        "<a href=\"https://colab.research.google.com/github/pachterlab/CBP_2021/blob/main/notebooks/all2DDistortions.ipynb\" target=\"_parent\"><img src=\"https://colab.research.google.com/assets/colab-badge.svg\" alt=\"Open In Colab\"/></a>"
      ]
    },
    {
      "cell_type": "code",
      "metadata": {
        "colab": {
          "base_uri": "https://localhost:8080/"
        },
        "id": "Xm_6XoJKS-8P",
        "outputId": "e9fea5ea-ff01-458d-e938-205be189e4bb"
      },
      "source": [
        "!date"
      ],
      "execution_count": null,
      "outputs": [
        {
          "output_type": "stream",
          "text": [
            "Thu Aug 19 18:21:11 UTC 2021\n"
          ],
          "name": "stdout"
        }
      ]
    },
    {
      "cell_type": "code",
      "metadata": {
        "id": "0948kX4SEUxq",
        "colab": {
          "base_uri": "https://localhost:8080/",
          "height": 115,
          "referenced_widgets": [
            "4386870407a44bcdbdbde0de9f12db3d",
            "40a03c05da93471b9819c2d8e12575e9",
            "cd84c6af734545d4bc2fc6fca4882ebb",
            "d48145976e1d4c28a8deb4e8a8222aca",
            "6b4ec58830f8404ab6b2b9f7eddf8d37",
            "2f95c89989e4489f80cf9f5c854d180d",
            "7ff75477ae3047c1aaebbaa6644eed96",
            "60242e50febc47a0832ac329209bb7b8",
            "eca61d9d137542aab1490241f85ed3c1",
            "1b9b6af5157748398d49aa5cc739a6c2",
            "dfc94ca24a514dae960a674cc3758540",
            "b5056f702ebb47e2b4101b92a1d35ac1",
            "cc716e3c790048b798f07c175dfc6833",
            "2fc5ec29807e4ed0bd3dd434174038e4",
            "dbe9a47115ee4252ae46718d4d217782",
            "c5e8c2e73c5f4aabbe9f2ba8c8c8c355",
            "45db52d330564c169e5d2f3a2336cf3a",
            "8dc6eac49975441f9d06856712feddd9",
            "6cb5876d3fb040c6b007c61bbafb8b61",
            "1f128fefe4104c2fa67b81ce10f26c45",
            "c324ed6a7f644e81b58ba68612c411e6",
            "5b88d29ecef84f5d9cceec9ab499064e"
          ]
        },
        "outputId": "e56bca4e-9230-49b8-ed76-4822f26845a4"
      },
      "source": [
        "#Download datasets\n",
        "\n",
        "import requests\n",
        "import os\n",
        "\n",
        "\n",
        "from tqdm import tnrange, tqdm_notebook\n",
        "def download_file(doi,ext):\n",
        "\turl = 'https://api.datacite.org/dois/'+doi+'/media'\n",
        "\tr = requests.get(url).json()\n",
        "\tnetcdf_url = r['data'][0]['attributes']['url']\n",
        "\tr = requests.get(netcdf_url,stream=True)\n",
        "\t#Set file name\n",
        "\tfname = doi.split('/')[-1]+ext\n",
        "\t#Download file with progress bar\n",
        "\tif r.status_code == 403:\n",
        "\t\tprint(\"File Unavailable\")\n",
        "\tif 'content-length' not in r.headers:\n",
        "\t\tprint(\"Did not get file\")\n",
        "\telse:\n",
        "\t\twith open(fname, 'wb') as f:\n",
        "\t\t\ttotal_length = int(r.headers.get('content-length'))\n",
        "\t\t\tpbar = tnrange(int(total_length/1024), unit=\"B\")\n",
        "\t\t\tfor chunk in r.iter_content(chunk_size=1024):\n",
        "\t\t\t\tif chunk:\n",
        "\t\t\t\t\tpbar.update()\n",
        "\t\t\t\t\tf.write(chunk)\n",
        "\t\treturn fname\n",
        "\n",
        "\n",
        "#10x VMH data\n",
        "#metadata.csv\n",
        "download_file('10.22002/D1.2065','.gz')\n",
        "\n",
        "#tenx.mtx (log counts)\n",
        "download_file('10.22002/D1.2072','.gz')\n",
        "\n",
        "\n",
        "#SMART-seq VMH data\n",
        "#metadata.csv\n",
        "download_file('10.22002/D1.2067','.gz')\n",
        "\n",
        "#smartseq.mtx (log counts)\n",
        "download_file('10.22002/D1.2071','.gz')\n",
        "\n",
        "\n",
        "\n",
        "#MERFISH data\n",
        "#metadata.csv\n",
        "download_file('10.22002/D1.2063','.gz')\n",
        "\n",
        "#counts.h5ad\n",
        "download_file('10.22002/D1.2064','.gz')\n",
        "\n",
        "\n",
        "\n",
        "\n",
        "\n",
        "os.system(\"gunzip *.gz\")\n",
        "\n",
        "os.system(\"mv D1.2065 tenxmetadata.csv\")\n",
        "os.system(\"mv D1.2072 tenx.mtx\")\n",
        "\n",
        "\n",
        "os.system(\"mv D1.2067 smartmetadata.csv\")\n",
        "os.system(\"mv D1.2071 smartseq.mtx\")\n",
        "\n",
        "os.system(\"mv D1.2063 metadata.csv\")\n",
        "os.system(\"mv D1.2064 counts.h5ad\")"
      ],
      "execution_count": null,
      "outputs": [
        {
          "output_type": "stream",
          "text": [
            "/usr/local/lib/python3.7/dist-packages/ipykernel_launcher.py:23: TqdmDeprecationWarning: Please use `tqdm.notebook.trange` instead of `tqdm.tnrange`\n"
          ],
          "name": "stderr"
        },
        {
          "output_type": "display_data",
          "data": {
            "application/vnd.jupyter.widget-view+json": {
              "model_id": "4386870407a44bcdbdbde0de9f12db3d",
              "version_minor": 0,
              "version_major": 2
            },
            "text/plain": [
              "  0%|          | 0/940 [00:00<?, ?B/s]"
            ]
          },
          "metadata": {}
        },
        {
          "output_type": "display_data",
          "data": {
            "application/vnd.jupyter.widget-view+json": {
              "model_id": "b5056f702ebb47e2b4101b92a1d35ac1",
              "version_minor": 0,
              "version_major": 2
            },
            "text/plain": [
              "  0%|          | 0/104912 [00:00<?, ?B/s]"
            ]
          },
          "metadata": {}
        },
        {
          "output_type": "execute_result",
          "data": {
            "text/plain": [
              "0"
            ]
          },
          "metadata": {},
          "execution_count": 1
        }
      ]
    },
    {
      "cell_type": "code",
      "metadata": {
        "id": "UYC5t43BdLxp"
      },
      "source": [
        "#Read in files from NCBI GEO\n",
        "!wget --quiet https://ftp.ncbi.nlm.nih.gov/geo/series/GSE149nnn/GSE149372/suppl/GSE149372_GSM5068636-GSM5068641_scRNA.MetaData.105.csv.gz\n",
        "!wget --quiet https://ftp.ncbi.nlm.nih.gov/geo/series/GSE149nnn/GSE149372/suppl/GSE149372_GSM5068636-GSM5068641_scRNA.normalized.assay105.csv.gz\n",
        "!wget --quiet https://ftp.ncbi.nlm.nih.gov/geo/series/GSE149nnn/GSE149372/suppl/GSE149372_GSM5068636-GSM5068641_scRNA.integrated.scaled.assay105.csv.gz\n",
        "\n",
        "!wget --quiet https://ftp.ncbi.nlm.nih.gov/geo/series/GSE149nnn/GSE149372/suppl/GSE149372_scRNA.MetaData.85.csv.gz\n",
        "!wget --quiet https://ftp.ncbi.nlm.nih.gov/geo/series/GSE149nnn/GSE149372/suppl/GSE149372_scRNA.normalized.assay85.csv.gz\n"
      ],
      "execution_count": null,
      "outputs": []
    },
    {
      "cell_type": "code",
      "metadata": {
        "id": "X9VBbyy2tXrM"
      },
      "source": [
        "#Read in files from NCBI GEO for Integrate Utero E8.5 (will only use Ex-utero data)\n",
        "#Read in files from NCBI GEO\n",
        "!wget --quiet https://ftp.ncbi.nlm.nih.gov/geo/series/GSE149nnn/GSE149372/suppl/GSE149372_scRNA.MetaData.85.csv.gz\n",
        "!wget --quiet https://ftp.ncbi.nlm.nih.gov/geo/series/GSE149nnn/GSE149372/suppl/GSE149372_scRNA.normalized.assay85.csv.gz\n",
        "\n"
      ],
      "execution_count": null,
      "outputs": []
    },
    {
      "cell_type": "code",
      "metadata": {
        "id": "h0B2xxSnPdHt",
        "colab": {
          "base_uri": "https://localhost:8080/"
        },
        "outputId": "fbc0809a-556b-411f-fc43-28bba238451d"
      },
      "source": [
        "!git clone https://github.com/hhcho/densvis.git"
      ],
      "execution_count": null,
      "outputs": [
        {
          "output_type": "stream",
          "text": [
            "Cloning into 'densvis'...\n",
            "remote: Enumerating objects: 145, done.\u001b[K\n",
            "remote: Counting objects: 100% (145/145), done.\u001b[K\n",
            "remote: Compressing objects: 100% (95/95), done.\u001b[K\n",
            "remote: Total 145 (delta 78), reused 100 (delta 45), pack-reused 0\u001b[K\n",
            "Receiving objects: 100% (145/145), 410.98 KiB | 14.17 MiB/s, done.\n",
            "Resolving deltas: 100% (78/78), done.\n"
          ],
          "name": "stdout"
        }
      ]
    },
    {
      "cell_type": "code",
      "metadata": {
        "id": "EyX-CrfsTm-j",
        "colab": {
          "base_uri": "https://localhost:8080/"
        },
        "outputId": "8c811664-8910-40f4-f905-14db97d0d4f8"
      },
      "source": [
        "%cd /content/densvis/densne/"
      ],
      "execution_count": null,
      "outputs": [
        {
          "output_type": "stream",
          "text": [
            "/content/densvis/densne\n"
          ],
          "name": "stdout"
        }
      ]
    },
    {
      "cell_type": "code",
      "metadata": {
        "id": "RQ4enpNJTvAH",
        "colab": {
          "base_uri": "https://localhost:8080/"
        },
        "outputId": "8a2d98b4-e5d7-4076-825e-e840d8b94ec3"
      },
      "source": [
        "!g++ sptree.cpp densne.cpp densne_main.cpp -o den_sne -O2\n",
        "import densne"
      ],
      "execution_count": null,
      "outputs": [
        {
          "output_type": "stream",
          "text": [
            "\u001b[01m\u001b[Kdensne.cpp:\u001b[m\u001b[K In function ‘\u001b[01m\u001b[Kbool DENSNE::load_data(double**, int*, int*, int*, double*, double*, int*, int*, double*, double*, bool*, double**)\u001b[m\u001b[K’:\n",
            "\u001b[01m\u001b[Kdensne.cpp:961:8:\u001b[m\u001b[K \u001b[01;35m\u001b[Kwarning: \u001b[m\u001b[Kignoring return value of ‘\u001b[01m\u001b[Ksize_t fread(void*, size_t, size_t, FILE*)\u001b[m\u001b[K’, declared with attribute warn_unused_result [\u001b[01;35m\u001b[K-Wunused-result\u001b[m\u001b[K]\n",
            "   \u001b[01;35m\u001b[Kfread(n, sizeof(int), 1, h)\u001b[m\u001b[K;                                            // number of datapoints\n",
            "   \u001b[01;35m\u001b[K~~~~~^~~~~~~~~~~~~~~~~~~~~~\u001b[m\u001b[K\n",
            "\u001b[01m\u001b[Kdensne.cpp:962:8:\u001b[m\u001b[K \u001b[01;35m\u001b[Kwarning: \u001b[m\u001b[Kignoring return value of ‘\u001b[01m\u001b[Ksize_t fread(void*, size_t, size_t, FILE*)\u001b[m\u001b[K’, declared with attribute warn_unused_result [\u001b[01;35m\u001b[K-Wunused-result\u001b[m\u001b[K]\n",
            "   \u001b[01;35m\u001b[Kfread(d, sizeof(int), 1, h)\u001b[m\u001b[K;                                            // original dimensionality\n",
            "   \u001b[01;35m\u001b[K~~~~~^~~~~~~~~~~~~~~~~~~~~~\u001b[m\u001b[K\n",
            "\u001b[01m\u001b[Kdensne.cpp:963:8:\u001b[m\u001b[K \u001b[01;35m\u001b[Kwarning: \u001b[m\u001b[Kignoring return value of ‘\u001b[01m\u001b[Ksize_t fread(void*, size_t, size_t, FILE*)\u001b[m\u001b[K’, declared with attribute warn_unused_result [\u001b[01;35m\u001b[K-Wunused-result\u001b[m\u001b[K]\n",
            "   \u001b[01;35m\u001b[Kfread(theta, sizeof(double), 1, h)\u001b[m\u001b[K;                                        // gradient accuracy\n",
            "   \u001b[01;35m\u001b[K~~~~~^~~~~~~~~~~~~~~~~~~~~~~~~~~~~\u001b[m\u001b[K\n",
            "\u001b[01m\u001b[Kdensne.cpp:964:8:\u001b[m\u001b[K \u001b[01;35m\u001b[Kwarning: \u001b[m\u001b[Kignoring return value of ‘\u001b[01m\u001b[Ksize_t fread(void*, size_t, size_t, FILE*)\u001b[m\u001b[K’, declared with attribute warn_unused_result [\u001b[01;35m\u001b[K-Wunused-result\u001b[m\u001b[K]\n",
            "   \u001b[01;35m\u001b[Kfread(perplexity, sizeof(double), 1, h)\u001b[m\u001b[K;                                // perplexity\n",
            "   \u001b[01;35m\u001b[K~~~~~^~~~~~~~~~~~~~~~~~~~~~~~~~~~~~~~~~\u001b[m\u001b[K\n",
            "\u001b[01m\u001b[Kdensne.cpp:965:8:\u001b[m\u001b[K \u001b[01;35m\u001b[Kwarning: \u001b[m\u001b[Kignoring return value of ‘\u001b[01m\u001b[Ksize_t fread(void*, size_t, size_t, FILE*)\u001b[m\u001b[K’, declared with attribute warn_unused_result [\u001b[01;35m\u001b[K-Wunused-result\u001b[m\u001b[K]\n",
            "   \u001b[01;35m\u001b[Kfread(no_dims, sizeof(int), 1, h)\u001b[m\u001b[K;                                      // output dimensionality\n",
            "   \u001b[01;35m\u001b[K~~~~~^~~~~~~~~~~~~~~~~~~~~~~~~~~~\u001b[m\u001b[K\n",
            "\u001b[01m\u001b[Kdensne.cpp:966:8:\u001b[m\u001b[K \u001b[01;35m\u001b[Kwarning: \u001b[m\u001b[Kignoring return value of ‘\u001b[01m\u001b[Ksize_t fread(void*, size_t, size_t, FILE*)\u001b[m\u001b[K’, declared with attribute warn_unused_result [\u001b[01;35m\u001b[K-Wunused-result\u001b[m\u001b[K]\n",
            "   \u001b[01;35m\u001b[Kfread(max_iter, sizeof(int),1,h)\u001b[m\u001b[K;                                       // maximum number of iterations\n",
            "   \u001b[01;35m\u001b[K~~~~~^~~~~~~~~~~~~~~~~~~~~~~~~~~\u001b[m\u001b[K\n",
            "\u001b[01m\u001b[Kdensne.cpp:971:8:\u001b[m\u001b[K \u001b[01;35m\u001b[Kwarning: \u001b[m\u001b[Kignoring return value of ‘\u001b[01m\u001b[Ksize_t fread(void*, size_t, size_t, FILE*)\u001b[m\u001b[K’, declared with attribute warn_unused_result [\u001b[01;35m\u001b[K-Wunused-result\u001b[m\u001b[K]\n",
            "   \u001b[01;35m\u001b[Kfread(dens_frac, sizeof(double),1,h)\u001b[m\u001b[K;               // fraction of iters with density objective\n",
            "   \u001b[01;35m\u001b[K~~~~~^~~~~~~~~~~~~~~~~~~~~~~~~~~~~~~\u001b[m\u001b[K\n",
            "\u001b[01m\u001b[Kdensne.cpp:972:8:\u001b[m\u001b[K \u001b[01;35m\u001b[Kwarning: \u001b[m\u001b[Kignoring return value of ‘\u001b[01m\u001b[Ksize_t fread(void*, size_t, size_t, FILE*)\u001b[m\u001b[K’, declared with attribute warn_unused_result [\u001b[01;35m\u001b[K-Wunused-result\u001b[m\u001b[K]\n",
            "   \u001b[01;35m\u001b[Kfread(dens_lambda, sizeof(double),1,h)\u001b[m\u001b[K;               // regularization weight for density objective\n",
            "   \u001b[01;35m\u001b[K~~~~~^~~~~~~~~~~~~~~~~~~~~~~~~~~~~~~~~\u001b[m\u001b[K\n",
            "\u001b[01m\u001b[Kdensne.cpp:975:8:\u001b[m\u001b[K \u001b[01;35m\u001b[Kwarning: \u001b[m\u001b[Kignoring return value of ‘\u001b[01m\u001b[Ksize_t fread(void*, size_t, size_t, FILE*)\u001b[m\u001b[K’, declared with attribute warn_unused_result [\u001b[01;35m\u001b[K-Wunused-result\u001b[m\u001b[K]\n",
            "   \u001b[01;35m\u001b[Kfread(&flag, sizeof(char),1,h)\u001b[m\u001b[K;               // whether to output final densities\n",
            "   \u001b[01;35m\u001b[K~~~~~^~~~~~~~~~~~~~~~~~~~~~~~~\u001b[m\u001b[K\n",
            "\u001b[01m\u001b[Kdensne.cpp:978:8:\u001b[m\u001b[K \u001b[01;35m\u001b[Kwarning: \u001b[m\u001b[Kignoring return value of ‘\u001b[01m\u001b[Ksize_t fread(void*, size_t, size_t, FILE*)\u001b[m\u001b[K’, declared with attribute warn_unused_result [\u001b[01;35m\u001b[K-Wunused-result\u001b[m\u001b[K]\n",
            "   \u001b[01;35m\u001b[Kfread(&flag, sizeof(char),1,h)\u001b[m\u001b[K;               // Initial embedding provided\n",
            "   \u001b[01;35m\u001b[K~~~~~^~~~~~~~~~~~~~~~~~~~~~~~~\u001b[m\u001b[K\n",
            "\u001b[01m\u001b[Kdensne.cpp:982:8:\u001b[m\u001b[K \u001b[01;35m\u001b[Kwarning: \u001b[m\u001b[Kignoring return value of ‘\u001b[01m\u001b[Ksize_t fread(void*, size_t, size_t, FILE*)\u001b[m\u001b[K’, declared with attribute warn_unused_result [\u001b[01;35m\u001b[K-Wunused-result\u001b[m\u001b[K]\n",
            "   \u001b[01;35m\u001b[Kfread(*data, sizeof(double), *n * *d, h)\u001b[m\u001b[K;                               // the data\n",
            "   \u001b[01;35m\u001b[K~~~~~^~~~~~~~~~~~~~~~~~~~~~~~~~~~~~~~~~~\u001b[m\u001b[K\n",
            "\u001b[01m\u001b[Kdensne.cpp:987:10:\u001b[m\u001b[K \u001b[01;35m\u001b[Kwarning: \u001b[m\u001b[Kignoring return value of ‘\u001b[01m\u001b[Ksize_t fread(void*, size_t, size_t, FILE*)\u001b[m\u001b[K’, declared with attribute warn_unused_result [\u001b[01;35m\u001b[K-Wunused-result\u001b[m\u001b[K]\n",
            "     \u001b[01;35m\u001b[Kfread(*Y_init, sizeof(double), *n * *no_dims, h)\u001b[m\u001b[K;\n",
            "     \u001b[01;35m\u001b[K~~~~~^~~~~~~~~~~~~~~~~~~~~~~~~~~~~~~~~~~~~~~~~~~\u001b[m\u001b[K\n",
            "\u001b[01m\u001b[Kdensne.cpp:992:21:\u001b[m\u001b[K \u001b[01;35m\u001b[Kwarning: \u001b[m\u001b[Kignoring return value of ‘\u001b[01m\u001b[Ksize_t fread(void*, size_t, size_t, FILE*)\u001b[m\u001b[K’, declared with attribute warn_unused_result [\u001b[01;35m\u001b[K-Wunused-result\u001b[m\u001b[K]\n",
            "   if(!feof(h)) \u001b[01;35m\u001b[Kfread(rand_seed, sizeof(int), 1, h)\u001b[m\u001b[K;                       // random seed\n",
            "                \u001b[01;35m\u001b[K~~~~~^~~~~~~~~~~~~~~~~~~~~~~~~~~~~~\u001b[m\u001b[K\n"
          ],
          "name": "stdout"
        }
      ]
    },
    {
      "cell_type": "code",
      "metadata": {
        "id": "9m8ThgwwT67y",
        "colab": {
          "base_uri": "https://localhost:8080/"
        },
        "outputId": "c1127635-91a5-430e-af9c-889a0446914c"
      },
      "source": [
        "%cd /content/"
      ],
      "execution_count": null,
      "outputs": [
        {
          "output_type": "stream",
          "text": [
            "/content\n"
          ],
          "name": "stdout"
        }
      ]
    },
    {
      "cell_type": "code",
      "metadata": {
        "id": "vD5o1s4Ai62r"
      },
      "source": [
        "!gunzip *.gz"
      ],
      "execution_count": null,
      "outputs": []
    },
    {
      "cell_type": "code",
      "metadata": {
        "colab": {
          "base_uri": "https://localhost:8080/"
        },
        "id": "Pxuxe1toQFda",
        "outputId": "0b7af77b-94c3-4159-d16d-b3915b3549ba"
      },
      "source": [
        "!git clone https://github.com/pachterlab/CBP_2021.git"
      ],
      "execution_count": null,
      "outputs": [
        {
          "output_type": "stream",
          "text": [
            "Cloning into 'CBP_2021'...\n",
            "remote: Enumerating objects: 358, done.\u001b[K\n",
            "remote: Counting objects: 100% (358/358), done.\u001b[K\n",
            "remote: Compressing objects: 100% (317/317), done.\u001b[K\n",
            "remote: Total 358 (delta 205), reused 91 (delta 25), pack-reused 0\u001b[K\n",
            "Receiving objects: 100% (358/358), 52.51 MiB | 23.20 MiB/s, done.\n",
            "Resolving deltas: 100% (205/205), done.\n"
          ],
          "name": "stdout"
        }
      ]
    },
    {
      "cell_type": "code",
      "metadata": {
        "colab": {
          "base_uri": "https://localhost:8080/"
        },
        "id": "UTm2fxjbQHZr",
        "outputId": "fb37fb6a-a6ec-44b0-ece5-064cc554b7f1"
      },
      "source": [
        "%cd /content/CBP_2021/scripts"
      ],
      "execution_count": null,
      "outputs": [
        {
          "output_type": "stream",
          "text": [
            "/content/CBP_2021/scripts\n"
          ],
          "name": "stdout"
        }
      ]
    },
    {
      "cell_type": "code",
      "metadata": {
        "colab": {
          "base_uri": "https://localhost:8080/"
        },
        "id": "iA-3Y-DlQOKH",
        "outputId": "be2187f3-c5db-4c81-e1e0-63802c0a13bc"
      },
      "source": [
        "!pip3 install --quiet torch\n",
        "!pip3 install --quiet anndata\n",
        "!pip3 install --quiet matplotlib\n",
        "!pip3 install --quiet scikit-learn\n",
        "!pip3 install --quiet torchsummary\n",
        "!pip install --quiet scanpy==1.7.0rc1\n",
        "!pip3 install --quiet umap-learn"
      ],
      "execution_count": null,
      "outputs": [
        {
          "output_type": "stream",
          "text": [
            "\u001b[K     |████████████████████████████████| 127 kB 7.3 MB/s \n",
            "\u001b[K     |████████████████████████████████| 10.2 MB 6.7 MB/s \n",
            "\u001b[K     |████████████████████████████████| 69 kB 6.6 MB/s \n",
            "\u001b[K     |████████████████████████████████| 63 kB 2.0 MB/s \n",
            "\u001b[?25h  Building wheel for umap-learn (setup.py) ... \u001b[?25l\u001b[?25hdone\n",
            "  Building wheel for sinfo (setup.py) ... \u001b[?25l\u001b[?25hdone\n"
          ],
          "name": "stdout"
        }
      ]
    },
    {
      "cell_type": "code",
      "metadata": {
        "id": "FzkDjbg1kram"
      },
      "source": [
        "# !pip install tbb"
      ],
      "execution_count": null,
      "outputs": []
    },
    {
      "cell_type": "markdown",
      "metadata": {
        "id": "xC275rCuQpgV"
      },
      "source": [
        "## **Install Packages**"
      ]
    },
    {
      "cell_type": "code",
      "metadata": {
        "id": "48xvpJbyQSKT"
      },
      "source": [
        "import networkx as nx\n",
        "import anndata \n",
        "import pandas as pd\n",
        "import numpy as np\n",
        "\n",
        "import visualizations as vis\n",
        "import tools as tl\n",
        "import random\n",
        "from sklearn.decomposition import TruncatedSVD\n",
        "from sklearn.manifold import TSNE\n",
        "import matplotlib.pyplot as plt\n",
        "from sklearn.neighbors import NeighborhoodComponentsAnalysis, NearestNeighbors\n",
        "from sklearn.metrics import pairwise_distances\n",
        "from sklearn.preprocessing import scale\n",
        "import torch\n",
        "import time\n",
        "import scanpy as sc\n",
        "import seaborn as sns\n",
        "import umap\n",
        "from scipy import stats\n",
        "import scipy.io as sio\n",
        "import matplotlib\n",
        "import matplotlib.patches as patches\n",
        "matplotlib.rc('axes',edgecolor='black')\n",
        "%matplotlib inline\n",
        "sc.set_figure_params(dpi=125)\n",
        "#sns.set_style('white')\n"
      ],
      "execution_count": null,
      "outputs": []
    },
    {
      "cell_type": "code",
      "metadata": {
        "id": "WXnD5O9nBeRo"
      },
      "source": [
        "sc.set_figure_params(dpi=125)"
      ],
      "execution_count": null,
      "outputs": []
    },
    {
      "cell_type": "markdown",
      "metadata": {
        "id": "7Xlo5rzVQrqM"
      },
      "source": [
        "## **Find KNN Jaccard Distances with Ambient Space in Latent Spaces**"
      ]
    },
    {
      "cell_type": "code",
      "metadata": {
        "id": "4gtBWZVoQjKh"
      },
      "source": [
        "plt.rcParams[\"font.family\"] = \"sans-serif\"\n",
        "plt.rcParams['axes.linewidth'] = 0.1\n",
        "\n",
        "state = 42\n",
        "ndims = 2\n",
        "\n",
        "data_path = '/content'\n",
        "\n",
        "pcs = 50\n",
        "n_latent = 50"
      ],
      "execution_count": null,
      "outputs": []
    },
    {
      "cell_type": "markdown",
      "metadata": {
        "id": "4_MlhgMWjK2Y"
      },
      "source": [
        "### **Make 15/50/100D Recon MCML, 15/50/100D PCA, t-SNE/UMAP from all PCAs**"
      ]
    },
    {
      "cell_type": "code",
      "metadata": {
        "id": "Bid5S69nHcV_"
      },
      "source": [
        "def getJac(orig_indices,latents, latentsLab):\n",
        "  emb = []\n",
        "\n",
        "  xs = []\n",
        "\n",
        "  ys = []\n",
        "\n",
        "  knnDF = pd.DataFrame()\n",
        "\n",
        "  for p in range(len(latents)):\n",
        "    i = latents[p]\n",
        "    l = latentLab[p]\n",
        "\n",
        "    ind = tl.getNeighbors(i, n_neigh = n_neighbors,p=1)\n",
        "\n",
        "    x,y = tl.ecdf(tl.getJaccard(orig_indices,ind))\n",
        "\n",
        "    xs += list(x)\n",
        "    ys += list(y)\n",
        "\n",
        "    emb += [l]*len(x)\n",
        "\n",
        "    print(l)\n",
        "\n",
        "    print(np.mean(tl.getJaccard(orig_indices,ind)))\n",
        "\n",
        "\n",
        "\n",
        "  knnDF['x'] = xs\n",
        "  knnDF['y'] = ys\n",
        "  knnDF['latent'] = emb\n",
        "\n",
        "  return knnDF"
      ],
      "execution_count": null,
      "outputs": []
    },
    {
      "cell_type": "code",
      "metadata": {
        "id": "W7D2zRsoJCPP"
      },
      "source": [
        "def latentComp(scaled_mat, log_mat, ndims=2, pcs=[15,50,100], rounds = 3):\n",
        "  \"\"\" Compute latent space representations as baseline for reconstruction abilities\"\"\"\n",
        "  reducer = umap.UMAP(n_components = ndims) # random_state = state\n",
        "\t#densUMAP = umap.UMAP(n_components = ndims,densmap=True)\n",
        "  tsne = TSNE(n_components = ndims) \n",
        "\n",
        "  latents = []\n",
        "  latentLab = []\n",
        "  latentType = []\n",
        "\n",
        "  orig_indices = tl.getNeighbors(log_mat, n_neigh = 30,p=1)\n",
        "\n",
        "  for i in range(rounds):\n",
        "\n",
        "    for j in pcs:\n",
        "\n",
        "      tsvd = TruncatedSVD(n_components=j)\n",
        "      x_pca = tsvd.fit_transform(scaled_mat)\n",
        "    \n",
        "      pcaUMAP = reducer.fit_transform(x_pca)\n",
        "      #pcaDensUMAP = densUMAP.fit_transform(x_pca)\n",
        "\n",
        "      pcaTSNE = tsne.fit_transform(x_pca)\n",
        "\n",
        "      latents += [x_pca,pcaTSNE, pcaUMAP]\n",
        "      latentLab += ['PCA '+str(j)+'D','PCA '+str(j)+'D t-SNE','PCA '+str(j)+'D UMAP']\n",
        "      latentType += [str(j)+'D','2D','2D']\n",
        "\n",
        "\n",
        "\n",
        "    pcaTSNE = tsne.fit_transform(x_pca)\n",
        "    pcaUMAP = reducer.fit_transform(x_pca)\n",
        "\n",
        "    tsvd = TruncatedSVD(n_components=2)\n",
        "    x_pca = tsvd.fit_transform(scaled_mat)\n",
        "\n",
        "    latents += [x_pca, pcaTSNE, pcaUMAP]\n",
        "    latentLab += ['PCA 2D','t-SNE 2D','UMAP 2D']\n",
        "    latentType += ['2D','2D','2D']\n",
        "\n",
        "  df = getJac(orig_indices,latents, latentsLab)\n",
        "\n",
        "\n",
        "  return df"
      ],
      "execution_count": null,
      "outputs": []
    },
    {
      "cell_type": "code",
      "metadata": {
        "id": "YMMhybh7MnkL"
      },
      "source": [
        "def latentPCAComp(scaled_mat, ndims=2, pcs=[15,50,100], rounds = 3):\n",
        "  \"\"\" Compute latent space representations as baseline for reconstruction abilities\"\"\"\n",
        "  reducer = umap.UMAP(n_components = ndims) # random_state = state\n",
        "\t#densUMAP = umap.UMAP(n_components = ndims,densmap=True)\n",
        "  tsne = TSNE(n_components = ndims) \n",
        "\n",
        "  latents = []\n",
        "  latentLab = []\n",
        "  latentType = []\n",
        "\n",
        "  frames = []\n",
        "\n",
        "  for j in pcs:\n",
        "\n",
        "    tsvd = TruncatedSVD(n_components=j)\n",
        "    x_pca = tsvd.fit_transform(scaled_mat)\n",
        "    \n",
        "    orig_indices = tl.getNeighbors(x_pca, n_neigh = 30,p=1)\n",
        "\n",
        "    for i in range(rounds):\n",
        "\n",
        "      \n",
        "      pcaUMAP = reducer.fit_transform(x_pca)\n",
        "      #pcaDensUMAP = densUMAP.fit_transform(x_pca)\n",
        "\n",
        "      pcaTSNE = tsne.fit_transform(x_pca)\n",
        "\n",
        "      latents += [pcaTSNE, pcaUMAP]\n",
        "      latentLab += ['PCA '+str(j)+'D t-SNE','PCA '+str(j)+'D UMAP']\n",
        "      latentType += ['2D','2D']\n",
        "\n",
        "      frames += [getJac(orig_indices,latents, latentsLab)]\n",
        "\n",
        "      res = pd.concat(frames)\n",
        "\n",
        "\n",
        "  return res"
      ],
      "execution_count": null,
      "outputs": []
    },
    {
      "cell_type": "code",
      "metadata": {
        "id": "gtaqPOuvO_jh"
      },
      "source": [
        ""
      ],
      "execution_count": null,
      "outputs": []
    },
    {
      "cell_type": "markdown",
      "metadata": {
        "id": "E4m0-CPOIuRk"
      },
      "source": [
        "### **Read in Data**"
      ]
    },
    {
      "cell_type": "markdown",
      "metadata": {
        "id": "O78N4hdovuzl"
      },
      "source": [
        "Read in 10x VMH data"
      ]
    },
    {
      "cell_type": "code",
      "metadata": {
        "colab": {
          "base_uri": "https://localhost:8080/"
        },
        "id": "NtpIixyGFiMw",
        "outputId": "1cfd32a6-33f1-47a1-a115-26a0181cef68"
      },
      "source": [
        "count_mat = sio.mmread(data_path+'/tenx.mtx')\n",
        "count_mat.shape"
      ],
      "execution_count": null,
      "outputs": [
        {
          "output_type": "execute_result",
          "data": {
            "text/plain": [
              "(41580, 1999)"
            ]
          },
          "metadata": {},
          "execution_count": 70
        }
      ]
    },
    {
      "cell_type": "code",
      "metadata": {
        "id": "6syqIPjmKnyC"
      },
      "source": [
        "#Center and scale log-normalized data\n",
        "scaled_mat = scale(count_mat)"
      ],
      "execution_count": null,
      "outputs": []
    },
    {
      "cell_type": "code",
      "metadata": {
        "colab": {
          "base_uri": "https://localhost:8080/",
          "height": 224
        },
        "id": "rhXu1NykGOOf",
        "outputId": "3eeb765b-6d21-4703-a44f-598f1f53b98a"
      },
      "source": [
        "meta = pd.read_csv(data_path+'/tenxmetadata.csv',index_col = 0)\n",
        "meta.head()"
      ],
      "execution_count": null,
      "outputs": [
        {
          "output_type": "execute_result",
          "data": {
            "text/html": [
              "<div>\n",
              "<style scoped>\n",
              "    .dataframe tbody tr th:only-of-type {\n",
              "        vertical-align: middle;\n",
              "    }\n",
              "\n",
              "    .dataframe tbody tr th {\n",
              "        vertical-align: top;\n",
              "    }\n",
              "\n",
              "    .dataframe thead th {\n",
              "        text-align: right;\n",
              "    }\n",
              "</style>\n",
              "<table border=\"1\" class=\"dataframe\">\n",
              "  <thead>\n",
              "    <tr style=\"text-align: right;\">\n",
              "      <th></th>\n",
              "      <th>sample_name</th>\n",
              "      <th>cell_barcode</th>\n",
              "      <th>cluster_color</th>\n",
              "      <th>cluster</th>\n",
              "      <th>cluster_id</th>\n",
              "      <th>cell_types</th>\n",
              "      <th>sex_label</th>\n",
              "      <th>batch_indices</th>\n",
              "      <th>cell_counts</th>\n",
              "      <th>n_genes</th>\n",
              "      <th>percent_mito</th>\n",
              "      <th>pass_count_filter</th>\n",
              "      <th>pass_mito_filter</th>\n",
              "    </tr>\n",
              "  </thead>\n",
              "  <tbody>\n",
              "    <tr>\n",
              "      <th>0</th>\n",
              "      <td>10x_VMH_Female_Control_1</td>\n",
              "      <td>4_AAACCTGAGCGCCTCA</td>\n",
              "      <td>#9162FF</td>\n",
              "      <td>Nr5a1_4</td>\n",
              "      <td>24.0</td>\n",
              "      <td>undefined</td>\n",
              "      <td>F</td>\n",
              "      <td>0</td>\n",
              "      <td>1427.0</td>\n",
              "      <td>926</td>\n",
              "      <td>13.594954</td>\n",
              "      <td>True</td>\n",
              "      <td>False</td>\n",
              "    </tr>\n",
              "    <tr>\n",
              "      <th>1</th>\n",
              "      <td>10x_VMH_Female_Control_1</td>\n",
              "      <td>4_AAACCTGCACAGTCGC</td>\n",
              "      <td>#96FF2E</td>\n",
              "      <td>Tsix_Esr1_1</td>\n",
              "      <td>3.0</td>\n",
              "      <td>undefined</td>\n",
              "      <td>F</td>\n",
              "      <td>0</td>\n",
              "      <td>4508.0</td>\n",
              "      <td>2310</td>\n",
              "      <td>9.272405</td>\n",
              "      <td>True</td>\n",
              "      <td>False</td>\n",
              "    </tr>\n",
              "    <tr>\n",
              "      <th>2</th>\n",
              "      <td>10x_VMH_Female_Control_1</td>\n",
              "      <td>4_AAACCTGCAGATTGCT</td>\n",
              "      <td>#66ABC2</td>\n",
              "      <td>Dlk1_3</td>\n",
              "      <td>16.0</td>\n",
              "      <td>undefined</td>\n",
              "      <td>F</td>\n",
              "      <td>0</td>\n",
              "      <td>3447.0</td>\n",
              "      <td>1995</td>\n",
              "      <td>5.483029</td>\n",
              "      <td>True</td>\n",
              "      <td>False</td>\n",
              "    </tr>\n",
              "    <tr>\n",
              "      <th>3</th>\n",
              "      <td>10x_VMH_Female_Control_1</td>\n",
              "      <td>4_AAACCTGCATACTCTT</td>\n",
              "      <td>#96FF2E</td>\n",
              "      <td>Tsix_Esr1_1</td>\n",
              "      <td>3.0</td>\n",
              "      <td>undefined</td>\n",
              "      <td>F</td>\n",
              "      <td>0</td>\n",
              "      <td>7004.0</td>\n",
              "      <td>3286</td>\n",
              "      <td>4.483152</td>\n",
              "      <td>True</td>\n",
              "      <td>True</td>\n",
              "    </tr>\n",
              "    <tr>\n",
              "      <th>4</th>\n",
              "      <td>10x_VMH_Female_Control_1</td>\n",
              "      <td>4_AAACCTGGTCCGTTAA</td>\n",
              "      <td>#24EFCD</td>\n",
              "      <td>Scgn</td>\n",
              "      <td>20.0</td>\n",
              "      <td>undefined</td>\n",
              "      <td>F</td>\n",
              "      <td>0</td>\n",
              "      <td>2490.0</td>\n",
              "      <td>1492</td>\n",
              "      <td>9.277108</td>\n",
              "      <td>True</td>\n",
              "      <td>False</td>\n",
              "    </tr>\n",
              "  </tbody>\n",
              "</table>\n",
              "</div>"
            ],
            "text/plain": [
              "                sample_name  ... pass_mito_filter\n",
              "0  10x_VMH_Female_Control_1  ...            False\n",
              "1  10x_VMH_Female_Control_1  ...            False\n",
              "2  10x_VMH_Female_Control_1  ...            False\n",
              "3  10x_VMH_Female_Control_1  ...             True\n",
              "4  10x_VMH_Female_Control_1  ...            False\n",
              "\n",
              "[5 rows x 13 columns]"
            ]
          },
          "metadata": {},
          "execution_count": 72
        }
      ]
    },
    {
      "cell_type": "code",
      "metadata": {
        "colab": {
          "base_uri": "https://localhost:8080/"
        },
        "id": "SuLCIFXnW52W",
        "outputId": "c0456950-79b3-4ec8-8851-3d528db6f787"
      },
      "source": [
        "meta.sex_label.value_counts()[0]/meta.sex_label.value_counts()[1]"
      ],
      "execution_count": null,
      "outputs": [
        {
          "output_type": "execute_result",
          "data": {
            "text/plain": [
              "3.829829248460913"
            ]
          },
          "metadata": {},
          "execution_count": 73
        }
      ]
    },
    {
      "cell_type": "code",
      "metadata": {
        "id": "R2LjG72zkvzU"
      },
      "source": [
        "lab1 = list(meta.cluster)\n",
        "lab2 = list(meta.sex_label)\n",
        "lab3 = list(meta.sample_name)\n",
        "\n",
        "\n",
        "allLabs = np.array([lab1,lab2])\n",
        "\n",
        "nanLabs = np.array([[np.nan]*len(lab1)])\n",
        "\n",
        "#Shuffled labels for over-fitting check\n",
        "shuff_lab1 = random.sample(lab1, len(lab1))  \n",
        "shuff_lab2 = random.sample(lab2, len(lab2))  \n",
        "shuff_allLabs = np.array([shuff_lab1,shuff_lab2])\n",
        "\n",
        "clus_colors = list(pd.unique(meta.cluster_color))\n",
        "\n",
        "sex_colors = ['#F8C471','#abacb7']"
      ],
      "execution_count": null,
      "outputs": []
    },
    {
      "cell_type": "code",
      "metadata": {
        "id": "YcE4wg1AdDMz",
        "colab": {
          "base_uri": "https://localhost:8080/"
        },
        "outputId": "174b6300-17fb-4f51-8045-b1fe365bbb25"
      },
      "source": [
        "#Get KNN Jaccard distances\n",
        "tenxAmb = latentComp(scaled_mat,count_mat, ndims=2, pcs=[15,50,100], rounds = 3)\n",
        "print(tenxAmb.head())\n",
        "tenxPCAAmb = latentPCAComp(scaled_mat, ndims=2, pcs=[15,50,100], rounds = 3)\n",
        "print(tenxPCAAmb.head())"
      ],
      "execution_count": null,
      "outputs": [
        {
          "output_type": "stream",
          "text": [
            "/usr/local/lib/python3.7/dist-packages/numba/np/ufunc/parallel.py:363: NumbaWarning: The TBB threading layer requires TBB version 2019.5 or later i.e., TBB_INTERFACE_VERSION >= 11005. Found TBB_INTERFACE_VERSION = 9107. The TBB threading layer is disabled.\n",
            "  warnings.warn(problem)\n"
          ],
          "name": "stderr"
        }
      ]
    },
    {
      "cell_type": "markdown",
      "metadata": {
        "id": "mxo06MbxQh8x"
      },
      "source": [
        "**Read in SMART-Seq VMH data**"
      ]
    },
    {
      "cell_type": "code",
      "metadata": {
        "colab": {
          "base_uri": "https://localhost:8080/"
        },
        "id": "CBLRYVLtaH8C",
        "outputId": "697451d8-2912-4303-a974-35c2dcbf2503"
      },
      "source": [
        "count_mat = sio.mmread(data_path+'/smartseq.mtx')\n",
        "count_mat.shape"
      ],
      "execution_count": null,
      "outputs": [
        {
          "output_type": "execute_result",
          "data": {
            "text/plain": [
              "(3850, 1999)"
            ]
          },
          "metadata": {},
          "execution_count": 11
        }
      ]
    },
    {
      "cell_type": "code",
      "metadata": {
        "id": "3PGhydkraH8D"
      },
      "source": [
        "#Center and scale log-normalized data\n",
        "scaled_mat = scale(count_mat)"
      ],
      "execution_count": null,
      "outputs": []
    },
    {
      "cell_type": "code",
      "metadata": {
        "colab": {
          "base_uri": "https://localhost:8080/",
          "height": 204
        },
        "id": "YF8SGznEaH8D",
        "outputId": "bac0a909-f4c5-4673-fddf-4c2a4394ba12"
      },
      "source": [
        "meta = pd.read_csv(data_path+'/smartmetadata.csv',index_col = 0)\n",
        "meta.head()"
      ],
      "execution_count": null,
      "outputs": [
        {
          "output_type": "execute_result",
          "data": {
            "text/html": [
              "<div>\n",
              "<style scoped>\n",
              "    .dataframe tbody tr th:only-of-type {\n",
              "        vertical-align: middle;\n",
              "    }\n",
              "\n",
              "    .dataframe tbody tr th {\n",
              "        vertical-align: top;\n",
              "    }\n",
              "\n",
              "    .dataframe thead th {\n",
              "        text-align: right;\n",
              "    }\n",
              "</style>\n",
              "<table border=\"1\" class=\"dataframe\">\n",
              "  <thead>\n",
              "    <tr style=\"text-align: right;\">\n",
              "      <th></th>\n",
              "      <th>sample_name</th>\n",
              "      <th>smartseq_cluster_id</th>\n",
              "      <th>smartseq_cluster</th>\n",
              "      <th>sex_label</th>\n",
              "      <th>smartseq_cluster_color</th>\n",
              "      <th>medical_cond_label</th>\n",
              "      <th>cell_counts</th>\n",
              "      <th>n_genes</th>\n",
              "      <th>percent_mito</th>\n",
              "      <th>pass_count_filter</th>\n",
              "      <th>pass_mito_filter</th>\n",
              "    </tr>\n",
              "  </thead>\n",
              "  <tbody>\n",
              "    <tr>\n",
              "      <th>SM-GE4R2_S062_E1-50</th>\n",
              "      <td>SM-GE4R2_S062_E1-50</td>\n",
              "      <td>46</td>\n",
              "      <td>Nr5a1_9|11 Rorb</td>\n",
              "      <td>M</td>\n",
              "      <td>#6C39A6</td>\n",
              "      <td>behavior - none</td>\n",
              "      <td>964371.56</td>\n",
              "      <td>9772</td>\n",
              "      <td>0.0</td>\n",
              "      <td>True</td>\n",
              "      <td>True</td>\n",
              "    </tr>\n",
              "    <tr>\n",
              "      <th>SM-GE4SI_S356_E1-50</th>\n",
              "      <td>SM-GE4SI_S356_E1-50</td>\n",
              "      <td>46</td>\n",
              "      <td>Nr5a1_9|11 Rorb</td>\n",
              "      <td>M</td>\n",
              "      <td>#6C39A6</td>\n",
              "      <td>behavior - none</td>\n",
              "      <td>973072.06</td>\n",
              "      <td>8253</td>\n",
              "      <td>0.0</td>\n",
              "      <td>True</td>\n",
              "      <td>True</td>\n",
              "    </tr>\n",
              "    <tr>\n",
              "      <th>SM-GE4SI_S172_E1-50</th>\n",
              "      <td>SM-GE4SI_S172_E1-50</td>\n",
              "      <td>46</td>\n",
              "      <td>Nr5a1_9|11 Rorb</td>\n",
              "      <td>M</td>\n",
              "      <td>#6C39A6</td>\n",
              "      <td>behavior - none</td>\n",
              "      <td>977132.60</td>\n",
              "      <td>9394</td>\n",
              "      <td>0.0</td>\n",
              "      <td>True</td>\n",
              "      <td>True</td>\n",
              "    </tr>\n",
              "    <tr>\n",
              "      <th>LS-15034_S07_E1-50</th>\n",
              "      <td>LS-15034_S07_E1-50</td>\n",
              "      <td>42</td>\n",
              "      <td>Nr5a1_4|7 Glipr1</td>\n",
              "      <td>M</td>\n",
              "      <td>#763BFF</td>\n",
              "      <td>behavior - none</td>\n",
              "      <td>948605.44</td>\n",
              "      <td>10643</td>\n",
              "      <td>0.0</td>\n",
              "      <td>True</td>\n",
              "      <td>True</td>\n",
              "    </tr>\n",
              "    <tr>\n",
              "      <th>LS-15034_S28_E1-50</th>\n",
              "      <td>LS-15034_S28_E1-50</td>\n",
              "      <td>42</td>\n",
              "      <td>Nr5a1_4|7 Glipr1</td>\n",
              "      <td>F</td>\n",
              "      <td>#763BFF</td>\n",
              "      <td>behavior - none</td>\n",
              "      <td>951803.00</td>\n",
              "      <td>10550</td>\n",
              "      <td>0.0</td>\n",
              "      <td>True</td>\n",
              "      <td>True</td>\n",
              "    </tr>\n",
              "  </tbody>\n",
              "</table>\n",
              "</div>"
            ],
            "text/plain": [
              "                             sample_name  ...  pass_mito_filter\n",
              "SM-GE4R2_S062_E1-50  SM-GE4R2_S062_E1-50  ...              True\n",
              "SM-GE4SI_S356_E1-50  SM-GE4SI_S356_E1-50  ...              True\n",
              "SM-GE4SI_S172_E1-50  SM-GE4SI_S172_E1-50  ...              True\n",
              "LS-15034_S07_E1-50    LS-15034_S07_E1-50  ...              True\n",
              "LS-15034_S28_E1-50    LS-15034_S28_E1-50  ...              True\n",
              "\n",
              "[5 rows x 11 columns]"
            ]
          },
          "metadata": {},
          "execution_count": 13
        }
      ]
    },
    {
      "cell_type": "code",
      "metadata": {
        "colab": {
          "base_uri": "https://localhost:8080/"
        },
        "id": "UDQbv9qAXJfg",
        "outputId": "54213457-be4d-446d-f54c-b244e426d3d2"
      },
      "source": [
        "print(meta.sex_label.value_counts()[0]/meta.sex_label.value_counts()[1])\n",
        "print(meta.sex_label.value_counts()[1])"
      ],
      "execution_count": null,
      "outputs": [
        {
          "output_type": "stream",
          "text": [
            "7.406113537117904\n",
            "458\n"
          ],
          "name": "stdout"
        }
      ]
    },
    {
      "cell_type": "code",
      "metadata": {
        "id": "acze0V4LTZes"
      },
      "source": [
        "lab1 = list(meta.smartseq_cluster)\n",
        "lab2 = list(meta.sex_label)\n",
        "lab3 = list(meta.medical_cond_label)\n",
        "\n",
        "\n",
        "allLabs = np.array([lab1,lab2])\n",
        "\n",
        "nanLabs = np.array([[np.nan]*len(lab1)])\n",
        "\n",
        "#Shuffled labels for over-fitting check\n",
        "shuff_lab1 = random.sample(lab1, len(lab1))  \n",
        "shuff_lab2 = random.sample(lab2, len(lab2))  \n",
        "shuff_allLabs = np.array([shuff_lab1,shuff_lab2])\n",
        "\n",
        "clus_colors = list(pd.unique(meta.smartseq_cluster_color))\n",
        "\n",
        "sex_colors = ['#abacb7','#F8C471']"
      ],
      "execution_count": null,
      "outputs": []
    },
    {
      "cell_type": "code",
      "metadata": {
        "id": "CtiGWRGpQkDQ"
      },
      "source": [
        ""
      ],
      "execution_count": null,
      "outputs": []
    },
    {
      "cell_type": "code",
      "metadata": {
        "id": "jtT71OsMQkFw"
      },
      "source": [
        "#Get KNN Jaccard distances\n",
        "smartAmb = latentComp(scaled_mat,count_mat, ndims=2, pcs=[15,50,100], rounds = 3)\n",
        "print(smartAmb.head())\n",
        "smartPCAAmb = latentPCAComp(scaled_mat, ndims=2, pcs=[15,50,100], rounds = 3)\n",
        "print(smartPCAAmb.head())"
      ],
      "execution_count": null,
      "outputs": []
    },
    {
      "cell_type": "markdown",
      "metadata": {
        "id": "K_oDzPS6QrNW"
      },
      "source": [
        "**Read in MERFISH Data**"
      ]
    },
    {
      "cell_type": "code",
      "metadata": {
        "colab": {
          "base_uri": "https://localhost:8080/"
        },
        "id": "vIFNIqgjYGlo",
        "outputId": "86808507-5f41-43e9-d2c8-6529ce475000"
      },
      "source": [
        "counts = anndata.read(data_path+'/counts.h5ad')\n",
        "print(counts)\n",
        "\n",
        "cellMeta = pd.read_csv(data_path+'/metadata.csv')\n",
        "print(cellMeta.head())"
      ],
      "execution_count": null,
      "outputs": [
        {
          "output_type": "stream",
          "text": [
            "AnnData object with n_obs × n_vars = 280327 × 254\n",
            "     Unnamed: 0  fovID     fov_x  ...     label     subclass    class_label\n",
            "0  1.000010e+37     13  4539.310  ...   Astro_1   Astrocytes          Other\n",
            "1  1.000020e+38    290 -4016.860  ...      Endo  Endothelial          Other\n",
            "2  1.000070e+38    113   750.406  ...       SMC          SMC          Other\n",
            "3  1.000070e+38    432  1262.680  ...      Endo  Endothelial          Other\n",
            "4  1.000090e+38    354 -3627.450  ...  L23_IT_3       L23_IT  Glutamatergic\n",
            "\n",
            "[5 rows x 12 columns]\n"
          ],
          "name": "stdout"
        }
      ]
    },
    {
      "cell_type": "code",
      "metadata": {
        "colab": {
          "base_uri": "https://localhost:8080/"
        },
        "id": "PiE-MLBPe99h",
        "outputId": "91755c01-7af5-4265-9184-7c6252301356"
      },
      "source": [
        "cellMeta.columns"
      ],
      "execution_count": null,
      "outputs": [
        {
          "output_type": "execute_result",
          "data": {
            "text/plain": [
              "Index(['Unnamed: 0', 'fovID', 'fov_x', 'fov_y', 'volume', 'center_x',\n",
              "       'center_y', 'slice_id', 'sample_id', 'label', 'subclass',\n",
              "       'class_label'],\n",
              "      dtype='object')"
            ]
          },
          "metadata": {},
          "execution_count": 19
        }
      ]
    },
    {
      "cell_type": "code",
      "metadata": {
        "colab": {
          "base_uri": "https://localhost:8080/",
          "height": 35
        },
        "id": "Bpjx6SNMY_JE",
        "outputId": "71a4b3ba-60cc-47ac-ac72-5a6773d42abc"
      },
      "source": [
        "choice = np.unique(cellMeta.slice_id)[7] #7\n",
        "choice"
      ],
      "execution_count": null,
      "outputs": [
        {
          "output_type": "execute_result",
          "data": {
            "application/vnd.google.colaboratory.intrinsic+json": {
              "type": "string"
            },
            "text/plain": [
              "'mouse1_slice162'"
            ]
          },
          "metadata": {},
          "execution_count": 20
        }
      ]
    },
    {
      "cell_type": "code",
      "metadata": {
        "id": "8_nNHSLjY_sT"
      },
      "source": [
        "counts.obs['slice'] = pd.Categorical(cellMeta.slice_id)\n",
        "counts.obs['type'] = pd.Categorical(cellMeta.subclass)\n",
        "counts.obs['x'] = list(cellMeta.center_x)\n",
        "counts.obs['y'] = list(cellMeta.center_y)\n"
      ],
      "execution_count": null,
      "outputs": []
    },
    {
      "cell_type": "code",
      "metadata": {
        "id": "_EiPasMqfDlF",
        "colab": {
          "base_uri": "https://localhost:8080/"
        },
        "outputId": "db6b4a18-1894-4a2b-954b-55a47c7aa148"
      },
      "source": [
        "sub = counts[counts.obs['slice'].isin([choice])]\n",
        "print(sub)\n",
        "\n",
        "colors = np.random.rand(len(sub.obs['type']),3)\n",
        "nanLabs = np.array([[np.nan]*len(sub.obs['type'])])\n",
        "\n",
        "labs = np.array([list(sub.obs['type'])])\n",
        "labs_cont = np.array([list(sub.obs['x']),list(sub.obs['y'])])"
      ],
      "execution_count": null,
      "outputs": [
        {
          "output_type": "stream",
          "text": [
            "View of AnnData object with n_obs × n_vars = 6963 × 254\n",
            "    obs: 'slice', 'type', 'x', 'y'\n"
          ],
          "name": "stdout"
        }
      ]
    },
    {
      "cell_type": "markdown",
      "metadata": {
        "id": "rLbg_eYQa8pm"
      },
      "source": [
        "Make log-normalized, and scaled count matrices (separately)"
      ]
    },
    {
      "cell_type": "code",
      "metadata": {
        "id": "2utjpJoWfRfx"
      },
      "source": [
        "orig_mat = sub.X"
      ],
      "execution_count": null,
      "outputs": []
    },
    {
      "cell_type": "code",
      "metadata": {
        "id": "rtRbRvW8fUXk"
      },
      "source": [
        "log_mat = np.log1p(sub.X)"
      ],
      "execution_count": null,
      "outputs": []
    },
    {
      "cell_type": "code",
      "metadata": {
        "colab": {
          "base_uri": "https://localhost:8080/"
        },
        "id": "faGWyj6Xga1-",
        "outputId": "4fc4f05f-4c36-47dc-93b4-88a223bc81d3"
      },
      "source": [
        "sc.pp.log1p(sub)\n",
        "\n",
        "#Center scale\n",
        "sc.pp.scale(sub, max_value=10)\n",
        "\n",
        "scaled_mat = sub.X"
      ],
      "execution_count": null,
      "outputs": [
        {
          "output_type": "stream",
          "text": [
            "/usr/local/lib/python3.7/dist-packages/scanpy/preprocessing/_simple.py:339: UserWarning: Revieved a view of an AnnData. Making a copy.\n",
            "  view_to_actual(adata)\n"
          ],
          "name": "stderr"
        }
      ]
    },
    {
      "cell_type": "code",
      "metadata": {
        "id": "zOJNtNj5QtLa"
      },
      "source": [
        ""
      ],
      "execution_count": null,
      "outputs": []
    },
    {
      "cell_type": "code",
      "metadata": {
        "id": "s9kZl0AHQtOK"
      },
      "source": [
        "#Get KNN Jaccard distances\n",
        "merAmb = latentComp(scaled_mat,log_mat, ndims=2, pcs=[15,50,100], rounds = 3)\n",
        "print(merAmb.head())\n",
        "merPCAAmb = latentPCAComp(scaled_mat, ndims=2, pcs=[15,50,100], rounds = 3)\n",
        "print(merPCAAmb.head())"
      ],
      "execution_count": null,
      "outputs": []
    },
    {
      "cell_type": "markdown",
      "metadata": {
        "id": "L69aixNDSx7B"
      },
      "source": [
        "**Read in Ex-Utero E8.5 Data**"
      ]
    },
    {
      "cell_type": "code",
      "metadata": {
        "id": "bFpcuY73LWrN"
      },
      "source": [
        "cell_types = {'0': 'Blood', '1': 'Mixed Mesoderm', '2': 'Foregut', '3': 'Cardiac', '4': 'Mid Hind Brain',\n",
        "'5': 'Endothelial', '6': 'Presomitic Mesoderm', '7':'Amnion', '8':'Extra-Embryonic Endoderm', '9':'Pharyngeal Mesoderm',\n",
        "'10': 'Extra-Embryonic Ectoderm', '11': 'Blood' , '12':'Placodes', '13': 'Neural Tube', '14':'Extra-Embryonic Mesoderm',\n",
        "'15':'Somitic Mesoderm', '16':'Neural Crest', '17':'Amnion', '18':'Mid Hind Gut'}"
      ],
      "execution_count": null,
      "outputs": []
    },
    {
      "cell_type": "markdown",
      "metadata": {
        "id": "YXAC9EKJdmS1"
      },
      "source": [
        "Reading in log-normalized counts only"
      ]
    },
    {
      "cell_type": "code",
      "metadata": {
        "id": "aMu70on0YTIV",
        "colab": {
          "base_uri": "https://localhost:8080/"
        },
        "outputId": "0610d690-b65d-48e5-9b30-f201c9c9536b"
      },
      "source": [
        "counts = pd.read_csv(data_path+'/GSE149372_scRNA.normalized.assay85.csv',index_col=0)\n",
        "print(counts.head())\n",
        "\n",
        "cellMeta = pd.read_csv(data_path+'/GSE149372_scRNA.MetaData.85.csv')\n",
        "print(cellMeta.head())"
      ],
      "execution_count": null,
      "outputs": [
        {
          "output_type": "stream",
          "text": [
            "        AAACGAAAGTCCCGAC-1  ...  TTTGTTGGTTGCGGAA-4\n",
            "Xkr4              0.000000  ...                 0.0\n",
            "Rp1               0.000000  ...                 0.0\n",
            "Sox17             0.000000  ...                 0.0\n",
            "Mrpl15            1.175618  ...                 0.0\n",
            "Lypla1            0.751450  ...                 0.0\n",
            "\n",
            "[5 rows x 10290 columns]\n",
            "           Unnamed: 0 orig.ident  ...  seurat_clusters  integrated_snn_res.0.5\n",
            "0  AAACGAAAGTCCCGAC-1       p8.5  ...               13                      13\n",
            "1  AAACGAAGTCGAGTTT-1       p8.5  ...               15                      15\n",
            "2  AAACGCTAGGACTTCT-1       p8.5  ...               10                      10\n",
            "3  AAACGCTCAACGCCCA-1       p8.5  ...               12                      12\n",
            "4  AAACGCTTCTGTGCGG-1       p8.5  ...                8                       8\n",
            "\n",
            "[5 rows x 9 columns]\n"
          ],
          "name": "stdout"
        }
      ]
    },
    {
      "cell_type": "code",
      "metadata": {
        "id": "O3x2XhtxYTSm"
      },
      "source": [
        "#Center and scale log-normalized data\n",
        "count_mat = counts.values.T"
      ],
      "execution_count": null,
      "outputs": []
    },
    {
      "cell_type": "code",
      "metadata": {
        "id": "iIIoi_Q4YTXk",
        "colab": {
          "base_uri": "https://localhost:8080/"
        },
        "outputId": "a853097f-1422-42f8-9d53-2cc48d778316"
      },
      "source": [
        "adata = anndata.AnnData(X = count_mat)\n",
        "adata.obs_names = list(counts.columns)\n",
        "adata.var_names = list(counts.index)\n",
        "adata.obs['Utero'] = pd.Categorical(cellMeta.Utero)\n",
        "adata.obs['Cluster'] = pd.Categorical(cellMeta.seurat_clusters)\n",
        "adata"
      ],
      "execution_count": null,
      "outputs": [
        {
          "output_type": "execute_result",
          "data": {
            "text/plain": [
              "AnnData object with n_obs × n_vars = 10290 × 19588\n",
              "    obs: 'Utero', 'Cluster'"
            ]
          },
          "metadata": {},
          "execution_count": 16
        }
      ]
    },
    {
      "cell_type": "code",
      "metadata": {
        "id": "2ni_VXd3GuiF",
        "colab": {
          "base_uri": "https://localhost:8080/"
        },
        "outputId": "277a8113-6f9a-4132-bdfd-6aae4c79ef83"
      },
      "source": [
        "exAdata = adata[adata.obs['Utero']=='ExUt']\n",
        "inAdata = adata[adata.obs['Utero']=='InUt']\n",
        "exAdata"
      ],
      "execution_count": null,
      "outputs": [
        {
          "output_type": "execute_result",
          "data": {
            "text/plain": [
              "View of AnnData object with n_obs × n_vars = 6205 × 19588\n",
              "    obs: 'Utero', 'Cluster'"
            ]
          },
          "metadata": {},
          "execution_count": 17
        }
      ]
    },
    {
      "cell_type": "code",
      "metadata": {
        "id": "4ZNFM0WXYSsC"
      },
      "source": [
        "#In paper, use top 2000 HVGs and 15 PCs\n",
        "def scaleAdata(adata):\n",
        "  sc.pp.filter_cells(adata, min_counts=0)\n",
        "  sc.pp.filter_genes(adata, min_counts=0)\n",
        "\n",
        "\n",
        "  sc.pp.highly_variable_genes(adata,n_top_genes=2000)\n",
        "\n",
        "  adata = adata[:,adata.var['highly_variable']]\n",
        "  adata.obsm['log'] = adata.X\n",
        "\n",
        "  sc.pp.scale(adata, max_value=10)\n",
        "  return adata"
      ],
      "execution_count": null,
      "outputs": []
    },
    {
      "cell_type": "code",
      "metadata": {
        "id": "8ubNleWpHYG7",
        "colab": {
          "base_uri": "https://localhost:8080/"
        },
        "outputId": "b5234008-c405-4c48-9996-68995887e4b0"
      },
      "source": [
        "adata = scaleAdata(adata)\n",
        "exAdata = scaleAdata(exAdata)\n",
        "inAdata = scaleAdata(inAdata)"
      ],
      "execution_count": null,
      "outputs": [
        {
          "output_type": "stream",
          "text": [
            "Trying to set attribute `.obs` of view, copying.\n",
            "Trying to set attribute `.obs` of view, copying.\n"
          ],
          "name": "stderr"
        }
      ]
    },
    {
      "cell_type": "code",
      "metadata": {
        "id": "eW3fQ_sdereM"
      },
      "source": [
        "toUseAdata = exAdata\n",
        "count_mat = toUseAdata.obsm['log']\n",
        "scaled_mat = toUseAdata.X"
      ],
      "execution_count": null,
      "outputs": []
    },
    {
      "cell_type": "code",
      "metadata": {
        "id": "6aPfN4POcJPI"
      },
      "source": [
        "#Set colors for cell clusters\n",
        "colors = np.random.rand(len(toUseAdata.obs['Cluster']),3)\n",
        "\n",
        "labs = np.array([list(toUseAdata.obs['Cluster']),list(toUseAdata.obs['Utero'])])\n",
        "\n",
        "# adata.obs['Cluster'].value_counts()"
      ],
      "execution_count": null,
      "outputs": []
    },
    {
      "cell_type": "code",
      "metadata": {
        "id": "rIVNruRDS24w"
      },
      "source": [
        ""
      ],
      "execution_count": null,
      "outputs": []
    },
    {
      "cell_type": "code",
      "metadata": {
        "id": "iTOXDaaDS2-z"
      },
      "source": [
        "#Get KNN Jaccard distances\n",
        "exAmb = latentComp(scaled_mat,count_mat, ndims=2, pcs=[15,50,100], rounds = 3)\n",
        "print(exAmb.head())\n",
        "exPCAAmb = latentPCAComp(scaled_mat, ndims=2, pcs=[15,50,100], rounds = 3)\n",
        "print(exPCAAmb.head())"
      ],
      "execution_count": null,
      "outputs": []
    },
    {
      "cell_type": "markdown",
      "metadata": {
        "id": "xuA0N7pkQAqT"
      },
      "source": [
        "Read in Integrated Utero E10.5 Data"
      ]
    },
    {
      "cell_type": "code",
      "metadata": {
        "id": "4mmjv_09KBsq"
      },
      "source": [
        "def readLgMat(fname, data_path='/content'):\n",
        "\n",
        "  col_names = pd.read_csv(data_path+fname, nrows=0).columns\n",
        "  types_dict = {'Unnamed: 0': str}\n",
        "  types_dict.update({col: np.float16 for col in col_names if col not in types_dict})\n",
        "\n",
        "  chunk = pd.read_csv(data_path+fname,chunksize=1000,index_col=0,dtype=types_dict)\n",
        "  counts = pd.concat(chunk)\n",
        "\n",
        "  return counts"
      ],
      "execution_count": null,
      "outputs": []
    },
    {
      "cell_type": "markdown",
      "metadata": {
        "id": "aoHxGK28bWSV"
      },
      "source": [
        "*Read in Seurat-Integrated, 'Variance-Stabilized' and Scaled counts*"
      ]
    },
    {
      "cell_type": "code",
      "metadata": {
        "id": "641jPHt567IM",
        "colab": {
          "base_uri": "https://localhost:8080/",
          "height": 296
        },
        "outputId": "d6726f91-1b5a-4c7f-c866-0ad0db5fe8e8"
      },
      "source": [
        "# fname = '/GSE149372_GSM5068636-GSM5068641_scRNA.integrated.scaled.assay105.csv' #'/GSE149372_GSM5068636-GSM5068641_scRNA.normalized.assay105.csv'\n",
        "\n",
        "counts = readLgMat('/GSE149372_GSM5068636-GSM5068641_scRNA.integrated.scaled.assay105.csv')\n",
        "counts.head()"
      ],
      "execution_count": null,
      "outputs": [
        {
          "data": {
            "text/html": [
              "<div>\n",
              "<style scoped>\n",
              "    .dataframe tbody tr th:only-of-type {\n",
              "        vertical-align: middle;\n",
              "    }\n",
              "\n",
              "    .dataframe tbody tr th {\n",
              "        vertical-align: top;\n",
              "    }\n",
              "\n",
              "    .dataframe thead th {\n",
              "        text-align: right;\n",
              "    }\n",
              "</style>\n",
              "<table border=\"1\" class=\"dataframe\">\n",
              "  <thead>\n",
              "    <tr style=\"text-align: right;\">\n",
              "      <th></th>\n",
              "      <th>AAACCCAAGCCTCACG-1</th>\n",
              "      <th>AAACCCAAGCTCGACC-1</th>\n",
              "      <th>AAACCCAAGTTAACAG-1</th>\n",
              "      <th>AAACCCACACCATATG-1</th>\n",
              "      <th>AAACCCAGTCACGCTG-1</th>\n",
              "      <th>AAACCCAGTGCGTTTA-1</th>\n",
              "      <th>AAACCCAGTGGCTCTG-1</th>\n",
              "      <th>AAACCCATCCCATAGA-1</th>\n",
              "      <th>AAACGAAAGAAGCTCG-1</th>\n",
              "      <th>AAACGAAAGACTAAGT-1</th>\n",
              "      <th>AAACGAACACCATTCC-1</th>\n",
              "      <th>AAACGAACATCGCCTT-1</th>\n",
              "      <th>AAACGAAGTAGCGCTC-1</th>\n",
              "      <th>AAACGAAGTTCGGTAT-1</th>\n",
              "      <th>AAACGAATCTGGGATT-1</th>\n",
              "      <th>AAACGCTAGAGACAAG-1</th>\n",
              "      <th>AAACGCTAGATGTTAG-1</th>\n",
              "      <th>AAACGCTAGGGCCAAT-1</th>\n",
              "      <th>AAACGCTAGTAGAGTT-1</th>\n",
              "      <th>AAACGCTCAGACCCGT-1</th>\n",
              "      <th>AAACGCTCAGTGCCTG-1</th>\n",
              "      <th>AAACGCTCATTGCAAC-1</th>\n",
              "      <th>AAACGCTGTTTCCATT-1</th>\n",
              "      <th>AAAGAACCACATGGTT-1</th>\n",
              "      <th>AAAGAACCAGGTCAGA-1</th>\n",
              "      <th>AAAGAACGTCCTGGTG-1</th>\n",
              "      <th>AAAGAACTCCACAGGC-1</th>\n",
              "      <th>AAAGAACTCCACTGGG-1</th>\n",
              "      <th>AAAGAACTCTACAGGT-1</th>\n",
              "      <th>AAAGAACTCTCCGAGG-1</th>\n",
              "      <th>AAAGGGCAGAGGGTAA-1</th>\n",
              "      <th>AAAGGGCAGCAAACAT-1</th>\n",
              "      <th>AAAGGGCAGGATTTAG-1</th>\n",
              "      <th>AAAGGGCCAAGATTGA-1</th>\n",
              "      <th>AAAGGGCCAGCCTACG-1</th>\n",
              "      <th>AAAGGGCGTTTACTGG-1</th>\n",
              "      <th>AAAGGTAAGTAATTGG-1</th>\n",
              "      <th>AAAGGTACAACACTAC-1</th>\n",
              "      <th>AAAGGTACAACTACGT-1</th>\n",
              "      <th>AAAGGTAGTAGTCGTT-1</th>\n",
              "      <th>...</th>\n",
              "      <th>TTTCACAAGGAGCAAA-12</th>\n",
              "      <th>TTTCACACACTCTAGA-12</th>\n",
              "      <th>TTTCACATCCATGATG-12</th>\n",
              "      <th>TTTCACATCTGCTCTG-12</th>\n",
              "      <th>TTTCAGTTCATGCATG-12</th>\n",
              "      <th>TTTCATGCAGATAAAC-12</th>\n",
              "      <th>TTTCATGTCACGATCA-12</th>\n",
              "      <th>TTTCCTCAGACCATTC-12</th>\n",
              "      <th>TTTCCTCAGTAGCATA-12</th>\n",
              "      <th>TTTCCTCCAAACACCT-12</th>\n",
              "      <th>TTTCCTCGTAACCAGG-12</th>\n",
              "      <th>TTTCCTCGTGGCTGCT-12</th>\n",
              "      <th>TTTCCTCTCTTCGTAT-12</th>\n",
              "      <th>TTTCGATAGAAGCGAA-12</th>\n",
              "      <th>TTTCGATAGGCTAAAT-12</th>\n",
              "      <th>TTTCGATGTGGGACAT-12</th>\n",
              "      <th>TTTGACTCACACAGAG-12</th>\n",
              "      <th>TTTGACTCAGCTATAC-12</th>\n",
              "      <th>TTTGACTGTAGTCTTG-12</th>\n",
              "      <th>TTTGACTGTGGCTGCT-12</th>\n",
              "      <th>TTTGACTGTTTCGCTC-12</th>\n",
              "      <th>TTTGACTTCTGACAGT-12</th>\n",
              "      <th>TTTGATCAGGACACTG-12</th>\n",
              "      <th>TTTGATCCACACTGGC-12</th>\n",
              "      <th>TTTGATCCAGGAATAT-12</th>\n",
              "      <th>TTTGATCCAGTCGCAC-12</th>\n",
              "      <th>TTTGATCGTGAGAGGG-12</th>\n",
              "      <th>TTTGATCTCACGGGCT-12</th>\n",
              "      <th>TTTGATCTCATAAGGA-12</th>\n",
              "      <th>TTTGGAGGTGGAGGTT-12</th>\n",
              "      <th>TTTGGAGTCCCGAGTG-12</th>\n",
              "      <th>TTTGGTTAGTCTAACC-12</th>\n",
              "      <th>TTTGGTTCACAAAGCG-12</th>\n",
              "      <th>TTTGGTTGTATGAGGC-12</th>\n",
              "      <th>TTTGGTTTCGTGGCTG-12</th>\n",
              "      <th>TTTGTTGAGCAGCGAT-12</th>\n",
              "      <th>TTTGTTGCAGTCCGTG-12</th>\n",
              "      <th>TTTGTTGCAGTTCACA-12</th>\n",
              "      <th>TTTGTTGGTCGTGTTA-12</th>\n",
              "      <th>TTTGTTGTCCAACCAA-12</th>\n",
              "    </tr>\n",
              "  </thead>\n",
              "  <tbody>\n",
              "    <tr>\n",
              "      <th>Hba-a1</th>\n",
              "      <td>-0.366699</td>\n",
              "      <td>-0.303711</td>\n",
              "      <td>-0.294678</td>\n",
              "      <td>2.830078</td>\n",
              "      <td>3.193359</td>\n",
              "      <td>-0.350342</td>\n",
              "      <td>2.978516</td>\n",
              "      <td>-0.426758</td>\n",
              "      <td>-0.448486</td>\n",
              "      <td>-0.161011</td>\n",
              "      <td>-0.243408</td>\n",
              "      <td>0.163330</td>\n",
              "      <td>-0.368408</td>\n",
              "      <td>-0.415283</td>\n",
              "      <td>-0.235474</td>\n",
              "      <td>-0.339844</td>\n",
              "      <td>-0.275146</td>\n",
              "      <td>-0.337158</td>\n",
              "      <td>-0.244507</td>\n",
              "      <td>-0.364258</td>\n",
              "      <td>-0.407227</td>\n",
              "      <td>-0.208984</td>\n",
              "      <td>-0.457520</td>\n",
              "      <td>-0.376221</td>\n",
              "      <td>-0.240601</td>\n",
              "      <td>-0.386230</td>\n",
              "      <td>-0.298584</td>\n",
              "      <td>3.244141</td>\n",
              "      <td>3.070312</td>\n",
              "      <td>-0.411865</td>\n",
              "      <td>-0.335693</td>\n",
              "      <td>-0.401367</td>\n",
              "      <td>-0.304932</td>\n",
              "      <td>-0.334229</td>\n",
              "      <td>-0.375000</td>\n",
              "      <td>-0.452148</td>\n",
              "      <td>-0.409424</td>\n",
              "      <td>-0.050507</td>\n",
              "      <td>-0.393799</td>\n",
              "      <td>-0.235474</td>\n",
              "      <td>...</td>\n",
              "      <td>-0.375000</td>\n",
              "      <td>-0.200317</td>\n",
              "      <td>-0.285889</td>\n",
              "      <td>-0.486084</td>\n",
              "      <td>-0.471924</td>\n",
              "      <td>-1.012695</td>\n",
              "      <td>-0.324463</td>\n",
              "      <td>-0.333008</td>\n",
              "      <td>0.126221</td>\n",
              "      <td>-0.297363</td>\n",
              "      <td>-0.264404</td>\n",
              "      <td>-0.510742</td>\n",
              "      <td>-0.324463</td>\n",
              "      <td>-0.333252</td>\n",
              "      <td>-0.352295</td>\n",
              "      <td>-0.361328</td>\n",
              "      <td>-0.313965</td>\n",
              "      <td>-0.236328</td>\n",
              "      <td>-0.451172</td>\n",
              "      <td>-0.424805</td>\n",
              "      <td>-0.314453</td>\n",
              "      <td>-0.260010</td>\n",
              "      <td>-0.184082</td>\n",
              "      <td>-0.066895</td>\n",
              "      <td>-0.475342</td>\n",
              "      <td>-0.706543</td>\n",
              "      <td>3.146484</td>\n",
              "      <td>-0.329102</td>\n",
              "      <td>2.525391</td>\n",
              "      <td>0.549316</td>\n",
              "      <td>-0.313965</td>\n",
              "      <td>-0.265381</td>\n",
              "      <td>-0.435791</td>\n",
              "      <td>-0.354004</td>\n",
              "      <td>-0.579102</td>\n",
              "      <td>-0.314209</td>\n",
              "      <td>2.933594</td>\n",
              "      <td>-0.290771</td>\n",
              "      <td>-0.413330</td>\n",
              "      <td>-0.441895</td>\n",
              "    </tr>\n",
              "    <tr>\n",
              "      <th>Hbb-bh1</th>\n",
              "      <td>-0.391846</td>\n",
              "      <td>-0.164429</td>\n",
              "      <td>-0.295654</td>\n",
              "      <td>2.917969</td>\n",
              "      <td>3.232422</td>\n",
              "      <td>-0.368408</td>\n",
              "      <td>2.914062</td>\n",
              "      <td>-0.369385</td>\n",
              "      <td>-0.449463</td>\n",
              "      <td>-0.322998</td>\n",
              "      <td>-0.338623</td>\n",
              "      <td>-0.439453</td>\n",
              "      <td>-0.353516</td>\n",
              "      <td>-0.407227</td>\n",
              "      <td>-0.163330</td>\n",
              "      <td>0.424072</td>\n",
              "      <td>-0.298340</td>\n",
              "      <td>-0.243652</td>\n",
              "      <td>-0.282471</td>\n",
              "      <td>-0.421143</td>\n",
              "      <td>-0.476807</td>\n",
              "      <td>-0.334717</td>\n",
              "      <td>-0.338867</td>\n",
              "      <td>-0.433105</td>\n",
              "      <td>-0.418701</td>\n",
              "      <td>-0.227173</td>\n",
              "      <td>-0.215210</td>\n",
              "      <td>3.261719</td>\n",
              "      <td>2.962891</td>\n",
              "      <td>-0.138306</td>\n",
              "      <td>-0.290527</td>\n",
              "      <td>-0.329346</td>\n",
              "      <td>-0.281738</td>\n",
              "      <td>-0.191650</td>\n",
              "      <td>-0.350098</td>\n",
              "      <td>-0.418213</td>\n",
              "      <td>-0.289307</td>\n",
              "      <td>-0.267334</td>\n",
              "      <td>-0.387695</td>\n",
              "      <td>-0.371094</td>\n",
              "      <td>...</td>\n",
              "      <td>-0.030579</td>\n",
              "      <td>-0.319580</td>\n",
              "      <td>-0.270996</td>\n",
              "      <td>-0.497314</td>\n",
              "      <td>-0.665527</td>\n",
              "      <td>0.071411</td>\n",
              "      <td>-0.419434</td>\n",
              "      <td>-0.118652</td>\n",
              "      <td>-1.219727</td>\n",
              "      <td>-0.584473</td>\n",
              "      <td>-0.237061</td>\n",
              "      <td>-0.435791</td>\n",
              "      <td>-0.388428</td>\n",
              "      <td>-0.245361</td>\n",
              "      <td>-0.406006</td>\n",
              "      <td>-0.501953</td>\n",
              "      <td>-0.690918</td>\n",
              "      <td>-0.151001</td>\n",
              "      <td>-0.358154</td>\n",
              "      <td>-0.595215</td>\n",
              "      <td>-0.322021</td>\n",
              "      <td>-0.187866</td>\n",
              "      <td>0.141968</td>\n",
              "      <td>-0.441650</td>\n",
              "      <td>-0.551758</td>\n",
              "      <td>-0.188965</td>\n",
              "      <td>3.056641</td>\n",
              "      <td>-0.342041</td>\n",
              "      <td>3.683594</td>\n",
              "      <td>0.432129</td>\n",
              "      <td>-0.771973</td>\n",
              "      <td>-0.245239</td>\n",
              "      <td>-0.029694</td>\n",
              "      <td>-0.744141</td>\n",
              "      <td>-0.196533</td>\n",
              "      <td>-0.491455</td>\n",
              "      <td>2.970703</td>\n",
              "      <td>0.188110</td>\n",
              "      <td>-0.280029</td>\n",
              "      <td>-0.370117</td>\n",
              "    </tr>\n",
              "    <tr>\n",
              "      <th>Hba-x</th>\n",
              "      <td>0.409912</td>\n",
              "      <td>-0.145752</td>\n",
              "      <td>-0.494385</td>\n",
              "      <td>2.945312</td>\n",
              "      <td>3.166016</td>\n",
              "      <td>-0.245972</td>\n",
              "      <td>2.966797</td>\n",
              "      <td>-0.169556</td>\n",
              "      <td>-0.375977</td>\n",
              "      <td>-0.462646</td>\n",
              "      <td>-0.364014</td>\n",
              "      <td>-0.356934</td>\n",
              "      <td>-0.498535</td>\n",
              "      <td>-0.477051</td>\n",
              "      <td>-0.142090</td>\n",
              "      <td>-0.496826</td>\n",
              "      <td>-0.425537</td>\n",
              "      <td>0.051270</td>\n",
              "      <td>-0.180298</td>\n",
              "      <td>-0.363525</td>\n",
              "      <td>-0.453857</td>\n",
              "      <td>-0.462402</td>\n",
              "      <td>-0.577148</td>\n",
              "      <td>-0.507324</td>\n",
              "      <td>-0.363037</td>\n",
              "      <td>-0.065186</td>\n",
              "      <td>-0.297607</td>\n",
              "      <td>3.203125</td>\n",
              "      <td>3.076172</td>\n",
              "      <td>-0.248291</td>\n",
              "      <td>-0.075928</td>\n",
              "      <td>-0.463867</td>\n",
              "      <td>-0.430176</td>\n",
              "      <td>-0.439941</td>\n",
              "      <td>-0.462158</td>\n",
              "      <td>-0.411377</td>\n",
              "      <td>-0.457031</td>\n",
              "      <td>-0.299561</td>\n",
              "      <td>-0.315918</td>\n",
              "      <td>-0.386963</td>\n",
              "      <td>...</td>\n",
              "      <td>-0.582520</td>\n",
              "      <td>-0.390625</td>\n",
              "      <td>-0.428467</td>\n",
              "      <td>-0.225830</td>\n",
              "      <td>-0.275391</td>\n",
              "      <td>0.034668</td>\n",
              "      <td>-0.232056</td>\n",
              "      <td>-0.247925</td>\n",
              "      <td>-0.365723</td>\n",
              "      <td>-0.195557</td>\n",
              "      <td>-0.667480</td>\n",
              "      <td>-0.635254</td>\n",
              "      <td>-0.371338</td>\n",
              "      <td>-0.115662</td>\n",
              "      <td>-0.183960</td>\n",
              "      <td>-0.485596</td>\n",
              "      <td>0.444092</td>\n",
              "      <td>-0.569824</td>\n",
              "      <td>0.149414</td>\n",
              "      <td>-0.145996</td>\n",
              "      <td>-0.565430</td>\n",
              "      <td>-0.242676</td>\n",
              "      <td>-0.546387</td>\n",
              "      <td>-0.281982</td>\n",
              "      <td>-0.370361</td>\n",
              "      <td>-0.106140</td>\n",
              "      <td>2.898438</td>\n",
              "      <td>-0.346191</td>\n",
              "      <td>2.529297</td>\n",
              "      <td>-1.166992</td>\n",
              "      <td>-0.627441</td>\n",
              "      <td>-0.453369</td>\n",
              "      <td>-0.015388</td>\n",
              "      <td>-0.108826</td>\n",
              "      <td>0.317627</td>\n",
              "      <td>-0.010666</td>\n",
              "      <td>2.923828</td>\n",
              "      <td>-0.601562</td>\n",
              "      <td>-0.346924</td>\n",
              "      <td>0.152100</td>\n",
              "    </tr>\n",
              "    <tr>\n",
              "      <th>Gfod2</th>\n",
              "      <td>-0.947266</td>\n",
              "      <td>-0.459229</td>\n",
              "      <td>-0.254395</td>\n",
              "      <td>-0.182373</td>\n",
              "      <td>0.062988</td>\n",
              "      <td>0.299316</td>\n",
              "      <td>0.217407</td>\n",
              "      <td>-0.358154</td>\n",
              "      <td>-0.587402</td>\n",
              "      <td>-0.140625</td>\n",
              "      <td>-0.498291</td>\n",
              "      <td>-0.359375</td>\n",
              "      <td>0.829590</td>\n",
              "      <td>-0.287354</td>\n",
              "      <td>0.400146</td>\n",
              "      <td>0.151489</td>\n",
              "      <td>0.116272</td>\n",
              "      <td>1.811523</td>\n",
              "      <td>-0.500000</td>\n",
              "      <td>-0.343262</td>\n",
              "      <td>-0.207642</td>\n",
              "      <td>0.871582</td>\n",
              "      <td>-0.428711</td>\n",
              "      <td>0.509277</td>\n",
              "      <td>0.045380</td>\n",
              "      <td>-0.509766</td>\n",
              "      <td>0.091553</td>\n",
              "      <td>-0.345215</td>\n",
              "      <td>-0.199097</td>\n",
              "      <td>-0.295410</td>\n",
              "      <td>-0.401123</td>\n",
              "      <td>-0.218872</td>\n",
              "      <td>-0.645020</td>\n",
              "      <td>3.017578</td>\n",
              "      <td>0.437744</td>\n",
              "      <td>-0.841309</td>\n",
              "      <td>-0.453857</td>\n",
              "      <td>-0.197510</td>\n",
              "      <td>-0.714355</td>\n",
              "      <td>-0.936035</td>\n",
              "      <td>...</td>\n",
              "      <td>0.040955</td>\n",
              "      <td>-0.156738</td>\n",
              "      <td>-0.293457</td>\n",
              "      <td>-0.513672</td>\n",
              "      <td>-0.012932</td>\n",
              "      <td>1.783203</td>\n",
              "      <td>-0.273438</td>\n",
              "      <td>-0.333740</td>\n",
              "      <td>0.647949</td>\n",
              "      <td>-0.293213</td>\n",
              "      <td>0.412354</td>\n",
              "      <td>1.016602</td>\n",
              "      <td>0.054626</td>\n",
              "      <td>0.036072</td>\n",
              "      <td>-0.620605</td>\n",
              "      <td>0.197388</td>\n",
              "      <td>0.039886</td>\n",
              "      <td>2.626953</td>\n",
              "      <td>1.557617</td>\n",
              "      <td>-0.096252</td>\n",
              "      <td>-0.083191</td>\n",
              "      <td>0.223145</td>\n",
              "      <td>-0.389648</td>\n",
              "      <td>0.006992</td>\n",
              "      <td>0.212524</td>\n",
              "      <td>0.354492</td>\n",
              "      <td>-0.006897</td>\n",
              "      <td>0.407471</td>\n",
              "      <td>0.931641</td>\n",
              "      <td>-0.761719</td>\n",
              "      <td>0.168213</td>\n",
              "      <td>-0.163818</td>\n",
              "      <td>3.056641</td>\n",
              "      <td>-0.401123</td>\n",
              "      <td>1.704102</td>\n",
              "      <td>-0.355225</td>\n",
              "      <td>-0.213501</td>\n",
              "      <td>-0.847656</td>\n",
              "      <td>0.135742</td>\n",
              "      <td>1.581055</td>\n",
              "    </tr>\n",
              "    <tr>\n",
              "      <th>Mt1</th>\n",
              "      <td>-0.296143</td>\n",
              "      <td>-0.667480</td>\n",
              "      <td>-0.426270</td>\n",
              "      <td>1.979492</td>\n",
              "      <td>1.252930</td>\n",
              "      <td>-0.436035</td>\n",
              "      <td>2.855469</td>\n",
              "      <td>0.118347</td>\n",
              "      <td>-0.274170</td>\n",
              "      <td>1.331055</td>\n",
              "      <td>-0.428955</td>\n",
              "      <td>-0.341797</td>\n",
              "      <td>0.620117</td>\n",
              "      <td>-0.402100</td>\n",
              "      <td>-0.613770</td>\n",
              "      <td>-0.598145</td>\n",
              "      <td>-0.734375</td>\n",
              "      <td>-0.595215</td>\n",
              "      <td>-0.394043</td>\n",
              "      <td>-0.772461</td>\n",
              "      <td>-0.803223</td>\n",
              "      <td>-0.716309</td>\n",
              "      <td>-0.096680</td>\n",
              "      <td>-0.453613</td>\n",
              "      <td>-0.366455</td>\n",
              "      <td>-0.649414</td>\n",
              "      <td>0.173950</td>\n",
              "      <td>2.273438</td>\n",
              "      <td>2.335938</td>\n",
              "      <td>-0.449707</td>\n",
              "      <td>-0.540039</td>\n",
              "      <td>-0.823730</td>\n",
              "      <td>0.601074</td>\n",
              "      <td>-0.364990</td>\n",
              "      <td>-0.077209</td>\n",
              "      <td>-0.311768</td>\n",
              "      <td>-0.548340</td>\n",
              "      <td>0.116821</td>\n",
              "      <td>-0.598145</td>\n",
              "      <td>-0.257568</td>\n",
              "      <td>...</td>\n",
              "      <td>-0.400879</td>\n",
              "      <td>0.218506</td>\n",
              "      <td>0.208252</td>\n",
              "      <td>-0.074097</td>\n",
              "      <td>-0.185791</td>\n",
              "      <td>-0.349854</td>\n",
              "      <td>-0.251465</td>\n",
              "      <td>-0.305908</td>\n",
              "      <td>1.699219</td>\n",
              "      <td>0.058563</td>\n",
              "      <td>0.153076</td>\n",
              "      <td>-0.380127</td>\n",
              "      <td>0.519043</td>\n",
              "      <td>-0.541504</td>\n",
              "      <td>-0.364990</td>\n",
              "      <td>-0.550293</td>\n",
              "      <td>-0.593750</td>\n",
              "      <td>-0.421631</td>\n",
              "      <td>-0.261963</td>\n",
              "      <td>-0.483643</td>\n",
              "      <td>-0.542480</td>\n",
              "      <td>1.145508</td>\n",
              "      <td>-0.221069</td>\n",
              "      <td>-0.517578</td>\n",
              "      <td>-0.391846</td>\n",
              "      <td>-0.008011</td>\n",
              "      <td>2.492188</td>\n",
              "      <td>-0.480469</td>\n",
              "      <td>1.744141</td>\n",
              "      <td>1.119141</td>\n",
              "      <td>-0.440186</td>\n",
              "      <td>-0.308594</td>\n",
              "      <td>-0.475098</td>\n",
              "      <td>-0.369385</td>\n",
              "      <td>-0.430664</td>\n",
              "      <td>-0.371094</td>\n",
              "      <td>2.318359</td>\n",
              "      <td>-0.437744</td>\n",
              "      <td>-0.575684</td>\n",
              "      <td>-0.642090</td>\n",
              "    </tr>\n",
              "  </tbody>\n",
              "</table>\n",
              "<p>5 rows × 56528 columns</p>\n",
              "</div>"
            ],
            "text/plain": [
              "         AAACCCAAGCCTCACG-1  ...  TTTGTTGTCCAACCAA-12\n",
              "Hba-a1            -0.366699  ...            -0.441895\n",
              "Hbb-bh1           -0.391846  ...            -0.370117\n",
              "Hba-x              0.409912  ...             0.152100\n",
              "Gfod2             -0.947266  ...             1.581055\n",
              "Mt1               -0.296143  ...            -0.642090\n",
              "\n",
              "[5 rows x 56528 columns]"
            ]
          },
          "execution_count": null,
          "metadata": {},
          "output_type": "execute_result"
        }
      ]
    },
    {
      "cell_type": "code",
      "metadata": {
        "id": "7RWlXY5vw0eN",
        "colab": {
          "base_uri": "https://localhost:8080/"
        },
        "outputId": "5695c487-6e90-4fbe-a857-e7ffadea3833"
      },
      "source": [
        "cellMeta = pd.read_csv(data_path+'/GSE149372_GSM5068636-GSM5068641_scRNA.MetaData.105.csv')\n",
        "print(cellMeta.head())"
      ],
      "execution_count": null,
      "outputs": [
        {
          "metadata": {
            "tags": null
          },
          "name": "stdout",
          "output_type": "stream",
          "text": [
            "           Unnamed: 0 orig.ident  ...  percent.mt  integrated_snn_res.0.3\n",
            "0  AAACCCAAGCCTCACG-1      p10.5  ...    5.526848                       7\n",
            "1  AAACCCAAGCTCGACC-1      p10.5  ...    4.088439                       5\n",
            "2  AAACCCAAGTTAACAG-1      p10.5  ...    3.345725                       5\n",
            "3  AAACCCACACCATATG-1      p10.5  ...    4.166025                       3\n",
            "4  AAACCCAGTCACGCTG-1      p10.5  ...    1.962218                       3\n",
            "\n",
            "[5 rows x 8 columns]\n"
          ]
        }
      ]
    },
    {
      "cell_type": "code",
      "metadata": {
        "id": "LAQouenFw0eS"
      },
      "source": [
        "#Center and scale data\n",
        "count_mat = counts.values.T"
      ],
      "execution_count": null,
      "outputs": []
    },
    {
      "cell_type": "code",
      "metadata": {
        "id": "_5Pfm339w0eT",
        "colab": {
          "base_uri": "https://localhost:8080/"
        },
        "outputId": "59b2c32a-9d72-44d2-ad60-dd7d7feceaf8"
      },
      "source": [
        "adata = anndata.AnnData(X = count_mat)\n",
        "adata.obs_names = list(counts.columns)\n",
        "adata.var_names = list(counts.index)\n",
        "adata.obs['Utero'] = pd.Categorical(cellMeta.Utero)\n",
        "adata.obs['Cluster'] = pd.Categorical(cellMeta['integrated_snn_res.0.3'])\n",
        "adata"
      ],
      "execution_count": null,
      "outputs": [
        {
          "data": {
            "text/plain": [
              "AnnData object with n_obs × n_vars = 56528 × 2000\n",
              "    obs: 'Utero', 'Cluster'"
            ]
          },
          "execution_count": null,
          "metadata": {},
          "output_type": "execute_result"
        }
      ]
    },
    {
      "cell_type": "code",
      "metadata": {
        "colab": {
          "base_uri": "https://localhost:8080/"
        },
        "id": "lCRhqwgVw0eT",
        "outputId": "8768dd90-b6d9-42c3-a356-4e17b2135187"
      },
      "source": [
        "#In paper, use top 2000 HVGs and 15 PCs\n",
        "adata.obsm['log'] = adata.X #Data is already scaled so 'log' here is not just log-normalized\n",
        "\n",
        "sc.pp.scale(adata, max_value=10) #Already scaled\n",
        "adata"
      ],
      "execution_count": null,
      "outputs": [
        {
          "data": {
            "text/plain": [
              "AnnData object with n_obs × n_vars = 56528 × 2000\n",
              "    obs: 'Utero', 'Cluster'\n",
              "    var: 'mean', 'std'\n",
              "    obsm: 'log'"
            ]
          },
          "execution_count": null,
          "metadata": {},
          "output_type": "execute_result"
        }
      ]
    },
    {
      "cell_type": "code",
      "metadata": {
        "id": "DSgW2ww5w0eZ"
      },
      "source": [
        "count_mat = adata.obsm['log']\n",
        "scaled_mat = adata.X"
      ],
      "execution_count": null,
      "outputs": []
    },
    {
      "cell_type": "code",
      "metadata": {
        "id": "ia7ucBPq0SOK"
      },
      "source": [
        "#Set colors for cell clusters\n",
        "colors = np.random.rand(len(adata.obs['Cluster']),3)"
      ],
      "execution_count": null,
      "outputs": []
    },
    {
      "cell_type": "code",
      "metadata": {
        "id": "Y8Gw8MJnw0ea"
      },
      "source": [
        "\n",
        "labs = np.array([list(adata.obs['Cluster']),list(adata.obs['Utero'])])\n"
      ],
      "execution_count": null,
      "outputs": []
    },
    {
      "cell_type": "markdown",
      "metadata": {
        "id": "Y39sxboBdkUF"
      },
      "source": [
        "*Original log-normalized counts (post-Seurat integration)*\n",
        "\n"
      ]
    },
    {
      "cell_type": "code",
      "metadata": {
        "colab": {
          "base_uri": "https://localhost:8080/"
        },
        "id": "5UEo3-ZYdoRC",
        "outputId": "dc390bb1-da7e-4c41-cce6-a45957368a50"
      },
      "source": [
        "#GSE149372_GSM5068636-GSM5068641_scRNA.normalized.assay105.csv, Only Log-normalized data, not integrated\n",
        "counts2_orig = readLgMat('/GSE149372_GSM5068636-GSM5068641_scRNA.normalized.assay105.csv')\n",
        "counts2 = counts2_orig.loc[list(adata.var_names)]\n",
        "counts2.shape"
      ],
      "execution_count": null,
      "outputs": [
        {
          "output_type": "execute_result",
          "data": {
            "text/plain": [
              "(2000, 56528)"
            ]
          },
          "metadata": {},
          "execution_count": 21
        }
      ]
    },
    {
      "cell_type": "code",
      "metadata": {
        "colab": {
          "base_uri": "https://localhost:8080/"
        },
        "id": "no7B3dXI8ESi",
        "outputId": "42865ade-6381-40f9-cc11-120a594340b0"
      },
      "source": [
        "counts2_orig.shape"
      ],
      "execution_count": null,
      "outputs": [
        {
          "output_type": "execute_result",
          "data": {
            "text/plain": [
              "(21164, 56528)"
            ]
          },
          "metadata": {},
          "execution_count": 22
        }
      ]
    },
    {
      "cell_type": "code",
      "metadata": {
        "id": "i6qILhlekIMZ"
      },
      "source": [
        "#Center and scale log-normalized data\n",
        "count_mat_orig = counts2.values.T"
      ],
      "execution_count": null,
      "outputs": []
    },
    {
      "cell_type": "code",
      "metadata": {
        "id": "W0OJkq5pkIMe",
        "colab": {
          "base_uri": "https://localhost:8080/"
        },
        "outputId": "003eadd2-d907-4b1e-876d-924234e30020"
      },
      "source": [
        "adata2 = anndata.AnnData(X = count_mat_orig)\n",
        "adata2.obs_names = list(counts2.columns)\n",
        "adata2.var_names = list(counts2.index)\n",
        "adata2.obs['Utero'] = pd.Categorical(cellMeta.Utero)\n",
        "adata2.obs['Cluster'] = pd.Categorical(cellMeta['integrated_snn_res.0.3'])\n",
        "adata2"
      ],
      "execution_count": null,
      "outputs": [
        {
          "output_type": "execute_result",
          "data": {
            "text/plain": [
              "AnnData object with n_obs × n_vars = 56528 × 2000\n",
              "    obs: 'Utero', 'Cluster'"
            ]
          },
          "metadata": {},
          "execution_count": 25
        }
      ]
    },
    {
      "cell_type": "code",
      "metadata": {
        "id": "bdlRPH8XkIMf",
        "colab": {
          "base_uri": "https://localhost:8080/"
        },
        "outputId": "7dc18bad-11dc-4cdc-a559-e4fea807fee1"
      },
      "source": [
        "adata2.obsm['log'] = adata2.X #Data matrix is log-normalized \n",
        "\n",
        "adata2.raw = adata2.copy()\n",
        "\n",
        "sc.pp.scale(adata2, max_value=10)\n",
        "adata2"
      ],
      "execution_count": null,
      "outputs": [
        {
          "output_type": "execute_result",
          "data": {
            "text/plain": [
              "AnnData object with n_obs × n_vars = 56528 × 2000\n",
              "    obs: 'Utero', 'Cluster'\n",
              "    var: 'mean', 'std'\n",
              "    obsm: 'log'"
            ]
          },
          "metadata": {},
          "execution_count": 26
        }
      ]
    },
    {
      "cell_type": "code",
      "metadata": {
        "id": "oJdlC1sfkIMg"
      },
      "source": [
        "count_mat_orig = adata2.obsm['log']\n",
        "scaled_mat_orig = adata2.X"
      ],
      "execution_count": null,
      "outputs": []
    },
    {
      "cell_type": "code",
      "metadata": {
        "id": "fQ_w0A8gR2Kj"
      },
      "source": [
        "#Get KNN Jaccard distances\n",
        "e105Amb = latentComp(scaled_mat,count_mat_orig, ndims=2, pcs=[15,50,100], rounds = 3)\n",
        "print(e105Amb.head())\n",
        "e105PCAAmb = latentPCAComp(scaled_mat, ndims=2, pcs=[15,50,100], rounds = 3)\n",
        "print(e105PCAAmb.head())"
      ],
      "execution_count": null,
      "outputs": []
    },
    {
      "cell_type": "markdown",
      "metadata": {
        "id": "iK1qHgM7atYI"
      },
      "source": [
        "**Save all outputs**"
      ]
    },
    {
      "cell_type": "code",
      "metadata": {
        "id": "vKYCO-A9bF99"
      },
      "source": [
        "!mkdir allOuts"
      ],
      "execution_count": null,
      "outputs": []
    },
    {
      "cell_type": "code",
      "metadata": {
        "id": "taQ9Udx5au2V"
      },
      "source": [
        "smartPCAAmb.to_csv('allOuts/smartPCAAmb.csv')\n",
        "smartAmb.to_csv('allOuts/smartAmb.csv')\n",
        "\n",
        "tenxPCAAmb.to_csv('allOuts/tenxPCAAmb.csv')\n",
        "tenxAmb.to_csv('allOuts/tenxAmb.csv')\n",
        "\n",
        "merPCAAmb.to_csv('allOuts/merPCAAmb.csv')\n",
        "merAmb.to_csv('allOuts/merAmb.csv')\n",
        "\n",
        "\n",
        "exAmb.to_csv('allOuts/exAmb.csv')\n",
        "exPCAAmb.to_csv('allOuts/exPCAAmb.csv')\n",
        "\n",
        "e105Amb.to_csv('allOuts/e105Amb.csv')\n",
        "e105PCAAmb.to_csv('allOuts/e105PCAAmb.csv')"
      ],
      "execution_count": null,
      "outputs": []
    },
    {
      "cell_type": "code",
      "metadata": {
        "id": "yJ6E7qoXb9Po"
      },
      "source": [
        "!zip -r /content/allOuts.zip /content/allOuts\n",
        "\n",
        "from google.colab import files\n",
        "files.download(\"/content/allOuts.zip\")"
      ],
      "execution_count": null,
      "outputs": []
    }
  ]
}