{
  "nbformat": 4,
  "nbformat_minor": 0,
  "metadata": {
    "colab": {
      "name": "kimetal_tenx_predictions.ipynb",
      "provenance": [],
      "collapsed_sections": [],
      "include_colab_link": true
    },
    "kernelspec": {
      "display_name": "Python 3",
      "name": "python3"
    },
    "language_info": {
      "name": "python"
    },
    "accelerator": "GPU"
  },
  "cells": [
    {
      "cell_type": "markdown",
      "metadata": {
        "id": "view-in-github",
        "colab_type": "text"
      },
      "source": [
        "<a href=\"https://colab.research.google.com/github/pachterlab/CBP_2021/blob/main/notebooks/VMHNeurons/kimetal_tenx_predictions.ipynb\" target=\"_parent\"><img src=\"https://colab.research.google.com/assets/colab-badge.svg\" alt=\"Open In Colab\"/></a>"
      ]
    },
    {
      "cell_type": "code",
      "metadata": {
        "id": "aghcQdQ-R7u_"
      },
      "source": [
        "import requests\n",
        "import os\n",
        "\n",
        "\n",
        "from tqdm import tnrange, tqdm_notebook\n",
        "def download_file(doi,ext):\n",
        "\turl = 'https://api.datacite.org/dois/'+doi+'/media'\n",
        "\tr = requests.get(url).json()\n",
        "\tnetcdf_url = r['data'][0]['attributes']['url']\n",
        "\tr = requests.get(netcdf_url,stream=True)\n",
        "\t#Set file name\n",
        "\tfname = doi.split('/')[-1]+ext\n",
        "\t#Download file with progress bar\n",
        "\tif r.status_code == 403:\n",
        "\t\tprint(\"File Unavailable\")\n",
        "\tif 'content-length' not in r.headers:\n",
        "\t\tprint(\"Did not get file\")\n",
        "\telse:\n",
        "\t\twith open(fname, 'wb') as f:\n",
        "\t\t\ttotal_length = int(r.headers.get('content-length'))\n",
        "\t\t\tpbar = tnrange(int(total_length/1024), unit=\"B\")\n",
        "\t\t\tfor chunk in r.iter_content(chunk_size=1024):\n",
        "\t\t\t\tif chunk:\n",
        "\t\t\t\t\tpbar.update()\n",
        "\t\t\t\t\tf.write(chunk)\n",
        "\t\treturn fname\n",
        "\n",
        "\n",
        "#10x VMH data\n",
        "#metadata.csv\n",
        "download_file('10.22002/D1.2065','.gz')\n",
        "\n",
        "#tenx.mtx (log counts)\n",
        "download_file('10.22002/D1.2072','.gz')\n",
        "\n",
        "#10X raw Count Matrix\n",
        "download_file('10.22002/D1.2073','.gz')\n",
        "\n",
        "#var.csv\n",
        "download_file('10.22002/D1.2066','.gz')\n",
        "\n",
        "\n",
        "\n",
        "os.system(\"gunzip *.gz\")\n",
        "\n",
        "os.system(\"mv D1.2065 metadata.csv\")\n",
        "os.system(\"mv D1.2072 tenx.mtx\")\n",
        "os.system(\"mv D1.2073 tenxCount.mtx\")\n",
        "os.system(\"mv D1.2066 tenx_var.csv\")"
      ],
      "execution_count": null,
      "outputs": []
    },
    {
      "cell_type": "code",
      "metadata": {
        "colab": {
          "base_uri": "https://localhost:8080/"
        },
        "id": "Pxuxe1toQFda",
        "outputId": "d3428913-1860-4126-b6c4-f731c5452bf4"
      },
      "source": [
        "!git clone https://github.com/pachterlab/CBP_2021.git"
      ],
      "execution_count": null,
      "outputs": [
        {
          "output_type": "stream",
          "text": [
            "Cloning into 'spacetime'...\n",
            "remote: Enumerating objects: 1385, done.\u001b[K\n",
            "remote: Counting objects: 100% (669/669), done.\u001b[K\n",
            "remote: Compressing objects: 100% (573/573), done.\u001b[K\n",
            "remote: Total 1385 (delta 484), reused 168 (delta 95), pack-reused 716\u001b[K\n",
            "Receiving objects: 100% (1385/1385), 146.30 MiB | 11.82 MiB/s, done.\n",
            "Resolving deltas: 100% (930/930), done.\n"
          ],
          "name": "stdout"
        }
      ]
    },
    {
      "cell_type": "code",
      "metadata": {
        "id": "iA-3Y-DlQOKH",
        "colab": {
          "base_uri": "https://localhost:8080/"
        },
        "outputId": "374a3b2b-7e0d-4152-f0d8-3ef36d3d1fa6"
      },
      "source": [
        "!pip3 install --quiet torch\n",
        "!pip3 install --quiet anndata\n",
        "!pip3 install --quiet matplotlib\n",
        "!pip3 install --quiet scikit-learn\n",
        "!pip3 install --quiet torchsummary\n",
        "!pip install --quiet scanpy==1.6.0\n",
        "!pip3 install --quiet umap-learn\n",
        "!pip3 install --quiet scvi-tools"
      ],
      "execution_count": null,
      "outputs": [
        {
          "output_type": "stream",
          "text": [
            "\u001b[K     |████████████████████████████████| 133kB 8.2MB/s \n",
            "\u001b[K     |████████████████████████████████| 7.7MB 2.0MB/s \n",
            "\u001b[K     |████████████████████████████████| 81kB 11.4MB/s \n",
            "\u001b[K     |████████████████████████████████| 71kB 10.7MB/s \n",
            "\u001b[K     |████████████████████████████████| 1.1MB 31.6MB/s \n",
            "\u001b[?25h  Building wheel for sinfo (setup.py) ... \u001b[?25l\u001b[?25hdone\n",
            "  Building wheel for umap-learn (setup.py) ... \u001b[?25l\u001b[?25hdone\n",
            "  Building wheel for pynndescent (setup.py) ... \u001b[?25l\u001b[?25hdone\n",
            "\u001b[K     |████████████████████████████████| 215kB 8.1MB/s \n",
            "\u001b[K     |████████████████████████████████| 245kB 48.2MB/s \n",
            "\u001b[K     |████████████████████████████████| 81kB 9.6MB/s \n",
            "\u001b[K     |████████████████████████████████| 215kB 49.1MB/s \n",
            "\u001b[K     |████████████████████████████████| 686kB 52.6MB/s \n",
            "\u001b[K     |████████████████████████████████| 819kB 49.3MB/s \n",
            "\u001b[K     |████████████████████████████████| 51kB 8.5MB/s \n",
            "\u001b[K     |████████████████████████████████| 10.6MB 51.4MB/s \n",
            "\u001b[K     |████████████████████████████████| 645kB 46.1MB/s \n",
            "\u001b[K     |████████████████████████████████| 829kB 36.6MB/s \n",
            "\u001b[K     |████████████████████████████████| 122kB 52.6MB/s \n",
            "\u001b[K     |████████████████████████████████| 235kB 49.9MB/s \n",
            "\u001b[K     |████████████████████████████████| 1.3MB 46.4MB/s \n",
            "\u001b[K     |████████████████████████████████| 296kB 52.5MB/s \n",
            "\u001b[K     |████████████████████████████████| 143kB 60.3MB/s \n",
            "\u001b[?25h  Building wheel for future (setup.py) ... \u001b[?25l\u001b[?25hdone\n",
            "\u001b[31mERROR: tensorflow 2.5.0 has requirement tensorboard~=2.5, but you'll have tensorboard 2.4.1 which is incompatible.\u001b[0m\n"
          ],
          "name": "stdout"
        }
      ]
    },
    {
      "cell_type": "code",
      "metadata": {
        "colab": {
          "base_uri": "https://localhost:8080/"
        },
        "id": "HYT4qYdJxK7V",
        "outputId": "76f21d64-41c0-4b5c-c907-13fc169a9bc8"
      },
      "source": [
        "%cd /content/CBP_2021/scripts"
      ],
      "execution_count": null,
      "outputs": [
        {
          "output_type": "stream",
          "text": [
            "/content/spacetime/nnNCApy\n"
          ],
          "name": "stdout"
        }
      ]
    },
    {
      "cell_type": "markdown",
      "metadata": {
        "id": "xC275rCuQpgV"
      },
      "source": [
        "## **Install Packages**"
      ]
    },
    {
      "cell_type": "code",
      "metadata": {
        "id": "48xvpJbyQSKT",
        "colab": {
          "base_uri": "https://localhost:8080/"
        },
        "outputId": "2606f112-3fd8-42b7-ccf4-c7110c6a793d"
      },
      "source": [
        "import anndata \n",
        "import pandas as pd\n",
        "import numpy as np\n",
        "from MCML import MCML #Now has continuous label addition\n",
        "\n",
        "import random\n",
        "import scvi\n",
        "from sklearn.decomposition import TruncatedSVD\n",
        "from sklearn.manifold import TSNE\n",
        "import matplotlib.pyplot as plt\n",
        "from sklearn.neighbors import NeighborhoodComponentsAnalysis, NearestNeighbors\n",
        "from sklearn.metrics import pairwise_distances\n",
        "from sklearn.metrics import accuracy_score\n",
        "from sklearn.preprocessing import scale\n",
        "import torch\n",
        "import time\n",
        "import scanpy as sc\n",
        "import seaborn as sns\n",
        "import umap\n",
        "from scipy import stats\n",
        "import scipy.io as sio\n",
        "sns.set_style('white')"
      ],
      "execution_count": null,
      "outputs": [
        {
          "output_type": "stream",
          "text": [
            "/usr/local/lib/python3.7/dist-packages/numba/np/ufunc/parallel.py:363: NumbaWarning: \u001b[1mThe TBB threading layer requires TBB version 2019.5 or later i.e., TBB_INTERFACE_VERSION >= 11005. Found TBB_INTERFACE_VERSION = 9107. The TBB threading layer is disabled.\u001b[0m\n",
            "  warnings.warn(problem)\n"
          ],
          "name": "stderr"
        }
      ]
    },
    {
      "cell_type": "markdown",
      "metadata": {
        "id": "7Xlo5rzVQrqM"
      },
      "source": [
        "## **Import Data**"
      ]
    },
    {
      "cell_type": "code",
      "metadata": {
        "id": "4gtBWZVoQjKh"
      },
      "source": [
        "plt.rcParams[\"font.family\"] = \"sans-serif\"\n",
        "plt.rcParams['axes.linewidth'] = 0.1\n",
        "\n",
        "state = 42\n",
        "ndims = 2\n",
        "\n",
        "data_path = '../..'\n",
        "\n",
        "pcs = 50\n",
        "n_latent = 50"
      ],
      "execution_count": null,
      "outputs": []
    },
    {
      "cell_type": "code",
      "metadata": {
        "colab": {
          "base_uri": "https://localhost:8080/"
        },
        "id": "NtpIixyGFiMw",
        "outputId": "48e45ceb-43db-4123-fa70-25f7c2c41ab8"
      },
      "source": [
        "count_mat = sio.mmread(data_path+'/tenx.mtx')\n",
        "count_mat.shape"
      ],
      "execution_count": null,
      "outputs": [
        {
          "output_type": "execute_result",
          "data": {
            "text/plain": [
              "(41580, 1999)"
            ]
          },
          "metadata": {
            "tags": []
          },
          "execution_count": 7
        }
      ]
    },
    {
      "cell_type": "code",
      "metadata": {
        "colab": {
          "base_uri": "https://localhost:8080/"
        },
        "id": "gEafihmahNB8",
        "outputId": "422f117a-77ec-462a-bbc1-70caee96055a"
      },
      "source": [
        "rawcount_mat = sio.mmread(data_path+'/tenxCount.mtx')\n",
        "rawcount_mat.shape"
      ],
      "execution_count": null,
      "outputs": [
        {
          "output_type": "execute_result",
          "data": {
            "text/plain": [
              "(41580, 1999)"
            ]
          },
          "metadata": {
            "tags": []
          },
          "execution_count": 8
        }
      ]
    },
    {
      "cell_type": "code",
      "metadata": {
        "id": "6syqIPjmKnyC"
      },
      "source": [
        "#Center and scale log-normalized data\n",
        "scaled_mat = scale(count_mat)"
      ],
      "execution_count": null,
      "outputs": []
    },
    {
      "cell_type": "code",
      "metadata": {
        "colab": {
          "base_uri": "https://localhost:8080/",
          "height": 220
        },
        "id": "rhXu1NykGOOf",
        "outputId": "434b7aab-dba6-45f6-cb8c-75d4fff69eb2"
      },
      "source": [
        "meta = pd.read_csv(data_path+'/metadata.csv',index_col = 0)\n",
        "meta.head()"
      ],
      "execution_count": null,
      "outputs": [
        {
          "output_type": "execute_result",
          "data": {
            "text/html": [
              "<div>\n",
              "<style scoped>\n",
              "    .dataframe tbody tr th:only-of-type {\n",
              "        vertical-align: middle;\n",
              "    }\n",
              "\n",
              "    .dataframe tbody tr th {\n",
              "        vertical-align: top;\n",
              "    }\n",
              "\n",
              "    .dataframe thead th {\n",
              "        text-align: right;\n",
              "    }\n",
              "</style>\n",
              "<table border=\"1\" class=\"dataframe\">\n",
              "  <thead>\n",
              "    <tr style=\"text-align: right;\">\n",
              "      <th></th>\n",
              "      <th>sample_name</th>\n",
              "      <th>cell_barcode</th>\n",
              "      <th>cluster_color</th>\n",
              "      <th>cluster</th>\n",
              "      <th>cluster_id</th>\n",
              "      <th>cell_types</th>\n",
              "      <th>sex_label</th>\n",
              "      <th>batch_indices</th>\n",
              "      <th>cell_counts</th>\n",
              "      <th>n_genes</th>\n",
              "      <th>percent_mito</th>\n",
              "      <th>pass_count_filter</th>\n",
              "      <th>pass_mito_filter</th>\n",
              "    </tr>\n",
              "  </thead>\n",
              "  <tbody>\n",
              "    <tr>\n",
              "      <th>0</th>\n",
              "      <td>10x_VMH_Female_Control_1</td>\n",
              "      <td>4_AAACCTGAGCGCCTCA</td>\n",
              "      <td>#9162FF</td>\n",
              "      <td>Nr5a1_4</td>\n",
              "      <td>24.0</td>\n",
              "      <td>undefined</td>\n",
              "      <td>F</td>\n",
              "      <td>0</td>\n",
              "      <td>1427.0</td>\n",
              "      <td>926</td>\n",
              "      <td>13.594954</td>\n",
              "      <td>True</td>\n",
              "      <td>False</td>\n",
              "    </tr>\n",
              "    <tr>\n",
              "      <th>1</th>\n",
              "      <td>10x_VMH_Female_Control_1</td>\n",
              "      <td>4_AAACCTGCACAGTCGC</td>\n",
              "      <td>#96FF2E</td>\n",
              "      <td>Tsix_Esr1_1</td>\n",
              "      <td>3.0</td>\n",
              "      <td>undefined</td>\n",
              "      <td>F</td>\n",
              "      <td>0</td>\n",
              "      <td>4508.0</td>\n",
              "      <td>2310</td>\n",
              "      <td>9.272405</td>\n",
              "      <td>True</td>\n",
              "      <td>False</td>\n",
              "    </tr>\n",
              "    <tr>\n",
              "      <th>2</th>\n",
              "      <td>10x_VMH_Female_Control_1</td>\n",
              "      <td>4_AAACCTGCAGATTGCT</td>\n",
              "      <td>#66ABC2</td>\n",
              "      <td>Dlk1_3</td>\n",
              "      <td>16.0</td>\n",
              "      <td>undefined</td>\n",
              "      <td>F</td>\n",
              "      <td>0</td>\n",
              "      <td>3447.0</td>\n",
              "      <td>1995</td>\n",
              "      <td>5.483029</td>\n",
              "      <td>True</td>\n",
              "      <td>False</td>\n",
              "    </tr>\n",
              "    <tr>\n",
              "      <th>3</th>\n",
              "      <td>10x_VMH_Female_Control_1</td>\n",
              "      <td>4_AAACCTGCATACTCTT</td>\n",
              "      <td>#96FF2E</td>\n",
              "      <td>Tsix_Esr1_1</td>\n",
              "      <td>3.0</td>\n",
              "      <td>undefined</td>\n",
              "      <td>F</td>\n",
              "      <td>0</td>\n",
              "      <td>7004.0</td>\n",
              "      <td>3286</td>\n",
              "      <td>4.483152</td>\n",
              "      <td>True</td>\n",
              "      <td>True</td>\n",
              "    </tr>\n",
              "    <tr>\n",
              "      <th>4</th>\n",
              "      <td>10x_VMH_Female_Control_1</td>\n",
              "      <td>4_AAACCTGGTCCGTTAA</td>\n",
              "      <td>#24EFCD</td>\n",
              "      <td>Scgn</td>\n",
              "      <td>20.0</td>\n",
              "      <td>undefined</td>\n",
              "      <td>F</td>\n",
              "      <td>0</td>\n",
              "      <td>2490.0</td>\n",
              "      <td>1492</td>\n",
              "      <td>9.277108</td>\n",
              "      <td>True</td>\n",
              "      <td>False</td>\n",
              "    </tr>\n",
              "  </tbody>\n",
              "</table>\n",
              "</div>"
            ],
            "text/plain": [
              "                sample_name  ... pass_mito_filter\n",
              "0  10x_VMH_Female_Control_1  ...            False\n",
              "1  10x_VMH_Female_Control_1  ...            False\n",
              "2  10x_VMH_Female_Control_1  ...            False\n",
              "3  10x_VMH_Female_Control_1  ...             True\n",
              "4  10x_VMH_Female_Control_1  ...            False\n",
              "\n",
              "[5 rows x 13 columns]"
            ]
          },
          "metadata": {
            "tags": []
          },
          "execution_count": 10
        }
      ]
    },
    {
      "cell_type": "code",
      "metadata": {
        "id": "91x_hzdRNeBd"
      },
      "source": [
        "clusters = np.unique(meta['cluster'].values)\n",
        "map_dict = {}\n",
        "for i, c in enumerate(clusters):\n",
        "  map_dict[c] = i\n",
        "new_labs = [map_dict[c] for c in meta['cluster'].values]"
      ],
      "execution_count": null,
      "outputs": []
    },
    {
      "cell_type": "code",
      "metadata": {
        "colab": {
          "base_uri": "https://localhost:8080/"
        },
        "id": "W5A7pbC1jSVu",
        "outputId": "e8e5cd21-30fd-462c-e142-d931679dbe19"
      },
      "source": [
        "adata = anndata.AnnData(count_mat, obs = meta)\n",
        "adata.X = np.nan_to_num(adata.X)"
      ],
      "execution_count": null,
      "outputs": [
        {
          "output_type": "stream",
          "text": [
            "/usr/local/lib/python3.7/dist-packages/anndata/_core/anndata.py:120: ImplicitModificationWarning: Transforming to str index.\n",
            "  warnings.warn(\"Transforming to str index.\", ImplicitModificationWarning)\n"
          ],
          "name": "stderr"
        }
      ]
    },
    {
      "cell_type": "code",
      "metadata": {
        "colab": {
          "base_uri": "https://localhost:8080/"
        },
        "id": "MFbVY58ChSix",
        "outputId": "984553ed-1ca1-48be-ba7c-57f56c342646"
      },
      "source": [
        "adata2 = anndata.AnnData(rawcount_mat, obs = meta)\n",
        "adata2.X = np.nan_to_num(adata2.X)"
      ],
      "execution_count": null,
      "outputs": [
        {
          "output_type": "stream",
          "text": [
            "/usr/local/lib/python3.7/dist-packages/anndata/_core/anndata.py:120: ImplicitModificationWarning: Transforming to str index.\n",
            "  warnings.warn(\"Transforming to str index.\", ImplicitModificationWarning)\n"
          ],
          "name": "stderr"
        }
      ]
    },
    {
      "cell_type": "code",
      "metadata": {
        "id": "hz3pgsoK4qmz"
      },
      "source": [
        "def knn_infer(embd_space, labeled_idx, labeled_lab, unlabeled_idx,n_neighbors=50):\n",
        "\t\"\"\"\n",
        "\tPredicts the labels of unlabeled data in the embedded space with KNN.\n",
        "\tParameters\n",
        "\t----------\n",
        "\tembd_space : ndarray (n_samples, embedding_dim)\n",
        "\t\tEach sample is described by the features in the embedded space.\n",
        "\t\tContains all samples, both labeled and unlabeled.\n",
        "\tlabeled_idx : list\n",
        "\t\tIndices of the labeled samples (used for training the classifier).\n",
        "\tlabeled_lab : ndarray (n_labeled_samples)\n",
        "\t\tLabels of the labeled samples.\n",
        "\tunlabeled_idx : list\n",
        "\t\tIndices of the unlabeled samples.\n",
        "\tReturns\n",
        "\t-------\n",
        "\tpred_lab : ndarray (n_unlabeled_samples)\n",
        "\t\tInferred labels of the unlabeled samples.\n",
        "\t\"\"\"\n",
        "\n",
        "\t# obtain labeled data and unlabled data from indices\n",
        "\tlabeled_samp = embd_space[labeled_idx, :]\n",
        "\tunlabeled_samp = embd_space[unlabeled_idx, :]\n",
        "\n",
        "\tfrom sklearn.neighbors import KNeighborsClassifier\n",
        "\n",
        "\tknn = KNeighborsClassifier(n_neighbors=n_neighbors)\n",
        "\tknn.fit(labeled_samp, labeled_lab)\n",
        "\n",
        "\tpred_lab = knn.predict(unlabeled_samp)\n",
        "\treturn pred_lab\n"
      ],
      "execution_count": null,
      "outputs": []
    },
    {
      "cell_type": "code",
      "metadata": {
        "colab": {
          "base_uri": "https://localhost:8080/"
        },
        "id": "PbHogI-EZT-Y",
        "outputId": "b41f4fc7-8533-48bc-b870-89737e87fd9e"
      },
      "source": [
        "# LDVAE accuracy scores\n",
        "scvi.data.setup_anndata(adata2, labels_key='cluster_id')\n",
        "acc_score = []\n",
        "acc_score2 = []\n",
        "for i in range(3): #3\n",
        "  vae = scvi.model.LinearSCVI(adata2)\n",
        "  vae.train() #train_size = 0.7\n",
        "  latent_ldvae = vae.get_latent_representation()\n",
        "  lab_idx = vae.train_indices\n",
        "  unlabeled_idx = []\n",
        "  for i in range(len(adata2)):\n",
        "    if i not in lab_idx:\n",
        "      unlabeled_idx.append(i)\n",
        "  preds = knn_infer(np.array(latent_ldvae), list(lab_idx), adata2.obs.cluster_id.values[lab_idx], unlabeled_idx)\n",
        "  acc = accuracy_score(adata2.obs.cluster_id.values[unlabeled_idx], preds)\n",
        "  acc_score.append(acc)\n",
        "\n",
        "  preds2 = knn_infer(np.array(latent_ldvae), list(lab_idx), adata2.obs.sex_label.values[lab_idx], unlabeled_idx)\n",
        "  acc2 = accuracy_score(adata2.obs.sex_label.values[unlabeled_idx], preds2)\n",
        "  acc_score2.append(acc2)"
      ],
      "execution_count": null,
      "outputs": [
        {
          "output_type": "stream",
          "text": [
            "\u001b[34mINFO    \u001b[0m No batch_key inputted, assuming all cells are same batch                            \n",
            "\u001b[34mINFO    \u001b[0m Using labels from adata.obs\u001b[1m[\u001b[0m\u001b[32m\"cluster_id\"\u001b[0m\u001b[1m]\u001b[0m                                           \n",
            "\u001b[34mINFO    \u001b[0m Using data from adata.X                                                             \n",
            "\u001b[34mINFO    \u001b[0m Computing library size prior per batch                                              \n",
            "\u001b[34mINFO    \u001b[0m Successfully registered anndata object containing \u001b[1;36m41580\u001b[0m cells, \u001b[1;36m1999\u001b[0m vars, \u001b[1;36m1\u001b[0m batches,\n",
            "         \u001b[1;36m30\u001b[0m labels, and \u001b[1;36m0\u001b[0m proteins. Also registered \u001b[1;36m0\u001b[0m extra categorical covariates and \u001b[1;36m0\u001b[0m     \n",
            "         extra continuous covariates.                                                        \n",
            "\u001b[34mINFO    \u001b[0m Please do not further modify adata until model is trained.                          \n"
          ],
          "name": "stdout"
        },
        {
          "output_type": "stream",
          "text": [
            "GPU available: True, used: True\n",
            "TPU available: False, using: 0 TPU cores\n",
            "LOCAL_RANK: 0 - CUDA_VISIBLE_DEVICES: [0]\n"
          ],
          "name": "stderr"
        },
        {
          "output_type": "stream",
          "text": [
            "Epoch 192/192: 100%|██████████| 192/192 [06:38<00:00,  2.08s/it, loss=669, v_num=1]\n"
          ],
          "name": "stdout"
        },
        {
          "output_type": "stream",
          "text": [
            "GPU available: True, used: True\n",
            "TPU available: False, using: 0 TPU cores\n",
            "LOCAL_RANK: 0 - CUDA_VISIBLE_DEVICES: [0]\n"
          ],
          "name": "stderr"
        },
        {
          "output_type": "stream",
          "text": [
            "Epoch 192/192: 100%|██████████| 192/192 [06:43<00:00,  2.10s/it, loss=678, v_num=1]\n"
          ],
          "name": "stdout"
        },
        {
          "output_type": "stream",
          "text": [
            "GPU available: True, used: True\n",
            "TPU available: False, using: 0 TPU cores\n",
            "LOCAL_RANK: 0 - CUDA_VISIBLE_DEVICES: [0]\n"
          ],
          "name": "stderr"
        },
        {
          "output_type": "stream",
          "text": [
            "Epoch 192/192: 100%|██████████| 192/192 [06:44<00:00,  2.11s/it, loss=682, v_num=1]\n"
          ],
          "name": "stdout"
        }
      ]
    },
    {
      "cell_type": "code",
      "metadata": {
        "colab": {
          "base_uri": "https://localhost:8080/"
        },
        "id": "AnP9Aihthb-H",
        "outputId": "43f851f9-f493-4993-c00e-954c8a7546f7"
      },
      "source": [
        "acc_score"
      ],
      "execution_count": null,
      "outputs": [
        {
          "output_type": "execute_result",
          "data": {
            "text/plain": [
              "[0.6831810165143498, 0.6818983485650152, 0.6817380150713485]"
            ]
          },
          "metadata": {
            "tags": []
          },
          "execution_count": 16
        }
      ]
    },
    {
      "cell_type": "code",
      "metadata": {
        "colab": {
          "base_uri": "https://localhost:8080/"
        },
        "id": "BmnzoMFjjyTb",
        "outputId": "24d2aceb-87d2-4af0-f456-9d0e3d6a4c77"
      },
      "source": [
        "# SCANVI accuracy scores\n",
        "scvi.data.setup_anndata(adata2, labels_key='cluster_id')\n",
        "acc_score_scanvi = []\n",
        "acc_score_scanvi2 = []\n",
        "for i in range(3):\n",
        "  vae = scvi.model.SCANVI(adata2, np.nan)\n",
        "  vae.train(train_size = 0.7)\n",
        "  latent_scanvi = vae.get_latent_representation()\n",
        "  lab_idx = vae.train_indices\n",
        "  unlabeled_idx = []\n",
        "  for i in range(len(adata2)):\n",
        "    if i not in lab_idx:\n",
        "      unlabeled_idx.append(i)\n",
        "  preds = knn_infer(np.array(latent_scanvi), list(lab_idx), adata2.obs.cluster_id.values[lab_idx], unlabeled_idx)\n",
        "  acc = accuracy_score(adata2.obs.cluster_id.values[unlabeled_idx], preds)\n",
        "  acc_score_scanvi.append(acc)\n",
        "\n",
        "  preds2 = knn_infer(np.array(latent_scanvi), list(lab_idx), adata2.obs.sex_label.values[lab_idx], unlabeled_idx)\n",
        "  acc2 = accuracy_score(adata2.obs.sex_label.values[unlabeled_idx], preds2)\n",
        "  acc_score_scanvi2.append(acc2)"
      ],
      "execution_count": null,
      "outputs": [
        {
          "output_type": "stream",
          "text": [
            "\u001b[34mINFO    \u001b[0m No batch_key inputted, assuming all cells are same batch                            \n",
            "\u001b[34mINFO    \u001b[0m Using labels from adata.obs\u001b[1m[\u001b[0m\u001b[32m\"cluster_id\"\u001b[0m\u001b[1m]\u001b[0m                                           \n",
            "\u001b[34mINFO    \u001b[0m Using data from adata.X                                                             \n",
            "\u001b[34mINFO    \u001b[0m Computing library size prior per batch                                              \n",
            "\u001b[34mINFO    \u001b[0m Successfully registered anndata object containing \u001b[1;36m41580\u001b[0m cells, \u001b[1;36m1999\u001b[0m vars, \u001b[1;36m1\u001b[0m batches,\n",
            "         \u001b[1;36m30\u001b[0m labels, and \u001b[1;36m0\u001b[0m proteins. Also registered \u001b[1;36m0\u001b[0m extra categorical covariates and \u001b[1;36m0\u001b[0m     \n",
            "         extra continuous covariates.                                                        \n",
            "\u001b[34mINFO    \u001b[0m Please do not further modify adata until model is trained.                          \n",
            "\u001b[34mINFO    \u001b[0m Training for \u001b[1;36m192\u001b[0m epochs.                                                            \n"
          ],
          "name": "stdout"
        },
        {
          "output_type": "stream",
          "text": [
            "GPU available: True, used: True\n",
            "TPU available: False, using: 0 TPU cores\n",
            "LOCAL_RANK: 0 - CUDA_VISIBLE_DEVICES: [0]\n"
          ],
          "name": "stderr"
        },
        {
          "output_type": "stream",
          "text": [
            "Epoch 192/192: 100%|██████████| 192/192 [13:40<00:00,  4.27s/it, loss=791, v_num=1]\n",
            "\u001b[34mINFO    \u001b[0m Training for \u001b[1;36m192\u001b[0m epochs.                                                            \n"
          ],
          "name": "stdout"
        },
        {
          "output_type": "stream",
          "text": [
            "GPU available: True, used: True\n",
            "TPU available: False, using: 0 TPU cores\n",
            "LOCAL_RANK: 0 - CUDA_VISIBLE_DEVICES: [0]\n"
          ],
          "name": "stderr"
        },
        {
          "output_type": "stream",
          "text": [
            "Epoch 192/192: 100%|██████████| 192/192 [13:39<00:00,  4.27s/it, loss=789, v_num=1]\n",
            "\u001b[34mINFO    \u001b[0m Training for \u001b[1;36m192\u001b[0m epochs.                                                            \n"
          ],
          "name": "stdout"
        },
        {
          "output_type": "stream",
          "text": [
            "GPU available: True, used: True\n",
            "TPU available: False, using: 0 TPU cores\n",
            "LOCAL_RANK: 0 - CUDA_VISIBLE_DEVICES: [0]\n"
          ],
          "name": "stderr"
        },
        {
          "output_type": "stream",
          "text": [
            "Epoch 192/192: 100%|██████████| 192/192 [13:33<00:00,  4.24s/it, loss=792, v_num=1]\n"
          ],
          "name": "stdout"
        }
      ]
    },
    {
      "cell_type": "code",
      "metadata": {
        "colab": {
          "base_uri": "https://localhost:8080/"
        },
        "id": "prbipeo-6G4w",
        "outputId": "28a9ae4e-3d37-4eb4-ce98-e8323af57844"
      },
      "source": [
        "print(acc_score_scanvi)\n",
        "print(acc_score_scanvi2)"
      ],
      "execution_count": null,
      "outputs": [
        {
          "output_type": "stream",
          "text": [
            "[0.7808241141574475, 0.783629950296617, 0.7790604457271124]\n",
            "[0.9048420715087382, 0.8896103896103896, 0.9135000801667469]\n"
          ],
          "name": "stdout"
        }
      ]
    },
    {
      "cell_type": "code",
      "metadata": {
        "id": "vZ6q_aUHLkwp"
      },
      "source": [
        ""
      ],
      "execution_count": null,
      "outputs": []
    },
    {
      "cell_type": "code",
      "metadata": {
        "id": "iP-QUMfDLlFx"
      },
      "source": [
        ""
      ],
      "execution_count": null,
      "outputs": []
    },
    {
      "cell_type": "code",
      "metadata": {
        "id": "Cv4A-t8BfdLW"
      },
      "source": [
        "lab1 = list(meta.cluster)\n",
        "lab2 = list(meta.sex_label)\n",
        "# lab3 = list(meta.medical_cond_label)\n",
        "\n",
        "\n",
        "allLabs = np.array([lab1])\n",
        "allLabs2 = np.array([lab1,lab2])\n",
        "\n",
        "nanLabs = np.array([[np.nan]*len(lab1)])\n",
        "\n",
        "#Shuffled labels for over-fitting check\n",
        "shuff_lab1 = random.sample(lab1, len(lab1))  \n",
        "shuff_lab2 = random.sample(lab2, len(lab2))  \n",
        "shuff_allLabs = np.array([shuff_lab1,shuff_lab2])\n",
        "\n",
        "clus_colors = list(pd.unique(meta.cluster_color))\n",
        "\n",
        "sex_colors = ['#abacb7','#F8C471']"
      ],
      "execution_count": null,
      "outputs": []
    },
    {
      "cell_type": "markdown",
      "metadata": {
        "id": "JfQmVeV0T7e3"
      },
      "source": [
        "Check train/test overfitting (with cell type labels)"
      ]
    },
    {
      "cell_type": "code",
      "metadata": {
        "colab": {
          "base_uri": "https://localhost:8080/",
          "height": 225
        },
        "id": "xMRQ2izQT_nL",
        "outputId": "84b71f1d-9ed4-4f66-bd2d-7416fd713f5e"
      },
      "source": [
        "# nca.fit(scaled_mat,labels,fracNCA = 0.25, silent = True,ret_loss = True) Parameters used for prediction\n",
        "nca = MCML(n_latent = n_latent, epochs = 100)\n",
        "\n",
        "lossesTrain, lossesTest = nca.trainTest(scaled_mat,np.array([lab1]), fracNCA = 0.25, silent = True)\n",
        "nca.plotLosses(figsize=(10,3),fname='tenxTrainTest.pdf',axisFontSize=10,tickFontSize=8)"
      ],
      "execution_count": null,
      "outputs": [
        {
          "output_type": "display_data",
          "data": {
            "image/png": "[encoded data removed]",
            "text/plain": [
              "<Figure size 720x216 with 4 Axes>"
            ]
          },
          "metadata": {
            "tags": []
          }
        }
      ]
    },
    {
      "cell_type": "code",
      "metadata": {
        "id": "0tS5G3zCfqUt"
      },
      "source": [
        "# Reconstruction loss only\n",
        "acc_scoreR = []\n",
        "acc_scoreR2 = []\n",
        "\n",
        "for i in range(3):\n",
        "  ncaR = MCML(n_latent = n_latent, epochs = 100)\n",
        "  labels = np.array([lab1])\n",
        "  train_inds = np.random.choice(len(scaled_mat), size = int(0.7*len(scaled_mat)),replace=False)\n",
        "  unlab_inds = [i for i in range(len(adata)) if i not in train_inds]\n",
        "  labels[:, unlab_inds] = np.nan\n",
        "  \n",
        "  lossesR, latentR = ncaR.fit(scaled_mat,nanLabs,fracNCA = 0, silent = True,ret_loss = True)\n",
        "  toc = time.perf_counter()\n",
        "  unlabeled_idx = []\n",
        "  for i in range(len(adata)):\n",
        "      if i not in train_inds:\n",
        "          unlabeled_idx.append(i)\n",
        "  preds = knn_infer(latentR, train_inds, adata.obs.cluster.values[train_inds], unlabeled_idx)\n",
        "  acc = accuracy_score(adata.obs.cluster.values[unlabeled_idx], preds)\n",
        "  acc_scoreR.append(acc)\n",
        "\n",
        "  preds2 = knn_infer(latentR, train_inds, adata.obs.sex_label.values[train_inds], unlabeled_idx)\n",
        "  acc2 = accuracy_score(adata.obs.sex_label.values[unlabeled_idx], preds2)\n",
        "  acc_scoreR2.append(acc2)\n",
        "  # print(f\"nnNCA fit in {toc - tic:0.4f} seconds\")"
      ],
      "execution_count": null,
      "outputs": []
    },
    {
      "cell_type": "code",
      "metadata": {
        "colab": {
          "base_uri": "https://localhost:8080/"
        },
        "id": "zlEAgUuULeZU",
        "outputId": "6e4b41e2-12e3-4492-b572-39e629466c05"
      },
      "source": [
        "print(acc_scoreR)\n",
        "print(acc_scoreR2)\n"
      ],
      "execution_count": null,
      "outputs": [
        {
          "output_type": "stream",
          "text": [
            "[0.8298997995991984, 0.8358316633266533, 0.8317434869739478]\n",
            "[0.9102204408817636, 0.9123847695390782, 0.9093386773547094]\n"
          ],
          "name": "stdout"
        }
      ]
    },
    {
      "cell_type": "markdown",
      "metadata": {
        "id": "Ezadu5uXLs88"
      },
      "source": [
        "PCA 50D"
      ]
    },
    {
      "cell_type": "code",
      "metadata": {
        "id": "dMQdSd9cLwRC"
      },
      "source": [
        "# Reconstruction loss only\n",
        "acc_scorePCA = []\n",
        "acc_scorePCA2 = []\n",
        "\n",
        "for i in range(3):\n",
        "\n",
        "  tsvd = TruncatedSVD(n_components=pcs)\n",
        "  x_pca = tsvd.fit_transform(scaled_mat)\n",
        "  \n",
        "  labels = np.array([lab1])\n",
        "  train_inds = np.random.choice(len(scaled_mat), size = int(0.7*len(scaled_mat)),replace=False)\n",
        "  unlab_inds = [i for i in range(len(adata)) if i not in train_inds]\n",
        "  labels[:, unlab_inds] = np.nan\n",
        "  \n",
        "  unlabeled_idx = []\n",
        "  for i in range(len(adata)):\n",
        "      if i not in train_inds:\n",
        "          unlabeled_idx.append(i)\n",
        "\n",
        "  preds = knn_infer(x_pca, train_inds, adata.obs.cluster.values[train_inds], unlabeled_idx)\n",
        "  acc = accuracy_score(adata.obs.cluster.values[unlabeled_idx], preds)\n",
        "  acc_scorePCA.append(acc)\n",
        "\n",
        "  preds2 = knn_infer(x_pca, train_inds, adata.obs.sex_label.values[train_inds], unlabeled_idx)\n",
        "  acc2 = accuracy_score(adata.obs.sex_label.values[unlabeled_idx], preds2)\n",
        "  acc_scorePCA2.append(acc2)\n",
        "  # print(f\"nnNCA fit in {toc - tic:0.4f} seconds\")"
      ],
      "execution_count": null,
      "outputs": []
    },
    {
      "cell_type": "code",
      "metadata": {
        "id": "6p6oknUGLwj4",
        "colab": {
          "base_uri": "https://localhost:8080/"
        },
        "outputId": "514e1ead-982b-46ba-de2b-dc7007fd04de"
      },
      "source": [
        "print(acc_scorePCA)\n",
        "print(acc_scorePCA2)"
      ],
      "execution_count": null,
      "outputs": [
        {
          "output_type": "stream",
          "text": [
            "[0.816192384769539, 0.8143486973947895, 0.8129058116232465]\n",
            "[0.9044488977955912, 0.9079759519038076, 0.9068537074148296]\n"
          ],
          "name": "stdout"
        }
      ]
    },
    {
      "cell_type": "markdown",
      "metadata": {
        "id": "6v9Pev-JLvCb"
      },
      "source": [
        "NCA Below"
      ]
    },
    {
      "cell_type": "code",
      "metadata": {
        "id": "up8Yft-KvvzU"
      },
      "source": [
        "# NCA loss only\n",
        "acc_scoreNCA = []\n",
        "acc_scoreNCA2 = []\n",
        "acc_scoreNCA3 = []\n",
        "\n",
        "for i in range(1): #3\n",
        "  nca = MCML(n_latent = n_latent, epochs = 100)\n",
        "  ncaR2 = MCML(n_latent = n_latent, epochs = 100)\n",
        "\n",
        "  labels = np.array([lab1]).copy()\n",
        "  train_inds = np.random.choice(len(scaled_mat), size = int(0.7*len(scaled_mat)),replace=False) #0.7\n",
        "  unlab_inds = [i for i in range(len(adata)) if i not in train_inds]\n",
        "  labels[:, unlab_inds] = np.nan\n",
        "\n",
        "  #2 labels\n",
        "  labels2 = allLabs2.copy()\n",
        "  labels2[:, unlab_inds] = np.nan\n",
        "\n",
        "  losses, latent = nca.fit(scaled_mat,labels,fracNCA = 1, silent = True,ret_loss = True)\n",
        "\n",
        "  losses2, latent2 = ncaR2.fit(scaled_mat,labels2,fracNCA = 1, silent = True,ret_loss = True)\n",
        "\n",
        "  toc = time.perf_counter()\n",
        "  unlabeled_idx = []\n",
        "  for i in range(len(adata)):\n",
        "      if i not in train_inds:\n",
        "          unlabeled_idx.append(i)\n",
        "  preds = knn_infer(latent, train_inds, adata.obs.cluster.values[train_inds], unlabeled_idx)\n",
        "  acc = accuracy_score(adata.obs.cluster.values[unlabeled_idx], preds)\n",
        "  acc_scoreNCA.append(acc)\n",
        "\n",
        "  preds2 = knn_infer(latent2, train_inds, adata.obs.cluster.values[train_inds], unlabeled_idx)\n",
        "  acc2 = accuracy_score(adata.obs.cluster.values[unlabeled_idx], preds2)\n",
        "  acc_scoreNCA2.append(acc2)\n",
        "\n",
        "  preds2 = knn_infer(latent2, train_inds, adata.obs.sex_label.values[train_inds], unlabeled_idx)\n",
        "  acc2 = accuracy_score(adata.obs.sex_label.values[unlabeled_idx], preds2)\n",
        "  acc_scoreNCA3.append(acc2)\n",
        "\n",
        "  # print(f\"nnNCA fit in {toc - tic:0.4f} seconds\")"
      ],
      "execution_count": null,
      "outputs": []
    },
    {
      "cell_type": "code",
      "metadata": {
        "colab": {
          "base_uri": "https://localhost:8080/"
        },
        "id": "jbrOTr2TxEcb",
        "outputId": "a220a327-26b4-481f-9ce7-e2ea852b24b7"
      },
      "source": [
        "print(acc_scoreNCA)\n",
        "print(acc_scoreNCA2)\n",
        "print(acc_scoreNCA3)"
      ],
      "execution_count": null,
      "outputs": [
        {
          "output_type": "stream",
          "text": [
            "[0.7521442885771543]\n",
            "[0.7487775551102205]\n",
            "[0.872064128256513]\n"
          ],
          "name": "stdout"
        }
      ]
    },
    {
      "cell_type": "code",
      "metadata": {
        "id": "HYhSKoZ8y6o7"
      },
      "source": [
        "# fracNCA = 0.3\n",
        "acc_scoreBoth = []\n",
        "acc_scoreBoth2 = []\n",
        "acc_scoreBoth3 = []\n",
        "\n",
        "for i in range(3): #3\n",
        "  nca = MCML(n_latent = n_latent, epochs = 100)\n",
        "  ncaR2 = MCML(n_latent = n_latent, epochs = 100)\n",
        "\n",
        "  labels = np.array([lab1]).copy()\n",
        "  train_inds = np.random.choice(len(scaled_mat), size = int(0.7*len(scaled_mat)),replace=False)\n",
        "  unlab_inds = [i for i in range(len(adata)) if i not in train_inds]\n",
        "  labels[:, unlab_inds] = np.nan\n",
        "\n",
        "  #2 labels\n",
        "  labels2 = allLabs2.copy()\n",
        "  labels2[:, unlab_inds] = np.nan\n",
        "\n",
        "  losses, latent = nca.fit(scaled_mat,labels,fracNCA = 0.25, silent = True,ret_loss = True)\n",
        "  losses2, latent2 = ncaR2.fit(scaled_mat,labels2,fracNCA = 0.25, silent = True,ret_loss = True)\n",
        "\n",
        "\n",
        "  toc = time.perf_counter()\n",
        "  unlabeled_idx = []\n",
        "  for i in range(len(adata)):\n",
        "      if i not in train_inds:\n",
        "          unlabeled_idx.append(i)\n",
        "  preds = knn_infer(latent, train_inds, adata.obs.cluster.values[train_inds], unlabeled_idx)\n",
        "  acc = accuracy_score(adata.obs.cluster.values[unlabeled_idx], preds)\n",
        "  acc_scoreBoth.append(acc)\n",
        "\n",
        "  preds2 = knn_infer(latent2, train_inds, adata.obs.cluster.values[train_inds], unlabeled_idx)\n",
        "  acc2 = accuracy_score(adata.obs.cluster.values[unlabeled_idx], preds2)\n",
        "  acc_scoreBoth2.append(acc2)\n",
        "\n",
        "  preds2 = knn_infer(latent2, train_inds, adata.obs.sex_label.values[train_inds], unlabeled_idx)\n",
        "  acc2 = accuracy_score(adata.obs.sex_label.values[unlabeled_idx], preds2)\n",
        "  acc_scoreBoth3.append(acc2)\n",
        "\n",
        "  # # print(f\"nnNCA fit in {toc - tic:0.4f} seconds\")"
      ],
      "execution_count": null,
      "outputs": []
    },
    {
      "cell_type": "code",
      "metadata": {
        "colab": {
          "base_uri": "https://localhost:8080/"
        },
        "id": "DHDbNWVGSbRy",
        "outputId": "be150bdd-e565-47fa-d8b2-29cb28462731"
      },
      "source": [
        "print(acc_scoreBoth)\n",
        "print(acc_scoreBoth2)\n",
        "print(acc_scoreBoth3)"
      ],
      "execution_count": null,
      "outputs": [
        {
          "output_type": "stream",
          "text": [
            "[0.836312625250501, 0.8432865731462926, 0.8446492985971944]\n",
            "[0.8392785571142285, 0.8459318637274549, 0.8428857715430862]\n",
            "[0.919438877755511, 0.919438877755511, 0.9228857715430862]\n"
          ],
          "name": "stdout"
        }
      ]
    },
    {
      "cell_type": "code",
      "metadata": {
        "id": "lsM2KTFMPhZl"
      },
      "source": [
        ""
      ],
      "execution_count": null,
      "outputs": []
    },
    {
      "cell_type": "code",
      "metadata": {
        "id": "NB_cUVhOafzB"
      },
      "source": [
        "# # get confidence intervals\n",
        "# ldvae_int = st.t.interval(0.95, df = 2, loc = np.mean(acc_score), scale = np.std(acc_score))\n",
        "# scanvi_int = st.t.interval(0.95, df=2, loc = np.mean(acc_score_scanvi), scale = np.std(acc_score_scanvi))\n",
        "# recon_int = st.t.interval(0.95, df = 2, loc = np.mean(acc_scoreR), scale = np.std(acc_scoreR))\n",
        "# nca_int = st.t.interval(0.95, df=2, loc = np.mean(acc_scoreNCA), scale = np.std(acc_scoreNCA))\n",
        "# both_int = st.t.interval(0.95, df=2, loc = np.mean(acc_scoreBoth), scale = np.std(acc_scoreBoth))"
      ],
      "execution_count": null,
      "outputs": []
    },
    {
      "cell_type": "code",
      "metadata": {
        "id": "vttqP5x4v_qY"
      },
      "source": [
        "# # plot\n",
        "# fig, ax = plt.subplots()\n",
        "# ax.errorbar(0, np.mean(acc_score), \n",
        "#              yerr = [ldvae_int[1] - np.mean(acc_score)], fmt = 'o', label = 'LDVAE')\n",
        "# ax.errorbar(1,  np.mean(acc_score_scanvi), \n",
        "#              yerr = scanvi_int[1] - np.mean(acc_score_scanvi), fmt = 'o', label = 'SCANVI')\n",
        "# ax.errorbar(2, np.mean(acc_scoreR), \n",
        "#              yerr = [recon_int[1] - np.mean(acc_scoreR)], fmt = 'o', label = 'reconstruction')\n",
        "# ax.errorbar(3,  np.mean(acc_score_scanvi), \n",
        "#              yerr = nca_int[1] - np.mean(acc_scoreNCA), fmt = 'o', label = 'NCA')\n",
        "# ax.errorbar(4,  np.mean(acc_score_scanvi), \n",
        "#              yerr = both_int[1] - np.mean(acc_scoreBoth), fmt = 'o', label = '0.5 fracNCA')\n",
        "# plt.ylabel(\"accuracy score\")\n",
        "# plt.legend(loc = \"upper right\", bbox_to_anchor = (1.4, 1.0))\n",
        "# plt.title(\"Kim et al 10X Accuracy Comparisons\")\n",
        "# ax.get_xaxis().set_visible(False)\n",
        "# plt.savefig(\"tenx_comparisons\")\n",
        "# plt.show()"
      ],
      "execution_count": null,
      "outputs": []
    },
    {
      "cell_type": "code",
      "metadata": {
        "colab": {
          "base_uri": "https://localhost:8080/",
          "height": 265
        },
        "id": "1VWING8kPkSg",
        "outputId": "324255be-8488-4072-d436-2486895bca1e"
      },
      "source": [
        "fig, axs = plt.subplots(1, losses.shape[1],figsize=(8,4))\n",
        "for i in range(losses.shape[1]):\n",
        "  axs[i].plot(losses[:,i],label=str(i))\n",
        "  \n",
        "plt.legend()\n",
        "plt.show()"
      ],
      "execution_count": null,
      "outputs": [
        {
          "output_type": "display_data",
          "data": {
            "image/png": "[encoded data removed]",
            "text/plain": [
              "<Figure size 576x288 with 4 Axes>"
            ]
          },
          "metadata": {
            "tags": []
          }
        }
      ]
    },
    {
      "cell_type": "code",
      "metadata": {
        "id": "Cn_NqV2MI28H",
        "colab": {
          "base_uri": "https://localhost:8080/",
          "height": 265
        },
        "outputId": "b7917197-be91-4c73-b59b-f6b69f611119"
      },
      "source": [
        "fig, axs = plt.subplots(1, losses2.shape[1],figsize=(8,4))\n",
        "for i in range(losses2.shape[1]):\n",
        "  axs[i].plot(losses2[:,i],label=str(i))\n",
        "  \n",
        "plt.legend()\n",
        "plt.show()"
      ],
      "execution_count": null,
      "outputs": [
        {
          "output_type": "display_data",
          "data": {
            "image/png": "[encoded data removed]",
            "text/plain": [
              "<Figure size 576x288 with 4 Axes>"
            ]
          },
          "metadata": {
            "tags": []
          }
        }
      ]
    },
    {
      "cell_type": "markdown",
      "metadata": {
        "id": "ZwVU28-k-3yP"
      },
      "source": [
        "### **Save Analysis Output**"
      ]
    },
    {
      "cell_type": "code",
      "metadata": {
        "id": "zoobDgWX4acW"
      },
      "source": [
        "vals = pd.DataFrame()\n",
        "\n",
        "vals['Accuracy'] = acc_score + acc_score_scanvi + acc_scoreR + acc_scoreNCA + acc_scoreBoth + acc_score2 + acc_score_scanvi2 + acc_scoreR2 + acc_scoreNCA3 + acc_scoreBoth3 + acc_scoreNCA2 + acc_scoreBoth2 +\n",
        "acc_scorePCA +acc_scorePCA2  #+ netAE_score + netAE_score2"
      ],
      "execution_count": null,
      "outputs": []
    },
    {
      "cell_type": "code",
      "metadata": {
        "id": "AJY7DMRA642i"
      },
      "source": [
        "vals['Embed'] = ['LDVAE']*3 + ['SCANVI']*3 + ['Recon MCML']*3 + ['NCA 100% MCML']*1 + ['NCA-Recon MCML']*3 +['LDVAE']*3 + ['SCANVI']*3 + ['Recon MCML']*3 + ['NCA 100% MCML']*1 + ['NCA-Recon MCML']*3 + \n",
        "['NCA 100% MCML']*1 + ['NCA-Recon MCML']*3 + ['PCA 50D']*3 + ['PCA 50D']*3 #+ ['netAE']*2"
      ],
      "execution_count": null,
      "outputs": []
    },
    {
      "cell_type": "code",
      "metadata": {
        "id": "Is7_EmhR7tKn"
      },
      "source": [
        "vals['Label'] = ['CellType1']*13 + ['Gender2']*13 + ['CellType2']*4 + ['CellType1']*3 + ['Gender2']*3#+  ['CellType1'] #+  ['Gender2']"
      ],
      "execution_count": null,
      "outputs": []
    },
    {
      "cell_type": "code",
      "metadata": {
        "id": "cZBM1dlG8K5E",
        "colab": {
          "base_uri": "https://localhost:8080/",
          "height": 955
        },
        "outputId": "8efa678e-5e65-4bd1-86fb-7d9ff4f29ccf"
      },
      "source": [
        "vals\n"
      ],
      "execution_count": null,
      "outputs": [
        {
          "output_type": "execute_result",
          "data": {
            "text/html": [
              "<div>\n",
              "<style scoped>\n",
              "    .dataframe tbody tr th:only-of-type {\n",
              "        vertical-align: middle;\n",
              "    }\n",
              "\n",
              "    .dataframe tbody tr th {\n",
              "        vertical-align: top;\n",
              "    }\n",
              "\n",
              "    .dataframe thead th {\n",
              "        text-align: right;\n",
              "    }\n",
              "</style>\n",
              "<table border=\"1\" class=\"dataframe\">\n",
              "  <thead>\n",
              "    <tr style=\"text-align: right;\">\n",
              "      <th></th>\n",
              "      <th>Accuracy</th>\n",
              "      <th>Embed</th>\n",
              "      <th>Label</th>\n",
              "    </tr>\n",
              "  </thead>\n",
              "  <tbody>\n",
              "    <tr>\n",
              "      <th>0</th>\n",
              "      <td>0.683181</td>\n",
              "      <td>LDVAE</td>\n",
              "      <td>CellType1</td>\n",
              "    </tr>\n",
              "    <tr>\n",
              "      <th>1</th>\n",
              "      <td>0.681898</td>\n",
              "      <td>LDVAE</td>\n",
              "      <td>CellType1</td>\n",
              "    </tr>\n",
              "    <tr>\n",
              "      <th>2</th>\n",
              "      <td>0.681738</td>\n",
              "      <td>LDVAE</td>\n",
              "      <td>CellType1</td>\n",
              "    </tr>\n",
              "    <tr>\n",
              "      <th>3</th>\n",
              "      <td>0.780824</td>\n",
              "      <td>SCANVI</td>\n",
              "      <td>CellType1</td>\n",
              "    </tr>\n",
              "    <tr>\n",
              "      <th>4</th>\n",
              "      <td>0.783630</td>\n",
              "      <td>SCANVI</td>\n",
              "      <td>CellType1</td>\n",
              "    </tr>\n",
              "    <tr>\n",
              "      <th>5</th>\n",
              "      <td>0.779060</td>\n",
              "      <td>SCANVI</td>\n",
              "      <td>CellType1</td>\n",
              "    </tr>\n",
              "    <tr>\n",
              "      <th>6</th>\n",
              "      <td>0.829900</td>\n",
              "      <td>Recon MCML</td>\n",
              "      <td>CellType1</td>\n",
              "    </tr>\n",
              "    <tr>\n",
              "      <th>7</th>\n",
              "      <td>0.835832</td>\n",
              "      <td>Recon MCML</td>\n",
              "      <td>CellType1</td>\n",
              "    </tr>\n",
              "    <tr>\n",
              "      <th>8</th>\n",
              "      <td>0.831743</td>\n",
              "      <td>Recon MCML</td>\n",
              "      <td>CellType1</td>\n",
              "    </tr>\n",
              "    <tr>\n",
              "      <th>9</th>\n",
              "      <td>0.752144</td>\n",
              "      <td>NCA 100% MCML</td>\n",
              "      <td>CellType1</td>\n",
              "    </tr>\n",
              "    <tr>\n",
              "      <th>10</th>\n",
              "      <td>0.836313</td>\n",
              "      <td>NCA-Recon MCML</td>\n",
              "      <td>CellType1</td>\n",
              "    </tr>\n",
              "    <tr>\n",
              "      <th>11</th>\n",
              "      <td>0.843287</td>\n",
              "      <td>NCA-Recon MCML</td>\n",
              "      <td>CellType1</td>\n",
              "    </tr>\n",
              "    <tr>\n",
              "      <th>12</th>\n",
              "      <td>0.844649</td>\n",
              "      <td>NCA-Recon MCML</td>\n",
              "      <td>CellType1</td>\n",
              "    </tr>\n",
              "    <tr>\n",
              "      <th>13</th>\n",
              "      <td>0.883598</td>\n",
              "      <td>LDVAE</td>\n",
              "      <td>Gender2</td>\n",
              "    </tr>\n",
              "    <tr>\n",
              "      <th>14</th>\n",
              "      <td>0.886163</td>\n",
              "      <td>LDVAE</td>\n",
              "      <td>Gender2</td>\n",
              "    </tr>\n",
              "    <tr>\n",
              "      <th>15</th>\n",
              "      <td>0.884560</td>\n",
              "      <td>LDVAE</td>\n",
              "      <td>Gender2</td>\n",
              "    </tr>\n",
              "    <tr>\n",
              "      <th>16</th>\n",
              "      <td>0.904842</td>\n",
              "      <td>SCANVI</td>\n",
              "      <td>Gender2</td>\n",
              "    </tr>\n",
              "    <tr>\n",
              "      <th>17</th>\n",
              "      <td>0.889610</td>\n",
              "      <td>SCANVI</td>\n",
              "      <td>Gender2</td>\n",
              "    </tr>\n",
              "    <tr>\n",
              "      <th>18</th>\n",
              "      <td>0.913500</td>\n",
              "      <td>SCANVI</td>\n",
              "      <td>Gender2</td>\n",
              "    </tr>\n",
              "    <tr>\n",
              "      <th>19</th>\n",
              "      <td>0.910220</td>\n",
              "      <td>Recon MCML</td>\n",
              "      <td>Gender2</td>\n",
              "    </tr>\n",
              "    <tr>\n",
              "      <th>20</th>\n",
              "      <td>0.912385</td>\n",
              "      <td>Recon MCML</td>\n",
              "      <td>Gender2</td>\n",
              "    </tr>\n",
              "    <tr>\n",
              "      <th>21</th>\n",
              "      <td>0.909339</td>\n",
              "      <td>Recon MCML</td>\n",
              "      <td>Gender2</td>\n",
              "    </tr>\n",
              "    <tr>\n",
              "      <th>22</th>\n",
              "      <td>0.872064</td>\n",
              "      <td>NCA 100% MCML</td>\n",
              "      <td>Gender2</td>\n",
              "    </tr>\n",
              "    <tr>\n",
              "      <th>23</th>\n",
              "      <td>0.919439</td>\n",
              "      <td>NCA-Recon MCML</td>\n",
              "      <td>Gender2</td>\n",
              "    </tr>\n",
              "    <tr>\n",
              "      <th>24</th>\n",
              "      <td>0.919439</td>\n",
              "      <td>NCA-Recon MCML</td>\n",
              "      <td>Gender2</td>\n",
              "    </tr>\n",
              "    <tr>\n",
              "      <th>25</th>\n",
              "      <td>0.922886</td>\n",
              "      <td>NCA-Recon MCML</td>\n",
              "      <td>Gender2</td>\n",
              "    </tr>\n",
              "    <tr>\n",
              "      <th>26</th>\n",
              "      <td>0.748778</td>\n",
              "      <td>NCA 100% MCML</td>\n",
              "      <td>CellType2</td>\n",
              "    </tr>\n",
              "    <tr>\n",
              "      <th>27</th>\n",
              "      <td>0.839279</td>\n",
              "      <td>NCA-Recon MCML</td>\n",
              "      <td>CellType2</td>\n",
              "    </tr>\n",
              "    <tr>\n",
              "      <th>28</th>\n",
              "      <td>0.845932</td>\n",
              "      <td>NCA-Recon MCML</td>\n",
              "      <td>CellType2</td>\n",
              "    </tr>\n",
              "    <tr>\n",
              "      <th>29</th>\n",
              "      <td>0.842886</td>\n",
              "      <td>NCA-Recon MCML</td>\n",
              "      <td>CellType2</td>\n",
              "    </tr>\n",
              "  </tbody>\n",
              "</table>\n",
              "</div>"
            ],
            "text/plain": [
              "    Accuracy           Embed      Label\n",
              "0   0.683181           LDVAE  CellType1\n",
              "1   0.681898           LDVAE  CellType1\n",
              "2   0.681738           LDVAE  CellType1\n",
              "3   0.780824          SCANVI  CellType1\n",
              "4   0.783630          SCANVI  CellType1\n",
              "5   0.779060          SCANVI  CellType1\n",
              "6   0.829900      Recon MCML  CellType1\n",
              "7   0.835832      Recon MCML  CellType1\n",
              "8   0.831743      Recon MCML  CellType1\n",
              "9   0.752144   NCA 100% MCML  CellType1\n",
              "10  0.836313  NCA-Recon MCML  CellType1\n",
              "11  0.843287  NCA-Recon MCML  CellType1\n",
              "12  0.844649  NCA-Recon MCML  CellType1\n",
              "13  0.883598           LDVAE    Gender2\n",
              "14  0.886163           LDVAE    Gender2\n",
              "15  0.884560           LDVAE    Gender2\n",
              "16  0.904842          SCANVI    Gender2\n",
              "17  0.889610          SCANVI    Gender2\n",
              "18  0.913500          SCANVI    Gender2\n",
              "19  0.910220      Recon MCML    Gender2\n",
              "20  0.912385      Recon MCML    Gender2\n",
              "21  0.909339      Recon MCML    Gender2\n",
              "22  0.872064   NCA 100% MCML    Gender2\n",
              "23  0.919439  NCA-Recon MCML    Gender2\n",
              "24  0.919439  NCA-Recon MCML    Gender2\n",
              "25  0.922886  NCA-Recon MCML    Gender2\n",
              "26  0.748778   NCA 100% MCML  CellType2\n",
              "27  0.839279  NCA-Recon MCML  CellType2\n",
              "28  0.845932  NCA-Recon MCML  CellType2\n",
              "29  0.842886  NCA-Recon MCML  CellType2"
            ]
          },
          "metadata": {
            "tags": []
          },
          "execution_count": 32
        }
      ]
    },
    {
      "cell_type": "code",
      "metadata": {
        "id": "mOwQUKce8L7f",
        "colab": {
          "base_uri": "https://localhost:8080/",
          "height": 17
        },
        "outputId": "ac6dbebc-d3e2-47e9-c9fa-d9326fbf929a"
      },
      "source": [
        "from google.colab import files\n",
        "\n",
        "vals.to_csv('all10XPreds.csv')\n",
        "files.download('all10XPreds.csv')"
      ],
      "execution_count": null,
      "outputs": [
        {
          "output_type": "display_data",
          "data": {
            "application/javascript": [
              "\n",
              "    async function download(id, filename, size) {\n",
              "      if (!google.colab.kernel.accessAllowed) {\n",
              "        return;\n",
              "      }\n",
              "      const div = document.createElement('div');\n",
              "      const label = document.createElement('label');\n",
              "      label.textContent = `Downloading \"${filename}\": `;\n",
              "      div.appendChild(label);\n",
              "      const progress = document.createElement('progress');\n",
              "      progress.max = size;\n",
              "      div.appendChild(progress);\n",
              "      document.body.appendChild(div);\n",
              "\n",
              "      const buffers = [];\n",
              "      let downloaded = 0;\n",
              "\n",
              "      const channel = await google.colab.kernel.comms.open(id);\n",
              "      // Send a message to notify the kernel that we're ready.\n",
              "      channel.send({})\n",
              "\n",
              "      for await (const message of channel.messages) {\n",
              "        // Send a message to notify the kernel that we're ready.\n",
              "        channel.send({})\n",
              "        if (message.buffers) {\n",
              "          for (const buffer of message.buffers) {\n",
              "            buffers.push(buffer);\n",
              "            downloaded += buffer.byteLength;\n",
              "            progress.value = downloaded;\n",
              "          }\n",
              "        }\n",
              "      }\n",
              "      const blob = new Blob(buffers, {type: 'application/binary'});\n",
              "      const a = document.createElement('a');\n",
              "      a.href = window.URL.createObjectURL(blob);\n",
              "      a.download = filename;\n",
              "      div.appendChild(a);\n",
              "      a.click();\n",
              "      div.remove();\n",
              "    }\n",
              "  "
            ],
            "text/plain": [
              "<IPython.core.display.Javascript object>"
            ]
          },
          "metadata": {
            "tags": []
          }
        },
        {
          "output_type": "display_data",
          "data": {
            "application/javascript": [
              "download(\"download_8d72c436-a505-49d7-a23a-0d7472d16ef3\", \"all10XPreds.csv\", 1262)"
            ],
            "text/plain": [
              "<IPython.core.display.Javascript object>"
            ]
          },
          "metadata": {
            "tags": []
          }
        }
      ]
    },
    {
      "cell_type": "code",
      "metadata": {
        "id": "ccJzxZkICUXW"
      },
      "source": [
        ""
      ],
      "execution_count": null,
      "outputs": []
    },
    {
      "cell_type": "markdown",
      "metadata": {
        "id": "sxE-80vn1SLd"
      },
      "source": [
        "### **Accuracy With Lower Percentages of Labeled Data**"
      ]
    },
    {
      "cell_type": "code",
      "metadata": {
        "id": "amQx6-Ia1Uy_"
      },
      "source": [
        "# fracNCA = 0.5 \n",
        "acc_scoreBoth = []\n",
        "percs = [0.7,0.6,0.5,0.4,0.3,0.2,0.1]\n",
        "\n",
        "for p in percs:\n",
        "  nca = MCML(n_latent = n_latent, epochs = 100)\n",
        "  ncaR2 = MCML(n_latent = n_latent, epochs = 100)\n",
        "\n",
        "  labels = np.array([lab1])\n",
        "  train_inds = np.random.choice(len(scaled_mat), size = int((p)*len(scaled_mat)),replace=False)\n",
        "  unlab_inds = [i for i in range(len(adata)) if i not in train_inds]\n",
        "  labels[:, unlab_inds] = np.nan\n",
        "\n",
        "  #2 labels\n",
        "  labels2 = allLabs2\n",
        "  labels2[:, unlab_inds] = np.nan\n",
        "\n",
        "  losses, latent = nca.fit(scaled_mat,labels,fracNCA = 0.25, silent = True,ret_loss = True)\n",
        "\n",
        "\n",
        "\n",
        "  toc = time.perf_counter()\n",
        "  unlabeled_idx = []\n",
        "  for i in range(len(adata)):\n",
        "      if i not in train_inds:\n",
        "          unlabeled_idx.append(i)\n",
        "  preds = knn_infer(latent, train_inds, adata.obs.cluster.values[train_inds], unlabeled_idx)\n",
        "  acc = accuracy_score(adata.obs.cluster.values[unlabeled_idx], preds)\n",
        "  acc_scoreBoth.append(acc)\n",
        "\n",
        "\n",
        "  # print(f\"nnNCA fit in {toc - tic:0.4f} seconds\")"
      ],
      "execution_count": null,
      "outputs": []
    },
    {
      "cell_type": "code",
      "metadata": {
        "colab": {
          "base_uri": "https://localhost:8080/",
          "height": 260
        },
        "id": "zdIB32yI1xyD",
        "outputId": "8481a365-96f1-4b3a-9667-4eea7378214d"
      },
      "source": [
        "lowPercsSmartSeq = pd.DataFrame()\n",
        "\n",
        "lowPercsSmartSeq['Accuracy'] = acc_scoreBoth\n",
        "lowPercsSmartSeq['Percent'] = percs\n",
        "\n",
        "lowPercsSmartSeq"
      ],
      "execution_count": null,
      "outputs": [
        {
          "output_type": "execute_result",
          "data": {
            "text/html": [
              "<div>\n",
              "<style scoped>\n",
              "    .dataframe tbody tr th:only-of-type {\n",
              "        vertical-align: middle;\n",
              "    }\n",
              "\n",
              "    .dataframe tbody tr th {\n",
              "        vertical-align: top;\n",
              "    }\n",
              "\n",
              "    .dataframe thead th {\n",
              "        text-align: right;\n",
              "    }\n",
              "</style>\n",
              "<table border=\"1\" class=\"dataframe\">\n",
              "  <thead>\n",
              "    <tr style=\"text-align: right;\">\n",
              "      <th></th>\n",
              "      <th>Accuracy</th>\n",
              "      <th>Percent</th>\n",
              "    </tr>\n",
              "  </thead>\n",
              "  <tbody>\n",
              "    <tr>\n",
              "      <th>0</th>\n",
              "      <td>0.844489</td>\n",
              "      <td>0.7</td>\n",
              "    </tr>\n",
              "    <tr>\n",
              "      <th>1</th>\n",
              "      <td>0.836941</td>\n",
              "      <td>0.6</td>\n",
              "    </tr>\n",
              "    <tr>\n",
              "      <th>2</th>\n",
              "      <td>0.832660</td>\n",
              "      <td>0.5</td>\n",
              "    </tr>\n",
              "    <tr>\n",
              "      <th>3</th>\n",
              "      <td>0.822551</td>\n",
              "      <td>0.4</td>\n",
              "    </tr>\n",
              "    <tr>\n",
              "      <th>4</th>\n",
              "      <td>0.812444</td>\n",
              "      <td>0.3</td>\n",
              "    </tr>\n",
              "    <tr>\n",
              "      <th>5</th>\n",
              "      <td>0.801106</td>\n",
              "      <td>0.2</td>\n",
              "    </tr>\n",
              "    <tr>\n",
              "      <th>6</th>\n",
              "      <td>0.767597</td>\n",
              "      <td>0.1</td>\n",
              "    </tr>\n",
              "  </tbody>\n",
              "</table>\n",
              "</div>"
            ],
            "text/plain": [
              "   Accuracy  Percent\n",
              "0  0.844489      0.7\n",
              "1  0.836941      0.6\n",
              "2  0.832660      0.5\n",
              "3  0.822551      0.4\n",
              "4  0.812444      0.3\n",
              "5  0.801106      0.2\n",
              "6  0.767597      0.1"
            ]
          },
          "metadata": {
            "tags": []
          },
          "execution_count": 35
        }
      ]
    },
    {
      "cell_type": "code",
      "metadata": {
        "id": "1CbdOBbo2ADy",
        "colab": {
          "base_uri": "https://localhost:8080/",
          "height": 17
        },
        "outputId": "9963ada0-0e70-4c78-d400-a92050624f95"
      },
      "source": [
        "from google.colab import files\n",
        "\n",
        "lowPercsSmartSeq.to_csv('lowPercs10XPreds.csv')\n",
        "files.download('lowPercs10XPreds.csv')"
      ],
      "execution_count": null,
      "outputs": [
        {
          "output_type": "display_data",
          "data": {
            "application/javascript": [
              "\n",
              "    async function download(id, filename, size) {\n",
              "      if (!google.colab.kernel.accessAllowed) {\n",
              "        return;\n",
              "      }\n",
              "      const div = document.createElement('div');\n",
              "      const label = document.createElement('label');\n",
              "      label.textContent = `Downloading \"${filename}\": `;\n",
              "      div.appendChild(label);\n",
              "      const progress = document.createElement('progress');\n",
              "      progress.max = size;\n",
              "      div.appendChild(progress);\n",
              "      document.body.appendChild(div);\n",
              "\n",
              "      const buffers = [];\n",
              "      let downloaded = 0;\n",
              "\n",
              "      const channel = await google.colab.kernel.comms.open(id);\n",
              "      // Send a message to notify the kernel that we're ready.\n",
              "      channel.send({})\n",
              "\n",
              "      for await (const message of channel.messages) {\n",
              "        // Send a message to notify the kernel that we're ready.\n",
              "        channel.send({})\n",
              "        if (message.buffers) {\n",
              "          for (const buffer of message.buffers) {\n",
              "            buffers.push(buffer);\n",
              "            downloaded += buffer.byteLength;\n",
              "            progress.value = downloaded;\n",
              "          }\n",
              "        }\n",
              "      }\n",
              "      const blob = new Blob(buffers, {type: 'application/binary'});\n",
              "      const a = document.createElement('a');\n",
              "      a.href = window.URL.createObjectURL(blob);\n",
              "      a.download = filename;\n",
              "      div.appendChild(a);\n",
              "      a.click();\n",
              "      div.remove();\n",
              "    }\n",
              "  "
            ],
            "text/plain": [
              "<IPython.core.display.Javascript object>"
            ]
          },
          "metadata": {
            "tags": []
          }
        },
        {
          "output_type": "display_data",
          "data": {
            "application/javascript": [
              "download(\"download_5d87d07c-26f9-43bc-9c25-e8a68f74f057\", \"lowPercs10XPreds.csv\", 192)"
            ],
            "text/plain": [
              "<IPython.core.display.Javascript object>"
            ]
          },
          "metadata": {
            "tags": []
          }
        }
      ]
    },
    {
      "cell_type": "code",
      "metadata": {
        "id": "WWE7D-NLjrlO"
      },
      "source": [
        ""
      ],
      "execution_count": null,
      "outputs": []
    }
  ]
}