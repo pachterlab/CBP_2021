{
  "nbformat": 4,
  "nbformat_minor": 0,
  "metadata": {
    "colab": {
      "name": "kimetal_tenx_predictions.ipynb",
      "provenance": [],
      "collapsed_sections": [],
      "include_colab_link": true
    },
    "kernelspec": {
      "display_name": "Python 3",
      "name": "python3"
    },
    "language_info": {
      "name": "python"
    },
    "accelerator": "GPU",
    "widgets": {
      "application/vnd.jupyter.widget-state+json": {
        "19bf36001a9f4eb6848dae3aa6b7941e": {
          "model_module": "@jupyter-widgets/controls",
          "model_name": "HBoxModel",
          "model_module_version": "1.5.0",
          "state": {
            "_view_name": "HBoxView",
            "_dom_classes": [],
            "_model_name": "HBoxModel",
            "_view_module": "@jupyter-widgets/controls",
            "_model_module_version": "1.5.0",
            "_view_count": null,
            "_view_module_version": "1.5.0",
            "box_style": "",
            "layout": "IPY_MODEL_54962fc0e61d43129d07abf968cba185",
            "_model_module": "@jupyter-widgets/controls",
            "children": [
              "IPY_MODEL_dcd6a2da99064f5eb3b7556abbc1cac8",
              "IPY_MODEL_9a2076d67dd940b2915ceb65c5c1a519",
              "IPY_MODEL_4576ff3db4574340b3cf79bd9febf5d3"
            ]
          }
        },
        "54962fc0e61d43129d07abf968cba185": {
          "model_module": "@jupyter-widgets/base",
          "model_name": "LayoutModel",
          "model_module_version": "1.2.0",
          "state": {
            "_view_name": "LayoutView",
            "grid_template_rows": null,
            "right": null,
            "justify_content": null,
            "_view_module": "@jupyter-widgets/base",
            "overflow": null,
            "_model_module_version": "1.2.0",
            "_view_count": null,
            "flex_flow": null,
            "width": null,
            "min_width": null,
            "border": null,
            "align_items": null,
            "bottom": null,
            "_model_module": "@jupyter-widgets/base",
            "top": null,
            "grid_column": null,
            "overflow_y": null,
            "overflow_x": null,
            "grid_auto_flow": null,
            "grid_area": null,
            "grid_template_columns": null,
            "flex": null,
            "_model_name": "LayoutModel",
            "justify_items": null,
            "grid_row": null,
            "max_height": null,
            "align_content": null,
            "visibility": null,
            "align_self": null,
            "height": null,
            "min_height": null,
            "padding": null,
            "grid_auto_rows": null,
            "grid_gap": null,
            "max_width": null,
            "order": null,
            "_view_module_version": "1.2.0",
            "grid_template_areas": null,
            "object_position": null,
            "object_fit": null,
            "grid_auto_columns": null,
            "margin": null,
            "display": null,
            "left": null
          }
        },
        "dcd6a2da99064f5eb3b7556abbc1cac8": {
          "model_module": "@jupyter-widgets/controls",
          "model_name": "HTMLModel",
          "model_module_version": "1.5.0",
          "state": {
            "_view_name": "HTMLView",
            "style": "IPY_MODEL_16a1731ac3094242824b6ead7fc0c045",
            "_dom_classes": [],
            "description": "",
            "_model_name": "HTMLModel",
            "placeholder": "​",
            "_view_module": "@jupyter-widgets/controls",
            "_model_module_version": "1.5.0",
            "value": "",
            "_view_count": null,
            "_view_module_version": "1.5.0",
            "description_tooltip": null,
            "_model_module": "@jupyter-widgets/controls",
            "layout": "IPY_MODEL_ce35d7e89788435394a93547c6767b92"
          }
        },
        "9a2076d67dd940b2915ceb65c5c1a519": {
          "model_module": "@jupyter-widgets/controls",
          "model_name": "FloatProgressModel",
          "model_module_version": "1.5.0",
          "state": {
            "_view_name": "ProgressView",
            "style": "IPY_MODEL_d03eedb4e67b4e889818ac167c4d70f5",
            "_dom_classes": [],
            "description": "",
            "_model_name": "FloatProgressModel",
            "bar_style": "success",
            "max": 940,
            "_view_module": "@jupyter-widgets/controls",
            "_model_module_version": "1.5.0",
            "value": 940,
            "_view_count": null,
            "_view_module_version": "1.5.0",
            "orientation": "horizontal",
            "min": 0,
            "description_tooltip": null,
            "_model_module": "@jupyter-widgets/controls",
            "layout": "IPY_MODEL_0a54608312d246df8b8fcd78e9957aa6"
          }
        },
        "4576ff3db4574340b3cf79bd9febf5d3": {
          "model_module": "@jupyter-widgets/controls",
          "model_name": "HTMLModel",
          "model_module_version": "1.5.0",
          "state": {
            "_view_name": "HTMLView",
            "style": "IPY_MODEL_f3e1aba2a2ea4ef9b1461f4279b61fd6",
            "_dom_classes": [],
            "description": "",
            "_model_name": "HTMLModel",
            "placeholder": "​",
            "_view_module": "@jupyter-widgets/controls",
            "_model_module_version": "1.5.0",
            "value": " 941/? [02:13&lt;00:00, 1646.40B/s]",
            "_view_count": null,
            "_view_module_version": "1.5.0",
            "description_tooltip": null,
            "_model_module": "@jupyter-widgets/controls",
            "layout": "IPY_MODEL_b9196e38ea7e4c4ea7565ba4909bbdf0"
          }
        },
        "16a1731ac3094242824b6ead7fc0c045": {
          "model_module": "@jupyter-widgets/controls",
          "model_name": "DescriptionStyleModel",
          "model_module_version": "1.5.0",
          "state": {
            "_view_name": "StyleView",
            "_model_name": "DescriptionStyleModel",
            "description_width": "",
            "_view_module": "@jupyter-widgets/base",
            "_model_module_version": "1.5.0",
            "_view_count": null,
            "_view_module_version": "1.2.0",
            "_model_module": "@jupyter-widgets/controls"
          }
        },
        "ce35d7e89788435394a93547c6767b92": {
          "model_module": "@jupyter-widgets/base",
          "model_name": "LayoutModel",
          "model_module_version": "1.2.0",
          "state": {
            "_view_name": "LayoutView",
            "grid_template_rows": null,
            "right": null,
            "justify_content": null,
            "_view_module": "@jupyter-widgets/base",
            "overflow": null,
            "_model_module_version": "1.2.0",
            "_view_count": null,
            "flex_flow": null,
            "width": null,
            "min_width": null,
            "border": null,
            "align_items": null,
            "bottom": null,
            "_model_module": "@jupyter-widgets/base",
            "top": null,
            "grid_column": null,
            "overflow_y": null,
            "overflow_x": null,
            "grid_auto_flow": null,
            "grid_area": null,
            "grid_template_columns": null,
            "flex": null,
            "_model_name": "LayoutModel",
            "justify_items": null,
            "grid_row": null,
            "max_height": null,
            "align_content": null,
            "visibility": null,
            "align_self": null,
            "height": null,
            "min_height": null,
            "padding": null,
            "grid_auto_rows": null,
            "grid_gap": null,
            "max_width": null,
            "order": null,
            "_view_module_version": "1.2.0",
            "grid_template_areas": null,
            "object_position": null,
            "object_fit": null,
            "grid_auto_columns": null,
            "margin": null,
            "display": null,
            "left": null
          }
        },
        "d03eedb4e67b4e889818ac167c4d70f5": {
          "model_module": "@jupyter-widgets/controls",
          "model_name": "ProgressStyleModel",
          "model_module_version": "1.5.0",
          "state": {
            "_view_name": "StyleView",
            "_model_name": "ProgressStyleModel",
            "description_width": "",
            "_view_module": "@jupyter-widgets/base",
            "_model_module_version": "1.5.0",
            "_view_count": null,
            "_view_module_version": "1.2.0",
            "bar_color": null,
            "_model_module": "@jupyter-widgets/controls"
          }
        },
        "0a54608312d246df8b8fcd78e9957aa6": {
          "model_module": "@jupyter-widgets/base",
          "model_name": "LayoutModel",
          "model_module_version": "1.2.0",
          "state": {
            "_view_name": "LayoutView",
            "grid_template_rows": null,
            "right": null,
            "justify_content": null,
            "_view_module": "@jupyter-widgets/base",
            "overflow": null,
            "_model_module_version": "1.2.0",
            "_view_count": null,
            "flex_flow": null,
            "width": null,
            "min_width": null,
            "border": null,
            "align_items": null,
            "bottom": null,
            "_model_module": "@jupyter-widgets/base",
            "top": null,
            "grid_column": null,
            "overflow_y": null,
            "overflow_x": null,
            "grid_auto_flow": null,
            "grid_area": null,
            "grid_template_columns": null,
            "flex": null,
            "_model_name": "LayoutModel",
            "justify_items": null,
            "grid_row": null,
            "max_height": null,
            "align_content": null,
            "visibility": null,
            "align_self": null,
            "height": null,
            "min_height": null,
            "padding": null,
            "grid_auto_rows": null,
            "grid_gap": null,
            "max_width": null,
            "order": null,
            "_view_module_version": "1.2.0",
            "grid_template_areas": null,
            "object_position": null,
            "object_fit": null,
            "grid_auto_columns": null,
            "margin": null,
            "display": null,
            "left": null
          }
        },
        "f3e1aba2a2ea4ef9b1461f4279b61fd6": {
          "model_module": "@jupyter-widgets/controls",
          "model_name": "DescriptionStyleModel",
          "model_module_version": "1.5.0",
          "state": {
            "_view_name": "StyleView",
            "_model_name": "DescriptionStyleModel",
            "description_width": "",
            "_view_module": "@jupyter-widgets/base",
            "_model_module_version": "1.5.0",
            "_view_count": null,
            "_view_module_version": "1.2.0",
            "_model_module": "@jupyter-widgets/controls"
          }
        },
        "b9196e38ea7e4c4ea7565ba4909bbdf0": {
          "model_module": "@jupyter-widgets/base",
          "model_name": "LayoutModel",
          "model_module_version": "1.2.0",
          "state": {
            "_view_name": "LayoutView",
            "grid_template_rows": null,
            "right": null,
            "justify_content": null,
            "_view_module": "@jupyter-widgets/base",
            "overflow": null,
            "_model_module_version": "1.2.0",
            "_view_count": null,
            "flex_flow": null,
            "width": null,
            "min_width": null,
            "border": null,
            "align_items": null,
            "bottom": null,
            "_model_module": "@jupyter-widgets/base",
            "top": null,
            "grid_column": null,
            "overflow_y": null,
            "overflow_x": null,
            "grid_auto_flow": null,
            "grid_area": null,
            "grid_template_columns": null,
            "flex": null,
            "_model_name": "LayoutModel",
            "justify_items": null,
            "grid_row": null,
            "max_height": null,
            "align_content": null,
            "visibility": null,
            "align_self": null,
            "height": null,
            "min_height": null,
            "padding": null,
            "grid_auto_rows": null,
            "grid_gap": null,
            "max_width": null,
            "order": null,
            "_view_module_version": "1.2.0",
            "grid_template_areas": null,
            "object_position": null,
            "object_fit": null,
            "grid_auto_columns": null,
            "margin": null,
            "display": null,
            "left": null
          }
        },
        "929fa5e5f430493a81dd4514d596109e": {
          "model_module": "@jupyter-widgets/controls",
          "model_name": "HBoxModel",
          "model_module_version": "1.5.0",
          "state": {
            "_view_name": "HBoxView",
            "_dom_classes": [],
            "_model_name": "HBoxModel",
            "_view_module": "@jupyter-widgets/controls",
            "_model_module_version": "1.5.0",
            "_view_count": null,
            "_view_module_version": "1.5.0",
            "box_style": "",
            "layout": "IPY_MODEL_86ac1a62b6c24f5a815b03eb257d20a8",
            "_model_module": "@jupyter-widgets/controls",
            "children": [
              "IPY_MODEL_8dc36afc2a2b4a31babfcea20a57e6a2",
              "IPY_MODEL_1322dbf31d01481d81a551fb110e2a18",
              "IPY_MODEL_1723f21b593541f2931202edb3238134"
            ]
          }
        },
        "86ac1a62b6c24f5a815b03eb257d20a8": {
          "model_module": "@jupyter-widgets/base",
          "model_name": "LayoutModel",
          "model_module_version": "1.2.0",
          "state": {
            "_view_name": "LayoutView",
            "grid_template_rows": null,
            "right": null,
            "justify_content": null,
            "_view_module": "@jupyter-widgets/base",
            "overflow": null,
            "_model_module_version": "1.2.0",
            "_view_count": null,
            "flex_flow": null,
            "width": null,
            "min_width": null,
            "border": null,
            "align_items": null,
            "bottom": null,
            "_model_module": "@jupyter-widgets/base",
            "top": null,
            "grid_column": null,
            "overflow_y": null,
            "overflow_x": null,
            "grid_auto_flow": null,
            "grid_area": null,
            "grid_template_columns": null,
            "flex": null,
            "_model_name": "LayoutModel",
            "justify_items": null,
            "grid_row": null,
            "max_height": null,
            "align_content": null,
            "visibility": null,
            "align_self": null,
            "height": null,
            "min_height": null,
            "padding": null,
            "grid_auto_rows": null,
            "grid_gap": null,
            "max_width": null,
            "order": null,
            "_view_module_version": "1.2.0",
            "grid_template_areas": null,
            "object_position": null,
            "object_fit": null,
            "grid_auto_columns": null,
            "margin": null,
            "display": null,
            "left": null
          }
        },
        "8dc36afc2a2b4a31babfcea20a57e6a2": {
          "model_module": "@jupyter-widgets/controls",
          "model_name": "HTMLModel",
          "model_module_version": "1.5.0",
          "state": {
            "_view_name": "HTMLView",
            "style": "IPY_MODEL_69dc13f7fcbd45c4be940d75f088d33f",
            "_dom_classes": [],
            "description": "",
            "_model_name": "HTMLModel",
            "placeholder": "​",
            "_view_module": "@jupyter-widgets/controls",
            "_model_module_version": "1.5.0",
            "value": "",
            "_view_count": null,
            "_view_module_version": "1.5.0",
            "description_tooltip": null,
            "_model_module": "@jupyter-widgets/controls",
            "layout": "IPY_MODEL_e4460a266a884985836932059f4c2fb0"
          }
        },
        "1322dbf31d01481d81a551fb110e2a18": {
          "model_module": "@jupyter-widgets/controls",
          "model_name": "FloatProgressModel",
          "model_module_version": "1.5.0",
          "state": {
            "_view_name": "ProgressView",
            "style": "IPY_MODEL_187d7d38d5cc423d8e1e4ccb2537df9c",
            "_dom_classes": [],
            "description": "",
            "_model_name": "FloatProgressModel",
            "bar_style": "success",
            "max": 104912,
            "_view_module": "@jupyter-widgets/controls",
            "_model_module_version": "1.5.0",
            "value": 104912,
            "_view_count": null,
            "_view_module_version": "1.5.0",
            "orientation": "horizontal",
            "min": 0,
            "description_tooltip": null,
            "_model_module": "@jupyter-widgets/controls",
            "layout": "IPY_MODEL_6c60f7e51b7749d6a2f2223b6e6dd8c1"
          }
        },
        "1723f21b593541f2931202edb3238134": {
          "model_module": "@jupyter-widgets/controls",
          "model_name": "HTMLModel",
          "model_module_version": "1.5.0",
          "state": {
            "_view_name": "HTMLView",
            "style": "IPY_MODEL_9f52139eee434758b3a037c0a37e8ef3",
            "_dom_classes": [],
            "description": "",
            "_model_name": "HTMLModel",
            "placeholder": "​",
            "_view_module": "@jupyter-widgets/controls",
            "_model_module_version": "1.5.0",
            "value": " 104913/? [00:07&lt;00:00, 26246.30B/s]",
            "_view_count": null,
            "_view_module_version": "1.5.0",
            "description_tooltip": null,
            "_model_module": "@jupyter-widgets/controls",
            "layout": "IPY_MODEL_b6162042c9d44c5c92dc49193e736036"
          }
        },
        "69dc13f7fcbd45c4be940d75f088d33f": {
          "model_module": "@jupyter-widgets/controls",
          "model_name": "DescriptionStyleModel",
          "model_module_version": "1.5.0",
          "state": {
            "_view_name": "StyleView",
            "_model_name": "DescriptionStyleModel",
            "description_width": "",
            "_view_module": "@jupyter-widgets/base",
            "_model_module_version": "1.5.0",
            "_view_count": null,
            "_view_module_version": "1.2.0",
            "_model_module": "@jupyter-widgets/controls"
          }
        },
        "e4460a266a884985836932059f4c2fb0": {
          "model_module": "@jupyter-widgets/base",
          "model_name": "LayoutModel",
          "model_module_version": "1.2.0",
          "state": {
            "_view_name": "LayoutView",
            "grid_template_rows": null,
            "right": null,
            "justify_content": null,
            "_view_module": "@jupyter-widgets/base",
            "overflow": null,
            "_model_module_version": "1.2.0",
            "_view_count": null,
            "flex_flow": null,
            "width": null,
            "min_width": null,
            "border": null,
            "align_items": null,
            "bottom": null,
            "_model_module": "@jupyter-widgets/base",
            "top": null,
            "grid_column": null,
            "overflow_y": null,
            "overflow_x": null,
            "grid_auto_flow": null,
            "grid_area": null,
            "grid_template_columns": null,
            "flex": null,
            "_model_name": "LayoutModel",
            "justify_items": null,
            "grid_row": null,
            "max_height": null,
            "align_content": null,
            "visibility": null,
            "align_self": null,
            "height": null,
            "min_height": null,
            "padding": null,
            "grid_auto_rows": null,
            "grid_gap": null,
            "max_width": null,
            "order": null,
            "_view_module_version": "1.2.0",
            "grid_template_areas": null,
            "object_position": null,
            "object_fit": null,
            "grid_auto_columns": null,
            "margin": null,
            "display": null,
            "left": null
          }
        },
        "187d7d38d5cc423d8e1e4ccb2537df9c": {
          "model_module": "@jupyter-widgets/controls",
          "model_name": "ProgressStyleModel",
          "model_module_version": "1.5.0",
          "state": {
            "_view_name": "StyleView",
            "_model_name": "ProgressStyleModel",
            "description_width": "",
            "_view_module": "@jupyter-widgets/base",
            "_model_module_version": "1.5.0",
            "_view_count": null,
            "_view_module_version": "1.2.0",
            "bar_color": null,
            "_model_module": "@jupyter-widgets/controls"
          }
        },
        "6c60f7e51b7749d6a2f2223b6e6dd8c1": {
          "model_module": "@jupyter-widgets/base",
          "model_name": "LayoutModel",
          "model_module_version": "1.2.0",
          "state": {
            "_view_name": "LayoutView",
            "grid_template_rows": null,
            "right": null,
            "justify_content": null,
            "_view_module": "@jupyter-widgets/base",
            "overflow": null,
            "_model_module_version": "1.2.0",
            "_view_count": null,
            "flex_flow": null,
            "width": null,
            "min_width": null,
            "border": null,
            "align_items": null,
            "bottom": null,
            "_model_module": "@jupyter-widgets/base",
            "top": null,
            "grid_column": null,
            "overflow_y": null,
            "overflow_x": null,
            "grid_auto_flow": null,
            "grid_area": null,
            "grid_template_columns": null,
            "flex": null,
            "_model_name": "LayoutModel",
            "justify_items": null,
            "grid_row": null,
            "max_height": null,
            "align_content": null,
            "visibility": null,
            "align_self": null,
            "height": null,
            "min_height": null,
            "padding": null,
            "grid_auto_rows": null,
            "grid_gap": null,
            "max_width": null,
            "order": null,
            "_view_module_version": "1.2.0",
            "grid_template_areas": null,
            "object_position": null,
            "object_fit": null,
            "grid_auto_columns": null,
            "margin": null,
            "display": null,
            "left": null
          }
        },
        "9f52139eee434758b3a037c0a37e8ef3": {
          "model_module": "@jupyter-widgets/controls",
          "model_name": "DescriptionStyleModel",
          "model_module_version": "1.5.0",
          "state": {
            "_view_name": "StyleView",
            "_model_name": "DescriptionStyleModel",
            "description_width": "",
            "_view_module": "@jupyter-widgets/base",
            "_model_module_version": "1.5.0",
            "_view_count": null,
            "_view_module_version": "1.2.0",
            "_model_module": "@jupyter-widgets/controls"
          }
        },
        "b6162042c9d44c5c92dc49193e736036": {
          "model_module": "@jupyter-widgets/base",
          "model_name": "LayoutModel",
          "model_module_version": "1.2.0",
          "state": {
            "_view_name": "LayoutView",
            "grid_template_rows": null,
            "right": null,
            "justify_content": null,
            "_view_module": "@jupyter-widgets/base",
            "overflow": null,
            "_model_module_version": "1.2.0",
            "_view_count": null,
            "flex_flow": null,
            "width": null,
            "min_width": null,
            "border": null,
            "align_items": null,
            "bottom": null,
            "_model_module": "@jupyter-widgets/base",
            "top": null,
            "grid_column": null,
            "overflow_y": null,
            "overflow_x": null,
            "grid_auto_flow": null,
            "grid_area": null,
            "grid_template_columns": null,
            "flex": null,
            "_model_name": "LayoutModel",
            "justify_items": null,
            "grid_row": null,
            "max_height": null,
            "align_content": null,
            "visibility": null,
            "align_self": null,
            "height": null,
            "min_height": null,
            "padding": null,
            "grid_auto_rows": null,
            "grid_gap": null,
            "max_width": null,
            "order": null,
            "_view_module_version": "1.2.0",
            "grid_template_areas": null,
            "object_position": null,
            "object_fit": null,
            "grid_auto_columns": null,
            "margin": null,
            "display": null,
            "left": null
          }
        },
        "18ce9120b43547a79d3c98e0eccd9ebd": {
          "model_module": "@jupyter-widgets/controls",
          "model_name": "HBoxModel",
          "model_module_version": "1.5.0",
          "state": {
            "_view_name": "HBoxView",
            "_dom_classes": [],
            "_model_name": "HBoxModel",
            "_view_module": "@jupyter-widgets/controls",
            "_model_module_version": "1.5.0",
            "_view_count": null,
            "_view_module_version": "1.5.0",
            "box_style": "",
            "layout": "IPY_MODEL_d08251c517524ee0a40310ea0d1a93eb",
            "_model_module": "@jupyter-widgets/controls",
            "children": [
              "IPY_MODEL_0125faa856bf42d1b57d2127e1eb5c9d",
              "IPY_MODEL_eca6bd97ece14ae7b29f454b78a61724",
              "IPY_MODEL_e9046ecc54134d8d9c918bc74e8dbc45"
            ]
          }
        },
        "d08251c517524ee0a40310ea0d1a93eb": {
          "model_module": "@jupyter-widgets/base",
          "model_name": "LayoutModel",
          "model_module_version": "1.2.0",
          "state": {
            "_view_name": "LayoutView",
            "grid_template_rows": null,
            "right": null,
            "justify_content": null,
            "_view_module": "@jupyter-widgets/base",
            "overflow": null,
            "_model_module_version": "1.2.0",
            "_view_count": null,
            "flex_flow": null,
            "width": null,
            "min_width": null,
            "border": null,
            "align_items": null,
            "bottom": null,
            "_model_module": "@jupyter-widgets/base",
            "top": null,
            "grid_column": null,
            "overflow_y": null,
            "overflow_x": null,
            "grid_auto_flow": null,
            "grid_area": null,
            "grid_template_columns": null,
            "flex": null,
            "_model_name": "LayoutModel",
            "justify_items": null,
            "grid_row": null,
            "max_height": null,
            "align_content": null,
            "visibility": null,
            "align_self": null,
            "height": null,
            "min_height": null,
            "padding": null,
            "grid_auto_rows": null,
            "grid_gap": null,
            "max_width": null,
            "order": null,
            "_view_module_version": "1.2.0",
            "grid_template_areas": null,
            "object_position": null,
            "object_fit": null,
            "grid_auto_columns": null,
            "margin": null,
            "display": null,
            "left": null
          }
        },
        "0125faa856bf42d1b57d2127e1eb5c9d": {
          "model_module": "@jupyter-widgets/controls",
          "model_name": "HTMLModel",
          "model_module_version": "1.5.0",
          "state": {
            "_view_name": "HTMLView",
            "style": "IPY_MODEL_2b3375b0b3414f58be7644115479c3aa",
            "_dom_classes": [],
            "description": "",
            "_model_name": "HTMLModel",
            "placeholder": "​",
            "_view_module": "@jupyter-widgets/controls",
            "_model_module_version": "1.5.0",
            "value": "",
            "_view_count": null,
            "_view_module_version": "1.5.0",
            "description_tooltip": null,
            "_model_module": "@jupyter-widgets/controls",
            "layout": "IPY_MODEL_6572b41abd8043b98a22baf59cbe05cb"
          }
        },
        "eca6bd97ece14ae7b29f454b78a61724": {
          "model_module": "@jupyter-widgets/controls",
          "model_name": "FloatProgressModel",
          "model_module_version": "1.5.0",
          "state": {
            "_view_name": "ProgressView",
            "style": "IPY_MODEL_489f4fdee5294286826290af8443f330",
            "_dom_classes": [],
            "description": "",
            "_model_name": "FloatProgressModel",
            "bar_style": "success",
            "max": 14752,
            "_view_module": "@jupyter-widgets/controls",
            "_model_module_version": "1.5.0",
            "value": 14752,
            "_view_count": null,
            "_view_module_version": "1.5.0",
            "orientation": "horizontal",
            "min": 0,
            "description_tooltip": null,
            "_model_module": "@jupyter-widgets/controls",
            "layout": "IPY_MODEL_36c3ac6051cf4a42a257f8ad40ad6986"
          }
        },
        "e9046ecc54134d8d9c918bc74e8dbc45": {
          "model_module": "@jupyter-widgets/controls",
          "model_name": "HTMLModel",
          "model_module_version": "1.5.0",
          "state": {
            "_view_name": "HTMLView",
            "style": "IPY_MODEL_52b52fe4644043768c26a2d273b56261",
            "_dom_classes": [],
            "description": "",
            "_model_name": "HTMLModel",
            "placeholder": "​",
            "_view_module": "@jupyter-widgets/controls",
            "_model_module_version": "1.5.0",
            "value": " 14753/? [00:50&lt;00:00, 17263.88B/s]",
            "_view_count": null,
            "_view_module_version": "1.5.0",
            "description_tooltip": null,
            "_model_module": "@jupyter-widgets/controls",
            "layout": "IPY_MODEL_482ec0a66713422ead11dcf1450b655b"
          }
        },
        "2b3375b0b3414f58be7644115479c3aa": {
          "model_module": "@jupyter-widgets/controls",
          "model_name": "DescriptionStyleModel",
          "model_module_version": "1.5.0",
          "state": {
            "_view_name": "StyleView",
            "_model_name": "DescriptionStyleModel",
            "description_width": "",
            "_view_module": "@jupyter-widgets/base",
            "_model_module_version": "1.5.0",
            "_view_count": null,
            "_view_module_version": "1.2.0",
            "_model_module": "@jupyter-widgets/controls"
          }
        },
        "6572b41abd8043b98a22baf59cbe05cb": {
          "model_module": "@jupyter-widgets/base",
          "model_name": "LayoutModel",
          "model_module_version": "1.2.0",
          "state": {
            "_view_name": "LayoutView",
            "grid_template_rows": null,
            "right": null,
            "justify_content": null,
            "_view_module": "@jupyter-widgets/base",
            "overflow": null,
            "_model_module_version": "1.2.0",
            "_view_count": null,
            "flex_flow": null,
            "width": null,
            "min_width": null,
            "border": null,
            "align_items": null,
            "bottom": null,
            "_model_module": "@jupyter-widgets/base",
            "top": null,
            "grid_column": null,
            "overflow_y": null,
            "overflow_x": null,
            "grid_auto_flow": null,
            "grid_area": null,
            "grid_template_columns": null,
            "flex": null,
            "_model_name": "LayoutModel",
            "justify_items": null,
            "grid_row": null,
            "max_height": null,
            "align_content": null,
            "visibility": null,
            "align_self": null,
            "height": null,
            "min_height": null,
            "padding": null,
            "grid_auto_rows": null,
            "grid_gap": null,
            "max_width": null,
            "order": null,
            "_view_module_version": "1.2.0",
            "grid_template_areas": null,
            "object_position": null,
            "object_fit": null,
            "grid_auto_columns": null,
            "margin": null,
            "display": null,
            "left": null
          }
        },
        "489f4fdee5294286826290af8443f330": {
          "model_module": "@jupyter-widgets/controls",
          "model_name": "ProgressStyleModel",
          "model_module_version": "1.5.0",
          "state": {
            "_view_name": "StyleView",
            "_model_name": "ProgressStyleModel",
            "description_width": "",
            "_view_module": "@jupyter-widgets/base",
            "_model_module_version": "1.5.0",
            "_view_count": null,
            "_view_module_version": "1.2.0",
            "bar_color": null,
            "_model_module": "@jupyter-widgets/controls"
          }
        },
        "36c3ac6051cf4a42a257f8ad40ad6986": {
          "model_module": "@jupyter-widgets/base",
          "model_name": "LayoutModel",
          "model_module_version": "1.2.0",
          "state": {
            "_view_name": "LayoutView",
            "grid_template_rows": null,
            "right": null,
            "justify_content": null,
            "_view_module": "@jupyter-widgets/base",
            "overflow": null,
            "_model_module_version": "1.2.0",
            "_view_count": null,
            "flex_flow": null,
            "width": null,
            "min_width": null,
            "border": null,
            "align_items": null,
            "bottom": null,
            "_model_module": "@jupyter-widgets/base",
            "top": null,
            "grid_column": null,
            "overflow_y": null,
            "overflow_x": null,
            "grid_auto_flow": null,
            "grid_area": null,
            "grid_template_columns": null,
            "flex": null,
            "_model_name": "LayoutModel",
            "justify_items": null,
            "grid_row": null,
            "max_height": null,
            "align_content": null,
            "visibility": null,
            "align_self": null,
            "height": null,
            "min_height": null,
            "padding": null,
            "grid_auto_rows": null,
            "grid_gap": null,
            "max_width": null,
            "order": null,
            "_view_module_version": "1.2.0",
            "grid_template_areas": null,
            "object_position": null,
            "object_fit": null,
            "grid_auto_columns": null,
            "margin": null,
            "display": null,
            "left": null
          }
        },
        "52b52fe4644043768c26a2d273b56261": {
          "model_module": "@jupyter-widgets/controls",
          "model_name": "DescriptionStyleModel",
          "model_module_version": "1.5.0",
          "state": {
            "_view_name": "StyleView",
            "_model_name": "DescriptionStyleModel",
            "description_width": "",
            "_view_module": "@jupyter-widgets/base",
            "_model_module_version": "1.5.0",
            "_view_count": null,
            "_view_module_version": "1.2.0",
            "_model_module": "@jupyter-widgets/controls"
          }
        },
        "482ec0a66713422ead11dcf1450b655b": {
          "model_module": "@jupyter-widgets/base",
          "model_name": "LayoutModel",
          "model_module_version": "1.2.0",
          "state": {
            "_view_name": "LayoutView",
            "grid_template_rows": null,
            "right": null,
            "justify_content": null,
            "_view_module": "@jupyter-widgets/base",
            "overflow": null,
            "_model_module_version": "1.2.0",
            "_view_count": null,
            "flex_flow": null,
            "width": null,
            "min_width": null,
            "border": null,
            "align_items": null,
            "bottom": null,
            "_model_module": "@jupyter-widgets/base",
            "top": null,
            "grid_column": null,
            "overflow_y": null,
            "overflow_x": null,
            "grid_auto_flow": null,
            "grid_area": null,
            "grid_template_columns": null,
            "flex": null,
            "_model_name": "LayoutModel",
            "justify_items": null,
            "grid_row": null,
            "max_height": null,
            "align_content": null,
            "visibility": null,
            "align_self": null,
            "height": null,
            "min_height": null,
            "padding": null,
            "grid_auto_rows": null,
            "grid_gap": null,
            "max_width": null,
            "order": null,
            "_view_module_version": "1.2.0",
            "grid_template_areas": null,
            "object_position": null,
            "object_fit": null,
            "grid_auto_columns": null,
            "margin": null,
            "display": null,
            "left": null
          }
        },
        "e81b6d8feb594eac803936dab6510936": {
          "model_module": "@jupyter-widgets/controls",
          "model_name": "HBoxModel",
          "model_module_version": "1.5.0",
          "state": {
            "_view_name": "HBoxView",
            "_dom_classes": [],
            "_model_name": "HBoxModel",
            "_view_module": "@jupyter-widgets/controls",
            "_model_module_version": "1.5.0",
            "_view_count": null,
            "_view_module_version": "1.5.0",
            "box_style": "",
            "layout": "IPY_MODEL_b62ac96f4f7540e1b8e60e482f619424",
            "_model_module": "@jupyter-widgets/controls",
            "children": [
              "IPY_MODEL_d07fa2e5cd7544078cfd125c5dd4f09a",
              "IPY_MODEL_6a4a06692e99482a86b5a1829efa30c8",
              "IPY_MODEL_1d314efe0ff74596b180944dace905aa"
            ]
          }
        },
        "b62ac96f4f7540e1b8e60e482f619424": {
          "model_module": "@jupyter-widgets/base",
          "model_name": "LayoutModel",
          "model_module_version": "1.2.0",
          "state": {
            "_view_name": "LayoutView",
            "grid_template_rows": null,
            "right": null,
            "justify_content": null,
            "_view_module": "@jupyter-widgets/base",
            "overflow": null,
            "_model_module_version": "1.2.0",
            "_view_count": null,
            "flex_flow": null,
            "width": null,
            "min_width": null,
            "border": null,
            "align_items": null,
            "bottom": null,
            "_model_module": "@jupyter-widgets/base",
            "top": null,
            "grid_column": null,
            "overflow_y": null,
            "overflow_x": null,
            "grid_auto_flow": null,
            "grid_area": null,
            "grid_template_columns": null,
            "flex": null,
            "_model_name": "LayoutModel",
            "justify_items": null,
            "grid_row": null,
            "max_height": null,
            "align_content": null,
            "visibility": null,
            "align_self": null,
            "height": null,
            "min_height": null,
            "padding": null,
            "grid_auto_rows": null,
            "grid_gap": null,
            "max_width": null,
            "order": null,
            "_view_module_version": "1.2.0",
            "grid_template_areas": null,
            "object_position": null,
            "object_fit": null,
            "grid_auto_columns": null,
            "margin": null,
            "display": null,
            "left": null
          }
        },
        "d07fa2e5cd7544078cfd125c5dd4f09a": {
          "model_module": "@jupyter-widgets/controls",
          "model_name": "HTMLModel",
          "model_module_version": "1.5.0",
          "state": {
            "_view_name": "HTMLView",
            "style": "IPY_MODEL_32aa00b754f4422b8a14e11676470876",
            "_dom_classes": [],
            "description": "",
            "_model_name": "HTMLModel",
            "placeholder": "​",
            "_view_module": "@jupyter-widgets/controls",
            "_model_module_version": "1.5.0",
            "value": "",
            "_view_count": null,
            "_view_module_version": "1.5.0",
            "description_tooltip": null,
            "_model_module": "@jupyter-widgets/controls",
            "layout": "IPY_MODEL_95241fb620d84c3b8379f32d5beb4b70"
          }
        },
        "6a4a06692e99482a86b5a1829efa30c8": {
          "model_module": "@jupyter-widgets/controls",
          "model_name": "FloatProgressModel",
          "model_module_version": "1.5.0",
          "state": {
            "_view_name": "ProgressView",
            "style": "IPY_MODEL_39dfae3835f24670887805b4de6527ed",
            "_dom_classes": [],
            "description": "",
            "_model_name": "FloatProgressModel",
            "bar_style": "success",
            "max": 12,
            "_view_module": "@jupyter-widgets/controls",
            "_model_module_version": "1.5.0",
            "value": 12,
            "_view_count": null,
            "_view_module_version": "1.5.0",
            "orientation": "horizontal",
            "min": 0,
            "description_tooltip": null,
            "_model_module": "@jupyter-widgets/controls",
            "layout": "IPY_MODEL_9f03030180fe438cb3115358c3ffc389"
          }
        },
        "1d314efe0ff74596b180944dace905aa": {
          "model_module": "@jupyter-widgets/controls",
          "model_name": "HTMLModel",
          "model_module_version": "1.5.0",
          "state": {
            "_view_name": "HTMLView",
            "style": "IPY_MODEL_5896be448ca54e0d80255fa432c71c4c",
            "_dom_classes": [],
            "description": "",
            "_model_name": "HTMLModel",
            "placeholder": "​",
            "_view_module": "@jupyter-widgets/controls",
            "_model_module_version": "1.5.0",
            "value": " 13/? [00:47&lt;00:00,  9.82B/s]",
            "_view_count": null,
            "_view_module_version": "1.5.0",
            "description_tooltip": null,
            "_model_module": "@jupyter-widgets/controls",
            "layout": "IPY_MODEL_d4c53ef0569b48f69e6802e1badab29c"
          }
        },
        "32aa00b754f4422b8a14e11676470876": {
          "model_module": "@jupyter-widgets/controls",
          "model_name": "DescriptionStyleModel",
          "model_module_version": "1.5.0",
          "state": {
            "_view_name": "StyleView",
            "_model_name": "DescriptionStyleModel",
            "description_width": "",
            "_view_module": "@jupyter-widgets/base",
            "_model_module_version": "1.5.0",
            "_view_count": null,
            "_view_module_version": "1.2.0",
            "_model_module": "@jupyter-widgets/controls"
          }
        },
        "95241fb620d84c3b8379f32d5beb4b70": {
          "model_module": "@jupyter-widgets/base",
          "model_name": "LayoutModel",
          "model_module_version": "1.2.0",
          "state": {
            "_view_name": "LayoutView",
            "grid_template_rows": null,
            "right": null,
            "justify_content": null,
            "_view_module": "@jupyter-widgets/base",
            "overflow": null,
            "_model_module_version": "1.2.0",
            "_view_count": null,
            "flex_flow": null,
            "width": null,
            "min_width": null,
            "border": null,
            "align_items": null,
            "bottom": null,
            "_model_module": "@jupyter-widgets/base",
            "top": null,
            "grid_column": null,
            "overflow_y": null,
            "overflow_x": null,
            "grid_auto_flow": null,
            "grid_area": null,
            "grid_template_columns": null,
            "flex": null,
            "_model_name": "LayoutModel",
            "justify_items": null,
            "grid_row": null,
            "max_height": null,
            "align_content": null,
            "visibility": null,
            "align_self": null,
            "height": null,
            "min_height": null,
            "padding": null,
            "grid_auto_rows": null,
            "grid_gap": null,
            "max_width": null,
            "order": null,
            "_view_module_version": "1.2.0",
            "grid_template_areas": null,
            "object_position": null,
            "object_fit": null,
            "grid_auto_columns": null,
            "margin": null,
            "display": null,
            "left": null
          }
        },
        "39dfae3835f24670887805b4de6527ed": {
          "model_module": "@jupyter-widgets/controls",
          "model_name": "ProgressStyleModel",
          "model_module_version": "1.5.0",
          "state": {
            "_view_name": "StyleView",
            "_model_name": "ProgressStyleModel",
            "description_width": "",
            "_view_module": "@jupyter-widgets/base",
            "_model_module_version": "1.5.0",
            "_view_count": null,
            "_view_module_version": "1.2.0",
            "bar_color": null,
            "_model_module": "@jupyter-widgets/controls"
          }
        },
        "9f03030180fe438cb3115358c3ffc389": {
          "model_module": "@jupyter-widgets/base",
          "model_name": "LayoutModel",
          "model_module_version": "1.2.0",
          "state": {
            "_view_name": "LayoutView",
            "grid_template_rows": null,
            "right": null,
            "justify_content": null,
            "_view_module": "@jupyter-widgets/base",
            "overflow": null,
            "_model_module_version": "1.2.0",
            "_view_count": null,
            "flex_flow": null,
            "width": null,
            "min_width": null,
            "border": null,
            "align_items": null,
            "bottom": null,
            "_model_module": "@jupyter-widgets/base",
            "top": null,
            "grid_column": null,
            "overflow_y": null,
            "overflow_x": null,
            "grid_auto_flow": null,
            "grid_area": null,
            "grid_template_columns": null,
            "flex": null,
            "_model_name": "LayoutModel",
            "justify_items": null,
            "grid_row": null,
            "max_height": null,
            "align_content": null,
            "visibility": null,
            "align_self": null,
            "height": null,
            "min_height": null,
            "padding": null,
            "grid_auto_rows": null,
            "grid_gap": null,
            "max_width": null,
            "order": null,
            "_view_module_version": "1.2.0",
            "grid_template_areas": null,
            "object_position": null,
            "object_fit": null,
            "grid_auto_columns": null,
            "margin": null,
            "display": null,
            "left": null
          }
        },
        "5896be448ca54e0d80255fa432c71c4c": {
          "model_module": "@jupyter-widgets/controls",
          "model_name": "DescriptionStyleModel",
          "model_module_version": "1.5.0",
          "state": {
            "_view_name": "StyleView",
            "_model_name": "DescriptionStyleModel",
            "description_width": "",
            "_view_module": "@jupyter-widgets/base",
            "_model_module_version": "1.5.0",
            "_view_count": null,
            "_view_module_version": "1.2.0",
            "_model_module": "@jupyter-widgets/controls"
          }
        },
        "d4c53ef0569b48f69e6802e1badab29c": {
          "model_module": "@jupyter-widgets/base",
          "model_name": "LayoutModel",
          "model_module_version": "1.2.0",
          "state": {
            "_view_name": "LayoutView",
            "grid_template_rows": null,
            "right": null,
            "justify_content": null,
            "_view_module": "@jupyter-widgets/base",
            "overflow": null,
            "_model_module_version": "1.2.0",
            "_view_count": null,
            "flex_flow": null,
            "width": null,
            "min_width": null,
            "border": null,
            "align_items": null,
            "bottom": null,
            "_model_module": "@jupyter-widgets/base",
            "top": null,
            "grid_column": null,
            "overflow_y": null,
            "overflow_x": null,
            "grid_auto_flow": null,
            "grid_area": null,
            "grid_template_columns": null,
            "flex": null,
            "_model_name": "LayoutModel",
            "justify_items": null,
            "grid_row": null,
            "max_height": null,
            "align_content": null,
            "visibility": null,
            "align_self": null,
            "height": null,
            "min_height": null,
            "padding": null,
            "grid_auto_rows": null,
            "grid_gap": null,
            "max_width": null,
            "order": null,
            "_view_module_version": "1.2.0",
            "grid_template_areas": null,
            "object_position": null,
            "object_fit": null,
            "grid_auto_columns": null,
            "margin": null,
            "display": null,
            "left": null
          }
        }
      }
    }
  },
  "cells": [
    {
      "cell_type": "markdown",
      "metadata": {
        "id": "view-in-github",
        "colab_type": "text"
      },
      "source": [
        "<a href=\"https://colab.research.google.com/github/pachterlab/CBP_2021/blob/main/notebooks/VMHNeurons/kimetal_tenx_predictions.ipynb\" target=\"_parent\"><img src=\"https://colab.research.google.com/assets/colab-badge.svg\" alt=\"Open In Colab\"/></a>"
      ]
    },
    {
      "cell_type": "code",
      "metadata": {
        "id": "aghcQdQ-R7u_",
        "colab": {
          "base_uri": "https://localhost:8080/",
          "height": 199,
          "referenced_widgets": [
            "19bf36001a9f4eb6848dae3aa6b7941e",
            "54962fc0e61d43129d07abf968cba185",
            "dcd6a2da99064f5eb3b7556abbc1cac8",
            "9a2076d67dd940b2915ceb65c5c1a519",
            "4576ff3db4574340b3cf79bd9febf5d3",
            "16a1731ac3094242824b6ead7fc0c045",
            "ce35d7e89788435394a93547c6767b92",
            "d03eedb4e67b4e889818ac167c4d70f5",
            "0a54608312d246df8b8fcd78e9957aa6",
            "f3e1aba2a2ea4ef9b1461f4279b61fd6",
            "b9196e38ea7e4c4ea7565ba4909bbdf0",
            "929fa5e5f430493a81dd4514d596109e",
            "86ac1a62b6c24f5a815b03eb257d20a8",
            "8dc36afc2a2b4a31babfcea20a57e6a2",
            "1322dbf31d01481d81a551fb110e2a18",
            "1723f21b593541f2931202edb3238134",
            "69dc13f7fcbd45c4be940d75f088d33f",
            "e4460a266a884985836932059f4c2fb0",
            "187d7d38d5cc423d8e1e4ccb2537df9c",
            "6c60f7e51b7749d6a2f2223b6e6dd8c1",
            "9f52139eee434758b3a037c0a37e8ef3",
            "b6162042c9d44c5c92dc49193e736036",
            "18ce9120b43547a79d3c98e0eccd9ebd",
            "d08251c517524ee0a40310ea0d1a93eb",
            "0125faa856bf42d1b57d2127e1eb5c9d",
            "eca6bd97ece14ae7b29f454b78a61724",
            "e9046ecc54134d8d9c918bc74e8dbc45",
            "2b3375b0b3414f58be7644115479c3aa",
            "6572b41abd8043b98a22baf59cbe05cb",
            "489f4fdee5294286826290af8443f330",
            "36c3ac6051cf4a42a257f8ad40ad6986",
            "52b52fe4644043768c26a2d273b56261",
            "482ec0a66713422ead11dcf1450b655b",
            "e81b6d8feb594eac803936dab6510936",
            "b62ac96f4f7540e1b8e60e482f619424",
            "d07fa2e5cd7544078cfd125c5dd4f09a",
            "6a4a06692e99482a86b5a1829efa30c8",
            "1d314efe0ff74596b180944dace905aa",
            "32aa00b754f4422b8a14e11676470876",
            "95241fb620d84c3b8379f32d5beb4b70",
            "39dfae3835f24670887805b4de6527ed",
            "9f03030180fe438cb3115358c3ffc389",
            "5896be448ca54e0d80255fa432c71c4c",
            "d4c53ef0569b48f69e6802e1badab29c"
          ]
        },
        "outputId": "87fc800f-bc61-4a47-80bf-c8b71001a077"
      },
      "source": [
        "import requests\n",
        "import os\n",
        "\n",
        "\n",
        "from tqdm import tnrange, tqdm_notebook\n",
        "def download_file(doi,ext):\n",
        "\turl = 'https://api.datacite.org/dois/'+doi+'/media'\n",
        "\tr = requests.get(url).json()\n",
        "\tnetcdf_url = r['data'][0]['attributes']['url']\n",
        "\tr = requests.get(netcdf_url,stream=True)\n",
        "\t#Set file name\n",
        "\tfname = doi.split('/')[-1]+ext\n",
        "\t#Download file with progress bar\n",
        "\tif r.status_code == 403:\n",
        "\t\tprint(\"File Unavailable\")\n",
        "\tif 'content-length' not in r.headers:\n",
        "\t\tprint(\"Did not get file\")\n",
        "\telse:\n",
        "\t\twith open(fname, 'wb') as f:\n",
        "\t\t\ttotal_length = int(r.headers.get('content-length'))\n",
        "\t\t\tpbar = tnrange(int(total_length/1024), unit=\"B\")\n",
        "\t\t\tfor chunk in r.iter_content(chunk_size=1024):\n",
        "\t\t\t\tif chunk:\n",
        "\t\t\t\t\tpbar.update()\n",
        "\t\t\t\t\tf.write(chunk)\n",
        "\t\treturn fname\n",
        "\n",
        "\n",
        "#10x VMH data\n",
        "#metadata.csv\n",
        "download_file('10.22002/D1.2065','.gz')\n",
        "\n",
        "#tenx.mtx (log counts)\n",
        "download_file('10.22002/D1.2072','.gz')\n",
        "\n",
        "#10X raw Count Matrix\n",
        "download_file('10.22002/D1.2073','.gz')\n",
        "\n",
        "#var.csv\n",
        "download_file('10.22002/D1.2066','.gz')\n",
        "\n",
        "\n",
        "\n",
        "os.system(\"gunzip *.gz\")\n",
        "\n",
        "os.system(\"mv D1.2065 metadata.csv\")\n",
        "os.system(\"mv D1.2072 tenx.mtx\")\n",
        "os.system(\"mv D1.2073 tenxCount.mtx\")\n",
        "os.system(\"mv D1.2066 tenx_var.csv\")"
      ],
      "execution_count": 1,
      "outputs": [
        {
          "output_type": "stream",
          "name": "stderr",
          "text": [
            "/usr/local/lib/python3.7/dist-packages/ipykernel_launcher.py:21: TqdmDeprecationWarning: Please use `tqdm.notebook.trange` instead of `tqdm.tnrange`\n"
          ]
        },
        {
          "output_type": "display_data",
          "data": {
            "application/vnd.jupyter.widget-view+json": {
              "model_id": "19bf36001a9f4eb6848dae3aa6b7941e",
              "version_minor": 0,
              "version_major": 2
            },
            "text/plain": [
              "  0%|          | 0/940 [00:00<?, ?B/s]"
            ]
          },
          "metadata": {}
        },
        {
          "output_type": "display_data",
          "data": {
            "application/vnd.jupyter.widget-view+json": {
              "model_id": "929fa5e5f430493a81dd4514d596109e",
              "version_minor": 0,
              "version_major": 2
            },
            "text/plain": [
              "  0%|          | 0/104912 [00:00<?, ?B/s]"
            ]
          },
          "metadata": {}
        },
        {
          "output_type": "display_data",
          "data": {
            "application/vnd.jupyter.widget-view+json": {
              "model_id": "18ce9120b43547a79d3c98e0eccd9ebd",
              "version_minor": 0,
              "version_major": 2
            },
            "text/plain": [
              "  0%|          | 0/14752 [00:00<?, ?B/s]"
            ]
          },
          "metadata": {}
        },
        {
          "output_type": "display_data",
          "data": {
            "application/vnd.jupyter.widget-view+json": {
              "model_id": "e81b6d8feb594eac803936dab6510936",
              "version_minor": 0,
              "version_major": 2
            },
            "text/plain": [
              "  0%|          | 0/12 [00:00<?, ?B/s]"
            ]
          },
          "metadata": {}
        },
        {
          "output_type": "execute_result",
          "data": {
            "text/plain": [
              "0"
            ]
          },
          "metadata": {},
          "execution_count": 1
        }
      ]
    },
    {
      "cell_type": "code",
      "metadata": {
        "id": "UKhlS98Sw3fj",
        "outputId": "444cfd1d-1767-448e-ac73-854fa673a8ca",
        "colab": {
          "base_uri": "https://localhost:8080/"
        }
      },
      "source": [
        "%cd /content"
      ],
      "execution_count": 20,
      "outputs": [
        {
          "output_type": "stream",
          "name": "stdout",
          "text": [
            "/content\n"
          ]
        }
      ]
    },
    {
      "cell_type": "code",
      "metadata": {
        "id": "7cWkFJRvw56Z",
        "outputId": "dc408675-e28b-438a-8372-1aeb017ee759",
        "colab": {
          "base_uri": "https://localhost:8080/"
        }
      },
      "source": [
        "!git clone https://github.com/hhcho/densvis.git"
      ],
      "execution_count": 21,
      "outputs": [
        {
          "output_type": "stream",
          "name": "stdout",
          "text": [
            "Cloning into 'densvis'...\n",
            "remote: Enumerating objects: 145, done.\u001b[K\n",
            "remote: Counting objects: 100% (145/145), done.\u001b[K\n",
            "remote: Compressing objects: 100% (102/102), done.\u001b[K\n",
            "remote: Total 145 (delta 78), reused 95 (delta 38), pack-reused 0\u001b[K\n",
            "Receiving objects: 100% (145/145), 412.94 KiB | 4.39 MiB/s, done.\n",
            "Resolving deltas: 100% (78/78), done.\n"
          ]
        }
      ]
    },
    {
      "cell_type": "code",
      "metadata": {
        "id": "sYavhBhmw-PP",
        "outputId": "1ff92eac-414f-4281-a19f-e72b18bd892c",
        "colab": {
          "base_uri": "https://localhost:8080/"
        }
      },
      "source": [
        "%cd /content/densvis/densne/"
      ],
      "execution_count": 22,
      "outputs": [
        {
          "output_type": "stream",
          "name": "stdout",
          "text": [
            "/content/densvis/densne\n"
          ]
        }
      ]
    },
    {
      "cell_type": "code",
      "metadata": {
        "id": "W2ISJzxrw_gS",
        "outputId": "41a46fc2-f86a-447c-a8f9-bab94103d9f7",
        "colab": {
          "base_uri": "https://localhost:8080/"
        }
      },
      "source": [
        "!g++ sptree.cpp densne.cpp densne_main.cpp -o den_sne -O2\n",
        "import densne"
      ],
      "execution_count": 23,
      "outputs": [
        {
          "output_type": "stream",
          "name": "stdout",
          "text": [
            "\u001b[01m\u001b[Kdensne.cpp:\u001b[m\u001b[K In function ‘\u001b[01m\u001b[Kbool DENSNE::load_data(double**, int*, int*, int*, double*, double*, int*, int*, double*, double*, bool*, double**)\u001b[m\u001b[K’:\n",
            "\u001b[01m\u001b[Kdensne.cpp:961:8:\u001b[m\u001b[K \u001b[01;35m\u001b[Kwarning: \u001b[m\u001b[Kignoring return value of ‘\u001b[01m\u001b[Ksize_t fread(void*, size_t, size_t, FILE*)\u001b[m\u001b[K’, declared with attribute warn_unused_result [\u001b[01;35m\u001b[K-Wunused-result\u001b[m\u001b[K]\n",
            "   \u001b[01;35m\u001b[Kfread(n, sizeof(int), 1, h)\u001b[m\u001b[K;                                            // number of datapoints\n",
            "   \u001b[01;35m\u001b[K~~~~~^~~~~~~~~~~~~~~~~~~~~~\u001b[m\u001b[K\n",
            "\u001b[01m\u001b[Kdensne.cpp:962:8:\u001b[m\u001b[K \u001b[01;35m\u001b[Kwarning: \u001b[m\u001b[Kignoring return value of ‘\u001b[01m\u001b[Ksize_t fread(void*, size_t, size_t, FILE*)\u001b[m\u001b[K’, declared with attribute warn_unused_result [\u001b[01;35m\u001b[K-Wunused-result\u001b[m\u001b[K]\n",
            "   \u001b[01;35m\u001b[Kfread(d, sizeof(int), 1, h)\u001b[m\u001b[K;                                            // original dimensionality\n",
            "   \u001b[01;35m\u001b[K~~~~~^~~~~~~~~~~~~~~~~~~~~~\u001b[m\u001b[K\n",
            "\u001b[01m\u001b[Kdensne.cpp:963:8:\u001b[m\u001b[K \u001b[01;35m\u001b[Kwarning: \u001b[m\u001b[Kignoring return value of ‘\u001b[01m\u001b[Ksize_t fread(void*, size_t, size_t, FILE*)\u001b[m\u001b[K’, declared with attribute warn_unused_result [\u001b[01;35m\u001b[K-Wunused-result\u001b[m\u001b[K]\n",
            "   \u001b[01;35m\u001b[Kfread(theta, sizeof(double), 1, h)\u001b[m\u001b[K;                                        // gradient accuracy\n",
            "   \u001b[01;35m\u001b[K~~~~~^~~~~~~~~~~~~~~~~~~~~~~~~~~~~\u001b[m\u001b[K\n",
            "\u001b[01m\u001b[Kdensne.cpp:964:8:\u001b[m\u001b[K \u001b[01;35m\u001b[Kwarning: \u001b[m\u001b[Kignoring return value of ‘\u001b[01m\u001b[Ksize_t fread(void*, size_t, size_t, FILE*)\u001b[m\u001b[K’, declared with attribute warn_unused_result [\u001b[01;35m\u001b[K-Wunused-result\u001b[m\u001b[K]\n",
            "   \u001b[01;35m\u001b[Kfread(perplexity, sizeof(double), 1, h)\u001b[m\u001b[K;                                // perplexity\n",
            "   \u001b[01;35m\u001b[K~~~~~^~~~~~~~~~~~~~~~~~~~~~~~~~~~~~~~~~\u001b[m\u001b[K\n",
            "\u001b[01m\u001b[Kdensne.cpp:965:8:\u001b[m\u001b[K \u001b[01;35m\u001b[Kwarning: \u001b[m\u001b[Kignoring return value of ‘\u001b[01m\u001b[Ksize_t fread(void*, size_t, size_t, FILE*)\u001b[m\u001b[K’, declared with attribute warn_unused_result [\u001b[01;35m\u001b[K-Wunused-result\u001b[m\u001b[K]\n",
            "   \u001b[01;35m\u001b[Kfread(no_dims, sizeof(int), 1, h)\u001b[m\u001b[K;                                      // output dimensionality\n",
            "   \u001b[01;35m\u001b[K~~~~~^~~~~~~~~~~~~~~~~~~~~~~~~~~~\u001b[m\u001b[K\n",
            "\u001b[01m\u001b[Kdensne.cpp:966:8:\u001b[m\u001b[K \u001b[01;35m\u001b[Kwarning: \u001b[m\u001b[Kignoring return value of ‘\u001b[01m\u001b[Ksize_t fread(void*, size_t, size_t, FILE*)\u001b[m\u001b[K’, declared with attribute warn_unused_result [\u001b[01;35m\u001b[K-Wunused-result\u001b[m\u001b[K]\n",
            "   \u001b[01;35m\u001b[Kfread(max_iter, sizeof(int),1,h)\u001b[m\u001b[K;                                       // maximum number of iterations\n",
            "   \u001b[01;35m\u001b[K~~~~~^~~~~~~~~~~~~~~~~~~~~~~~~~~\u001b[m\u001b[K\n",
            "\u001b[01m\u001b[Kdensne.cpp:971:8:\u001b[m\u001b[K \u001b[01;35m\u001b[Kwarning: \u001b[m\u001b[Kignoring return value of ‘\u001b[01m\u001b[Ksize_t fread(void*, size_t, size_t, FILE*)\u001b[m\u001b[K’, declared with attribute warn_unused_result [\u001b[01;35m\u001b[K-Wunused-result\u001b[m\u001b[K]\n",
            "   \u001b[01;35m\u001b[Kfread(dens_frac, sizeof(double),1,h)\u001b[m\u001b[K;               // fraction of iters with density objective\n",
            "   \u001b[01;35m\u001b[K~~~~~^~~~~~~~~~~~~~~~~~~~~~~~~~~~~~~\u001b[m\u001b[K\n",
            "\u001b[01m\u001b[Kdensne.cpp:972:8:\u001b[m\u001b[K \u001b[01;35m\u001b[Kwarning: \u001b[m\u001b[Kignoring return value of ‘\u001b[01m\u001b[Ksize_t fread(void*, size_t, size_t, FILE*)\u001b[m\u001b[K’, declared with attribute warn_unused_result [\u001b[01;35m\u001b[K-Wunused-result\u001b[m\u001b[K]\n",
            "   \u001b[01;35m\u001b[Kfread(dens_lambda, sizeof(double),1,h)\u001b[m\u001b[K;               // regularization weight for density objective\n",
            "   \u001b[01;35m\u001b[K~~~~~^~~~~~~~~~~~~~~~~~~~~~~~~~~~~~~~~\u001b[m\u001b[K\n",
            "\u001b[01m\u001b[Kdensne.cpp:975:8:\u001b[m\u001b[K \u001b[01;35m\u001b[Kwarning: \u001b[m\u001b[Kignoring return value of ‘\u001b[01m\u001b[Ksize_t fread(void*, size_t, size_t, FILE*)\u001b[m\u001b[K’, declared with attribute warn_unused_result [\u001b[01;35m\u001b[K-Wunused-result\u001b[m\u001b[K]\n",
            "   \u001b[01;35m\u001b[Kfread(&flag, sizeof(char),1,h)\u001b[m\u001b[K;               // whether to output final densities\n",
            "   \u001b[01;35m\u001b[K~~~~~^~~~~~~~~~~~~~~~~~~~~~~~~\u001b[m\u001b[K\n",
            "\u001b[01m\u001b[Kdensne.cpp:978:8:\u001b[m\u001b[K \u001b[01;35m\u001b[Kwarning: \u001b[m\u001b[Kignoring return value of ‘\u001b[01m\u001b[Ksize_t fread(void*, size_t, size_t, FILE*)\u001b[m\u001b[K’, declared with attribute warn_unused_result [\u001b[01;35m\u001b[K-Wunused-result\u001b[m\u001b[K]\n",
            "   \u001b[01;35m\u001b[Kfread(&flag, sizeof(char),1,h)\u001b[m\u001b[K;               // Initial embedding provided\n",
            "   \u001b[01;35m\u001b[K~~~~~^~~~~~~~~~~~~~~~~~~~~~~~~\u001b[m\u001b[K\n",
            "\u001b[01m\u001b[Kdensne.cpp:982:8:\u001b[m\u001b[K \u001b[01;35m\u001b[Kwarning: \u001b[m\u001b[Kignoring return value of ‘\u001b[01m\u001b[Ksize_t fread(void*, size_t, size_t, FILE*)\u001b[m\u001b[K’, declared with attribute warn_unused_result [\u001b[01;35m\u001b[K-Wunused-result\u001b[m\u001b[K]\n",
            "   \u001b[01;35m\u001b[Kfread(*data, sizeof(double), *n * *d, h)\u001b[m\u001b[K;                               // the data\n",
            "   \u001b[01;35m\u001b[K~~~~~^~~~~~~~~~~~~~~~~~~~~~~~~~~~~~~~~~~\u001b[m\u001b[K\n",
            "\u001b[01m\u001b[Kdensne.cpp:987:10:\u001b[m\u001b[K \u001b[01;35m\u001b[Kwarning: \u001b[m\u001b[Kignoring return value of ‘\u001b[01m\u001b[Ksize_t fread(void*, size_t, size_t, FILE*)\u001b[m\u001b[K’, declared with attribute warn_unused_result [\u001b[01;35m\u001b[K-Wunused-result\u001b[m\u001b[K]\n",
            "     \u001b[01;35m\u001b[Kfread(*Y_init, sizeof(double), *n * *no_dims, h)\u001b[m\u001b[K;\n",
            "     \u001b[01;35m\u001b[K~~~~~^~~~~~~~~~~~~~~~~~~~~~~~~~~~~~~~~~~~~~~~~~~\u001b[m\u001b[K\n",
            "\u001b[01m\u001b[Kdensne.cpp:992:21:\u001b[m\u001b[K \u001b[01;35m\u001b[Kwarning: \u001b[m\u001b[Kignoring return value of ‘\u001b[01m\u001b[Ksize_t fread(void*, size_t, size_t, FILE*)\u001b[m\u001b[K’, declared with attribute warn_unused_result [\u001b[01;35m\u001b[K-Wunused-result\u001b[m\u001b[K]\n",
            "   if(!feof(h)) \u001b[01;35m\u001b[Kfread(rand_seed, sizeof(int), 1, h)\u001b[m\u001b[K;                       // random seed\n",
            "                \u001b[01;35m\u001b[K~~~~~^~~~~~~~~~~~~~~~~~~~~~~~~~~~~~\u001b[m\u001b[K\n"
          ]
        }
      ]
    },
    {
      "cell_type": "code",
      "metadata": {
        "id": "Y4-EpgaAxFT_",
        "outputId": "11dc9fd5-4f42-4aba-9db8-2f66fc97ff00",
        "colab": {
          "base_uri": "https://localhost:8080/"
        }
      },
      "source": [
        "\n",
        "%cd /content/"
      ],
      "execution_count": 24,
      "outputs": [
        {
          "output_type": "stream",
          "name": "stdout",
          "text": [
            "/content\n"
          ]
        }
      ]
    },
    {
      "cell_type": "code",
      "metadata": {
        "colab": {
          "base_uri": "https://localhost:8080/"
        },
        "id": "Pxuxe1toQFda",
        "outputId": "c08a836b-4af3-4493-f811-3cd9217a3004"
      },
      "source": [
        "!git clone https://github.com/pachterlab/CBP_2021.git"
      ],
      "execution_count": 2,
      "outputs": [
        {
          "output_type": "stream",
          "name": "stdout",
          "text": [
            "Cloning into 'CBP_2021'...\n",
            "remote: Enumerating objects: 579, done.\u001b[K\n",
            "remote: Counting objects: 100% (579/579), done.\u001b[K\n",
            "remote: Compressing objects: 100% (533/533), done.\u001b[K\n",
            "remote: Total 579 (delta 354), reused 86 (delta 25), pack-reused 0\u001b[K\n",
            "Receiving objects: 100% (579/579), 83.75 MiB | 17.18 MiB/s, done.\n",
            "Resolving deltas: 100% (354/354), done.\n"
          ]
        }
      ]
    },
    {
      "cell_type": "code",
      "metadata": {
        "id": "xVtRQxlvxEfT"
      },
      "source": [
        ""
      ],
      "execution_count": null,
      "outputs": []
    },
    {
      "cell_type": "code",
      "metadata": {
        "id": "iA-3Y-DlQOKH",
        "colab": {
          "base_uri": "https://localhost:8080/"
        },
        "outputId": "d01d23d3-59a3-4f52-cc12-b6bc496a498d"
      },
      "source": [
        "!pip3 install --quiet torch\n",
        "!pip3 install --quiet anndata\n",
        "!pip3 install --quiet matplotlib\n",
        "!pip3 install --quiet scikit-learn\n",
        "!pip3 install --quiet torchsummary\n",
        "!pip install --quiet scanpy==1.6.0\n",
        "!pip3 install --quiet umap-learn\n",
        "!pip3 install --quiet scvi-tools"
      ],
      "execution_count": 3,
      "outputs": [
        {
          "output_type": "stream",
          "name": "stdout",
          "text": [
            "\u001b[K     |████████████████████████████████| 127 kB 5.2 MB/s \n",
            "\u001b[K     |████████████████████████████████| 7.7 MB 5.3 MB/s \n",
            "\u001b[K     |████████████████████████████████| 80 kB 8.6 MB/s \n",
            "\u001b[K     |████████████████████████████████| 1.1 MB 36.3 MB/s \n",
            "\u001b[K     |████████████████████████████████| 63 kB 1.9 MB/s \n",
            "\u001b[?25h  Building wheel for umap-learn (setup.py) ... \u001b[?25l\u001b[?25hdone\n",
            "  Building wheel for pynndescent (setup.py) ... \u001b[?25l\u001b[?25hdone\n",
            "  Building wheel for sinfo (setup.py) ... \u001b[?25l\u001b[?25hdone\n",
            "\u001b[K     |████████████████████████████████| 217 kB 5.2 MB/s \n",
            "\u001b[K     |████████████████████████████████| 678 kB 35.7 MB/s \n",
            "\u001b[K     |████████████████████████████████| 242 kB 54.5 MB/s \n",
            "\u001b[K     |████████████████████████████████| 813 kB 38.9 MB/s \n",
            "\u001b[K     |████████████████████████████████| 211 kB 51.5 MB/s \n",
            "\u001b[K     |████████████████████████████████| 829 kB 43.7 MB/s \n",
            "\u001b[K     |████████████████████████████████| 123 kB 50.9 MB/s \n",
            "\u001b[K     |████████████████████████████████| 282 kB 46.2 MB/s \n",
            "\u001b[K     |████████████████████████████████| 636 kB 51.6 MB/s \n",
            "\u001b[K     |████████████████████████████████| 1.3 MB 38.2 MB/s \n",
            "\u001b[K     |████████████████████████████████| 51 kB 6.7 MB/s \n",
            "\u001b[K     |████████████████████████████████| 142 kB 55.9 MB/s \n",
            "\u001b[K     |████████████████████████████████| 294 kB 55.1 MB/s \n",
            "\u001b[?25h  Building wheel for future (setup.py) ... \u001b[?25l\u001b[?25hdone\n"
          ]
        }
      ]
    },
    {
      "cell_type": "code",
      "metadata": {
        "colab": {
          "base_uri": "https://localhost:8080/"
        },
        "id": "HYT4qYdJxK7V",
        "outputId": "a71e6113-d3c4-4cc6-8094-e46d833802be"
      },
      "source": [
        "%cd /content/CBP_2021/scripts"
      ],
      "execution_count": 25,
      "outputs": [
        {
          "output_type": "stream",
          "name": "stdout",
          "text": [
            "/content/CBP_2021/scripts\n"
          ]
        }
      ]
    },
    {
      "cell_type": "markdown",
      "metadata": {
        "id": "xC275rCuQpgV"
      },
      "source": [
        "## **Install Packages**"
      ]
    },
    {
      "cell_type": "code",
      "metadata": {
        "id": "48xvpJbyQSKT"
      },
      "source": [
        "import anndata \n",
        "import pandas as pd\n",
        "import numpy as np\n",
        "from MCML import MCML #Now has continuous label addition\n",
        "from Picasso import Picasso\n",
        "import tools as tl\n",
        "import random\n",
        "import scvi\n",
        "from sklearn.decomposition import TruncatedSVD\n",
        "from sklearn.manifold import TSNE\n",
        "import matplotlib.pyplot as plt\n",
        "from sklearn.neighbors import NeighborhoodComponentsAnalysis, NearestNeighbors\n",
        "from sklearn.metrics import pairwise_distances\n",
        "from sklearn.metrics import accuracy_score\n",
        "from sklearn.preprocessing import scale\n",
        "import torch\n",
        "import time\n",
        "import scanpy as sc\n",
        "import seaborn as sns\n",
        "import umap\n",
        "from scipy import stats\n",
        "import scipy.io as sio\n",
        "sns.set_style('white')"
      ],
      "execution_count": 26,
      "outputs": []
    },
    {
      "cell_type": "markdown",
      "metadata": {
        "id": "7Xlo5rzVQrqM"
      },
      "source": [
        "## **Import Data**"
      ]
    },
    {
      "cell_type": "code",
      "metadata": {
        "id": "4gtBWZVoQjKh"
      },
      "source": [
        "plt.rcParams[\"font.family\"] = \"sans-serif\"\n",
        "plt.rcParams['axes.linewidth'] = 0.1\n",
        "\n",
        "state = 42\n",
        "ndims = 2\n",
        "\n",
        "data_path = '../..'\n",
        "\n",
        "pcs = 50\n",
        "n_latent = 50"
      ],
      "execution_count": 6,
      "outputs": []
    },
    {
      "cell_type": "code",
      "metadata": {
        "colab": {
          "base_uri": "https://localhost:8080/"
        },
        "id": "NtpIixyGFiMw",
        "outputId": "810ec511-5a15-4776-dfcd-761c354852f6"
      },
      "source": [
        "count_mat = sio.mmread(data_path+'/tenx.mtx')\n",
        "count_mat.shape"
      ],
      "execution_count": 7,
      "outputs": [
        {
          "output_type": "execute_result",
          "data": {
            "text/plain": [
              "(41580, 1999)"
            ]
          },
          "metadata": {},
          "execution_count": 7
        }
      ]
    },
    {
      "cell_type": "code",
      "metadata": {
        "colab": {
          "base_uri": "https://localhost:8080/"
        },
        "id": "gEafihmahNB8",
        "outputId": "e99a1956-7607-4966-c879-ea84e742e63a"
      },
      "source": [
        "rawcount_mat = sio.mmread(data_path+'/tenxCount.mtx')\n",
        "rawcount_mat.shape"
      ],
      "execution_count": null,
      "outputs": [
        {
          "output_type": "execute_result",
          "data": {
            "text/plain": [
              "(41580, 1999)"
            ]
          },
          "metadata": {},
          "execution_count": 8
        }
      ]
    },
    {
      "cell_type": "code",
      "metadata": {
        "id": "6syqIPjmKnyC"
      },
      "source": [
        "#Center and scale log-normalized data\n",
        "scaled_mat = scale(count_mat)"
      ],
      "execution_count": 8,
      "outputs": []
    },
    {
      "cell_type": "code",
      "metadata": {
        "colab": {
          "base_uri": "https://localhost:8080/",
          "height": 224
        },
        "id": "rhXu1NykGOOf",
        "outputId": "d237ae16-b5cc-4d65-eceb-52fd44ab572d"
      },
      "source": [
        "meta = pd.read_csv(data_path+'/metadata.csv',index_col = 0)\n",
        "meta.head()"
      ],
      "execution_count": 9,
      "outputs": [
        {
          "output_type": "execute_result",
          "data": {
            "text/html": [
              "<div>\n",
              "<style scoped>\n",
              "    .dataframe tbody tr th:only-of-type {\n",
              "        vertical-align: middle;\n",
              "    }\n",
              "\n",
              "    .dataframe tbody tr th {\n",
              "        vertical-align: top;\n",
              "    }\n",
              "\n",
              "    .dataframe thead th {\n",
              "        text-align: right;\n",
              "    }\n",
              "</style>\n",
              "<table border=\"1\" class=\"dataframe\">\n",
              "  <thead>\n",
              "    <tr style=\"text-align: right;\">\n",
              "      <th></th>\n",
              "      <th>sample_name</th>\n",
              "      <th>cell_barcode</th>\n",
              "      <th>cluster_color</th>\n",
              "      <th>cluster</th>\n",
              "      <th>cluster_id</th>\n",
              "      <th>cell_types</th>\n",
              "      <th>sex_label</th>\n",
              "      <th>batch_indices</th>\n",
              "      <th>cell_counts</th>\n",
              "      <th>n_genes</th>\n",
              "      <th>percent_mito</th>\n",
              "      <th>pass_count_filter</th>\n",
              "      <th>pass_mito_filter</th>\n",
              "    </tr>\n",
              "  </thead>\n",
              "  <tbody>\n",
              "    <tr>\n",
              "      <th>0</th>\n",
              "      <td>10x_VMH_Female_Control_1</td>\n",
              "      <td>4_AAACCTGAGCGCCTCA</td>\n",
              "      <td>#9162FF</td>\n",
              "      <td>Nr5a1_4</td>\n",
              "      <td>24.0</td>\n",
              "      <td>undefined</td>\n",
              "      <td>F</td>\n",
              "      <td>0</td>\n",
              "      <td>1427.0</td>\n",
              "      <td>926</td>\n",
              "      <td>13.594954</td>\n",
              "      <td>True</td>\n",
              "      <td>False</td>\n",
              "    </tr>\n",
              "    <tr>\n",
              "      <th>1</th>\n",
              "      <td>10x_VMH_Female_Control_1</td>\n",
              "      <td>4_AAACCTGCACAGTCGC</td>\n",
              "      <td>#96FF2E</td>\n",
              "      <td>Tsix_Esr1_1</td>\n",
              "      <td>3.0</td>\n",
              "      <td>undefined</td>\n",
              "      <td>F</td>\n",
              "      <td>0</td>\n",
              "      <td>4508.0</td>\n",
              "      <td>2310</td>\n",
              "      <td>9.272405</td>\n",
              "      <td>True</td>\n",
              "      <td>False</td>\n",
              "    </tr>\n",
              "    <tr>\n",
              "      <th>2</th>\n",
              "      <td>10x_VMH_Female_Control_1</td>\n",
              "      <td>4_AAACCTGCAGATTGCT</td>\n",
              "      <td>#66ABC2</td>\n",
              "      <td>Dlk1_3</td>\n",
              "      <td>16.0</td>\n",
              "      <td>undefined</td>\n",
              "      <td>F</td>\n",
              "      <td>0</td>\n",
              "      <td>3447.0</td>\n",
              "      <td>1995</td>\n",
              "      <td>5.483029</td>\n",
              "      <td>True</td>\n",
              "      <td>False</td>\n",
              "    </tr>\n",
              "    <tr>\n",
              "      <th>3</th>\n",
              "      <td>10x_VMH_Female_Control_1</td>\n",
              "      <td>4_AAACCTGCATACTCTT</td>\n",
              "      <td>#96FF2E</td>\n",
              "      <td>Tsix_Esr1_1</td>\n",
              "      <td>3.0</td>\n",
              "      <td>undefined</td>\n",
              "      <td>F</td>\n",
              "      <td>0</td>\n",
              "      <td>7004.0</td>\n",
              "      <td>3286</td>\n",
              "      <td>4.483152</td>\n",
              "      <td>True</td>\n",
              "      <td>True</td>\n",
              "    </tr>\n",
              "    <tr>\n",
              "      <th>4</th>\n",
              "      <td>10x_VMH_Female_Control_1</td>\n",
              "      <td>4_AAACCTGGTCCGTTAA</td>\n",
              "      <td>#24EFCD</td>\n",
              "      <td>Scgn</td>\n",
              "      <td>20.0</td>\n",
              "      <td>undefined</td>\n",
              "      <td>F</td>\n",
              "      <td>0</td>\n",
              "      <td>2490.0</td>\n",
              "      <td>1492</td>\n",
              "      <td>9.277108</td>\n",
              "      <td>True</td>\n",
              "      <td>False</td>\n",
              "    </tr>\n",
              "  </tbody>\n",
              "</table>\n",
              "</div>"
            ],
            "text/plain": [
              "                sample_name  ... pass_mito_filter\n",
              "0  10x_VMH_Female_Control_1  ...            False\n",
              "1  10x_VMH_Female_Control_1  ...            False\n",
              "2  10x_VMH_Female_Control_1  ...            False\n",
              "3  10x_VMH_Female_Control_1  ...             True\n",
              "4  10x_VMH_Female_Control_1  ...            False\n",
              "\n",
              "[5 rows x 13 columns]"
            ]
          },
          "metadata": {},
          "execution_count": 9
        }
      ]
    },
    {
      "cell_type": "code",
      "metadata": {
        "id": "91x_hzdRNeBd"
      },
      "source": [
        "clusters = np.unique(meta['cluster'].values)\n",
        "map_dict = {}\n",
        "for i, c in enumerate(clusters):\n",
        "  map_dict[c] = i\n",
        "new_labs = [map_dict[c] for c in meta['cluster'].values]"
      ],
      "execution_count": 10,
      "outputs": []
    },
    {
      "cell_type": "code",
      "metadata": {
        "colab": {
          "base_uri": "https://localhost:8080/"
        },
        "id": "W5A7pbC1jSVu",
        "outputId": "75e025b3-a53b-4ff5-d492-06cf212f8eb7"
      },
      "source": [
        "adata = anndata.AnnData(count_mat, obs = meta)\n",
        "adata.X = np.nan_to_num(adata.X)"
      ],
      "execution_count": 11,
      "outputs": [
        {
          "output_type": "stream",
          "name": "stderr",
          "text": [
            "/usr/local/lib/python3.7/dist-packages/anndata/_core/anndata.py:120: ImplicitModificationWarning: Transforming to str index.\n",
            "  warnings.warn(\"Transforming to str index.\", ImplicitModificationWarning)\n"
          ]
        }
      ]
    },
    {
      "cell_type": "code",
      "metadata": {
        "colab": {
          "base_uri": "https://localhost:8080/"
        },
        "id": "MFbVY58ChSix",
        "outputId": "05542b1f-ce0c-4935-d7ec-47bb75f6f1e6"
      },
      "source": [
        "adata2 = anndata.AnnData(rawcount_mat, obs = meta)\n",
        "adata2.X = np.nan_to_num(adata2.X)"
      ],
      "execution_count": null,
      "outputs": [
        {
          "output_type": "stream",
          "name": "stderr",
          "text": [
            "/usr/local/lib/python3.7/dist-packages/anndata/_core/anndata.py:120: ImplicitModificationWarning: Transforming to str index.\n",
            "  warnings.warn(\"Transforming to str index.\", ImplicitModificationWarning)\n"
          ]
        }
      ]
    },
    {
      "cell_type": "code",
      "metadata": {
        "id": "hz3pgsoK4qmz"
      },
      "source": [
        "def knn_infer(embd_space, labeled_idx, labeled_lab, unlabeled_idx,n_neighbors=50):\n",
        "\t\"\"\"\n",
        "\tPredicts the labels of unlabeled data in the embedded space with KNN.\n",
        "\tParameters\n",
        "\t----------\n",
        "\tembd_space : ndarray (n_samples, embedding_dim)\n",
        "\t\tEach sample is described by the features in the embedded space.\n",
        "\t\tContains all samples, both labeled and unlabeled.\n",
        "\tlabeled_idx : list\n",
        "\t\tIndices of the labeled samples (used for training the classifier).\n",
        "\tlabeled_lab : ndarray (n_labeled_samples)\n",
        "\t\tLabels of the labeled samples.\n",
        "\tunlabeled_idx : list\n",
        "\t\tIndices of the unlabeled samples.\n",
        "\tReturns\n",
        "\t-------\n",
        "\tpred_lab : ndarray (n_unlabeled_samples)\n",
        "\t\tInferred labels of the unlabeled samples.\n",
        "\t\"\"\"\n",
        "\n",
        "\t# obtain labeled data and unlabled data from indices\n",
        "\tlabeled_samp = embd_space[labeled_idx, :]\n",
        "\tunlabeled_samp = embd_space[unlabeled_idx, :]\n",
        "\n",
        "\tfrom sklearn.neighbors import KNeighborsClassifier\n",
        "\n",
        "\tknn = KNeighborsClassifier(n_neighbors=n_neighbors)\n",
        "\tknn.fit(labeled_samp, labeled_lab)\n",
        "\n",
        "\tpred_lab = knn.predict(unlabeled_samp)\n",
        "\treturn pred_lab\n"
      ],
      "execution_count": 12,
      "outputs": []
    },
    {
      "cell_type": "code",
      "metadata": {
        "id": "D45aXRHOUopk"
      },
      "source": [
        "def getJac(orig_indices,latents, latentLab, n_neighbors=30):\n",
        "  emb = []\n",
        "\n",
        "  xs = []\n",
        "\n",
        "  ys = []\n",
        "\n",
        "  knnDF = pd.DataFrame()\n",
        "\n",
        "  for p in range(len(latents)):\n",
        "    i = latents[p]\n",
        "    l = latentLab[p]\n",
        "\n",
        "    ind = tl.getNeighbors(i, n_neigh = n_neighbors,p=1)\n",
        "\n",
        "    x = tl.getJaccard(orig_indices,ind)\n",
        "\n",
        "    xs += x\n",
        "    #ys += list(y)\n",
        "\n",
        "    emb += [l]*len(x)\n",
        "\n",
        "    print(l)\n",
        "\n",
        "    print(np.mean(tl.getJaccard(orig_indices,ind)))\n",
        "\n",
        "\n",
        "\n",
        "  knnDF['x'] = xs\n",
        "  #knnDF['y'] = ys\n",
        "  knnDF['latent'] = emb\n",
        "\n",
        "  return knnDF"
      ],
      "execution_count": 13,
      "outputs": []
    },
    {
      "cell_type": "markdown",
      "metadata": {
        "id": "VdbWog1mhOse"
      },
      "source": [
        "### **Prediction Accuracy for Cell Type Labels Across Benchmarks**\n",
        "Tests accuracy on sex labels as well\n"
      ]
    },
    {
      "cell_type": "markdown",
      "metadata": {
        "id": "EXCUt_VrhYdg"
      },
      "source": [
        "Set up metadata for MCML"
      ]
    },
    {
      "cell_type": "code",
      "metadata": {
        "id": "Cv4A-t8BfdLW"
      },
      "source": [
        "lab1 = list(meta.cluster)\n",
        "lab2 = list(meta.sex_label)\n",
        "# lab3 = list(meta.medical_cond_label)\n",
        "lab4 = list(meta.cluster)\n",
        "\n",
        "allLabs = np.array([lab1])\n",
        "allLabs2 = np.array([lab1,lab2])\n",
        "\n",
        "nanLabs = np.array([[np.nan]*len(lab1)])\n",
        "\n",
        "#Shuffled labels for over-fitting check\n",
        "shuff_lab1 = random.sample(lab1, len(lab1))  \n",
        "shuff_lab2 = random.sample(lab2, len(lab2))  \n",
        "shuff_allLabs = np.array([shuff_lab1,shuff_lab2])\n",
        "\n",
        "clus_colors = list(pd.unique(meta.cluster_color))\n",
        "\n",
        "sex_colors = ['#abacb7','#F8C471']"
      ],
      "execution_count": null,
      "outputs": []
    },
    {
      "cell_type": "markdown",
      "metadata": {
        "id": "Zc6n_BO3IOVw"
      },
      "source": [
        "First test 2D space predictions (t-SNE, UMAP, UMAP-Supervised)"
      ]
    },
    {
      "cell_type": "code",
      "metadata": {
        "id": "iwbEThDEITO7"
      },
      "source": [
        "ndims = 2\n",
        "acc_score_2D = []\n",
        "\n",
        "for i in range(3):\n",
        "  reducer = umap.UMAP(n_components = ndims)\n",
        "  tsne = TSNE(n_components = ndims) \n",
        "\n",
        "\n",
        "  tsvd = TruncatedSVD(n_components=pcs)\n",
        "  x_pca = tsvd.fit_transform(scaled_mat)\n",
        "\n",
        "  pcaUMAP = reducer.fit_transform(x_pca)\n",
        "  pcaTSNE = tsne.fit_transform(x_pca)\n",
        "\n",
        "  #Partially labeled UMAP\n",
        "\n",
        "  labels = np.array([lab4]).copy().astype(np.int8)\n",
        "  train_inds = np.random.choice(len(scaled_mat), size = int(0.7*len(scaled_mat)),replace=False) #0.7 for training fraction\n",
        "  #Set 30% to no label (nan)\n",
        "  unlab_inds = [i for i in range(len(adata)) if i not in train_inds]\n",
        "  labels[:, unlab_inds] = -1\n",
        "\n",
        "  pcaUMAPLab = reducer.fit_transform(x_pca,y=labels[0])\n",
        "\n",
        "  preds = knn_infer(pcaUMAPLab, train_inds, adata.obs.cluster_id.values[train_inds], unlab_inds)\n",
        "  acc = accuracy_score(adata.obs.cluster_id.values[unlab_inds], preds)\n",
        "  acc_score_2D.append(acc)\n",
        "\n",
        "\n",
        "\n",
        "  preds = knn_infer(pcaUMAP, train_inds, adata.obs.cluster_id.values[train_inds], unlab_inds)\n",
        "  acc = accuracy_score(adata.obs.cluster_id.values[unlab_inds], preds)\n",
        "  acc_score_2D.append(acc)\n",
        "\n",
        "  preds = knn_infer(pcaTSNE, train_inds, adata.obs.cluster_id.values[train_inds], unlab_inds)\n",
        "  acc = accuracy_score(adata.obs.cluster_id.values[unlab_inds], preds)\n",
        "  acc_score_2D.append(acc)"
      ],
      "execution_count": null,
      "outputs": []
    },
    {
      "cell_type": "code",
      "metadata": {
        "colab": {
          "base_uri": "https://localhost:8080/"
        },
        "id": "fjV9ZYvmgqjr",
        "outputId": "334751df-22fa-48b3-f1a3-f1ab389144a6"
      },
      "source": [
        "print(acc_score_2D)"
      ],
      "execution_count": null,
      "outputs": [
        {
          "output_type": "stream",
          "name": "stdout",
          "text": [
            "[0.7648897795591182, 0.6691783567134268, 0.7527855711422846, 0.7600801603206413, 0.6730260521042084, 0.7574348697394789, 0.7656112224448898, 0.6816032064128257, 0.7504609218436874]\n"
          ]
        }
      ]
    },
    {
      "cell_type": "code",
      "metadata": {
        "colab": {
          "base_uri": "https://localhost:8080/"
        },
        "id": "PbHogI-EZT-Y",
        "outputId": "7e3ecee5-c9fb-45e4-db5a-836a02266e47"
      },
      "source": [
        "# LDVAE accuracy scores\n",
        "from tqdm import tqdm #Need to intialize to stop tqdm errors\n",
        "tqdm(disable=True, total=0)\n",
        "\n",
        "scvi.data.setup_anndata(adata2, labels_key='cluster_id')\n",
        "acc_score = []\n",
        "acc_score2 = []\n",
        "for i in range(3): #3\n",
        "  vae = scvi.model.LinearSCVI(adata2,n_latent=n_latent)\n",
        "  vae.train(train_size = 0.7) #train_size = 0.7\n",
        "  latent_ldvae = vae.get_latent_representation()\n",
        "  lab_idx = vae.train_indices\n",
        "  unlabeled_idx = []\n",
        "  for i in range(len(adata2)):\n",
        "    if i not in lab_idx:\n",
        "      unlabeled_idx.append(i)\n",
        "  preds = knn_infer(np.array(latent_ldvae), list(lab_idx), adata2.obs.cluster_id.values[lab_idx], unlabeled_idx)\n",
        "  acc = accuracy_score(adata2.obs.cluster_id.values[unlabeled_idx], preds)\n",
        "  acc_score.append(acc)\n",
        "\n",
        "  preds2 = knn_infer(np.array(latent_ldvae), list(lab_idx), adata2.obs.sex_label.values[lab_idx], unlabeled_idx)\n",
        "  acc2 = accuracy_score(adata2.obs.sex_label.values[unlabeled_idx], preds2)\n",
        "  acc_score2.append(acc2)"
      ],
      "execution_count": null,
      "outputs": [
        {
          "output_type": "stream",
          "name": "stdout",
          "text": [
            "\u001b[34mINFO    \u001b[0m No batch_key inputted, assuming all cells are same batch                            \n",
            "\u001b[34mINFO    \u001b[0m Using labels from adata.obs\u001b[1m[\u001b[0m\u001b[32m\"cluster_id\"\u001b[0m\u001b[1m]\u001b[0m                                           \n",
            "\u001b[34mINFO    \u001b[0m Using data from adata.X                                                             \n",
            "\u001b[34mINFO    \u001b[0m Computing library size prior per batch                                              \n",
            "\u001b[34mINFO    \u001b[0m Successfully registered anndata object containing \u001b[1;36m41580\u001b[0m cells, \u001b[1;36m1999\u001b[0m vars, \u001b[1;36m1\u001b[0m batches,\n",
            "         \u001b[1;36m30\u001b[0m labels, and \u001b[1;36m0\u001b[0m proteins. Also registered \u001b[1;36m0\u001b[0m extra categorical covariates and \u001b[1;36m0\u001b[0m     \n",
            "         extra continuous covariates.                                                        \n",
            "\u001b[34mINFO    \u001b[0m Please do not further modify adata until model is trained.                          \n"
          ]
        },
        {
          "output_type": "stream",
          "name": "stderr",
          "text": [
            "GPU available: True, used: True\n",
            "TPU available: False, using: 0 TPU cores\n",
            "LOCAL_RANK: 0 - CUDA_VISIBLE_DEVICES: [0]\n"
          ]
        },
        {
          "output_type": "stream",
          "name": "stdout",
          "text": [
            "Epoch 192/192: 100%|██████████| 192/192 [10:17<00:00,  3.21s/it, loss=665, v_num=1]\n"
          ]
        },
        {
          "output_type": "stream",
          "name": "stderr",
          "text": [
            "GPU available: True, used: True\n",
            "TPU available: False, using: 0 TPU cores\n",
            "LOCAL_RANK: 0 - CUDA_VISIBLE_DEVICES: [0]\n"
          ]
        },
        {
          "output_type": "stream",
          "name": "stdout",
          "text": [
            "Epoch 192/192: 100%|██████████| 192/192 [10:17<00:00,  3.21s/it, loss=658, v_num=1]\n"
          ]
        },
        {
          "output_type": "stream",
          "name": "stderr",
          "text": [
            "GPU available: True, used: True\n",
            "TPU available: False, using: 0 TPU cores\n",
            "LOCAL_RANK: 0 - CUDA_VISIBLE_DEVICES: [0]\n"
          ]
        },
        {
          "output_type": "stream",
          "name": "stdout",
          "text": [
            "Epoch 192/192: 100%|██████████| 192/192 [10:22<00:00,  3.24s/it, loss=662, v_num=1]\n"
          ]
        }
      ]
    },
    {
      "cell_type": "code",
      "metadata": {
        "colab": {
          "base_uri": "https://localhost:8080/"
        },
        "id": "9rVui-ynhBVL",
        "outputId": "363d72d7-c185-4a5b-b6a7-b4a0cd5fb611"
      },
      "source": [
        "acc_score"
      ],
      "execution_count": null,
      "outputs": [
        {
          "output_type": "execute_result",
          "data": {
            "text/plain": [
              "[0.7932499599166266, 0.7912457912457912, 0.789642456309123]"
            ]
          },
          "metadata": {},
          "execution_count": 17
        }
      ]
    },
    {
      "cell_type": "code",
      "metadata": {
        "colab": {
          "base_uri": "https://localhost:8080/"
        },
        "id": "AnP9Aihthb-H",
        "outputId": "43f851f9-f493-4993-c00e-954c8a7546f7"
      },
      "source": [
        "# acc_score"
      ],
      "execution_count": null,
      "outputs": [
        {
          "output_type": "execute_result",
          "data": {
            "text/plain": [
              "[0.6831810165143498, 0.6818983485650152, 0.6817380150713485]"
            ]
          },
          "metadata": {
            "tags": []
          },
          "execution_count": 16
        }
      ]
    },
    {
      "cell_type": "code",
      "metadata": {
        "colab": {
          "base_uri": "https://localhost:8080/"
        },
        "id": "BmnzoMFjjyTb",
        "outputId": "2e3b6da1-341a-41dc-b8ac-696048f90fed"
      },
      "source": [
        "# SCANVI accuracy scores\n",
        "scvi.data.setup_anndata(adata2, labels_key='cluster_id')\n",
        "acc_score_scanvi = []\n",
        "acc_score_scanvi2 = []\n",
        "for i in range(3):\n",
        "  vae = scvi.model.SCANVI(adata2, np.nan,n_latent=n_latent)\n",
        "  vae.train(train_size = 0.7)\n",
        "  latent_scanvi = vae.get_latent_representation()\n",
        "  lab_idx = vae.train_indices\n",
        "  unlabeled_idx = []\n",
        "  for i in range(len(adata2)):\n",
        "    if i not in lab_idx:\n",
        "      unlabeled_idx.append(i)\n",
        "  preds = knn_infer(np.array(latent_scanvi), list(lab_idx), adata2.obs.cluster_id.values[lab_idx], unlabeled_idx)\n",
        "  acc = accuracy_score(adata2.obs.cluster_id.values[unlabeled_idx], preds)\n",
        "  acc_score_scanvi.append(acc)\n",
        "\n",
        "  preds2 = knn_infer(np.array(latent_scanvi), list(lab_idx), adata2.obs.sex_label.values[lab_idx], unlabeled_idx)\n",
        "  acc2 = accuracy_score(adata2.obs.sex_label.values[unlabeled_idx], preds2)\n",
        "  acc_score_scanvi2.append(acc2)"
      ],
      "execution_count": null,
      "outputs": [
        {
          "output_type": "stream",
          "name": "stdout",
          "text": [
            "\u001b[34mINFO    \u001b[0m No batch_key inputted, assuming all cells are same batch                            \n",
            "\u001b[34mINFO    \u001b[0m Using labels from adata.obs\u001b[1m[\u001b[0m\u001b[32m\"cluster_id\"\u001b[0m\u001b[1m]\u001b[0m                                           \n",
            "\u001b[34mINFO    \u001b[0m Using data from adata.X                                                             \n",
            "\u001b[34mINFO    \u001b[0m Computing library size prior per batch                                              \n",
            "\u001b[34mINFO    \u001b[0m Successfully registered anndata object containing \u001b[1;36m41580\u001b[0m cells, \u001b[1;36m1999\u001b[0m vars, \u001b[1;36m1\u001b[0m batches,\n",
            "         \u001b[1;36m30\u001b[0m labels, and \u001b[1;36m0\u001b[0m proteins. Also registered \u001b[1;36m0\u001b[0m extra categorical covariates and \u001b[1;36m0\u001b[0m     \n",
            "         extra continuous covariates.                                                        \n",
            "\u001b[34mINFO    \u001b[0m Please do not further modify adata until model is trained.                          \n",
            "\u001b[34mINFO    \u001b[0m Training for \u001b[1;36m192\u001b[0m epochs.                                                            \n"
          ]
        },
        {
          "output_type": "stream",
          "name": "stderr",
          "text": [
            "GPU available: True, used: True\n",
            "TPU available: False, using: 0 TPU cores\n",
            "LOCAL_RANK: 0 - CUDA_VISIBLE_DEVICES: [0]\n"
          ]
        },
        {
          "output_type": "stream",
          "name": "stdout",
          "text": [
            "Epoch 192/192: 100%|██████████| 192/192 [24:43<00:00,  7.73s/it, loss=794, v_num=1]\n",
            "\u001b[34mINFO    \u001b[0m Training for \u001b[1;36m192\u001b[0m epochs.                                                            \n"
          ]
        },
        {
          "output_type": "stream",
          "name": "stderr",
          "text": [
            "GPU available: True, used: True\n",
            "TPU available: False, using: 0 TPU cores\n",
            "LOCAL_RANK: 0 - CUDA_VISIBLE_DEVICES: [0]\n"
          ]
        },
        {
          "output_type": "stream",
          "name": "stdout",
          "text": [
            "Epoch 192/192: 100%|██████████| 192/192 [23:53<00:00,  7.47s/it, loss=789, v_num=1]\n",
            "\u001b[34mINFO    \u001b[0m Training for \u001b[1;36m192\u001b[0m epochs.                                                            \n"
          ]
        },
        {
          "output_type": "stream",
          "name": "stderr",
          "text": [
            "GPU available: True, used: True\n",
            "TPU available: False, using: 0 TPU cores\n",
            "LOCAL_RANK: 0 - CUDA_VISIBLE_DEVICES: [0]\n"
          ]
        },
        {
          "output_type": "stream",
          "name": "stdout",
          "text": [
            "Epoch 192/192: 100%|██████████| 192/192 [23:55<00:00,  7.48s/it, loss=788, v_num=1]\n"
          ]
        }
      ]
    },
    {
      "cell_type": "code",
      "metadata": {
        "colab": {
          "base_uri": "https://localhost:8080/"
        },
        "id": "Kd00q9ZAhDTJ",
        "outputId": "636d49ee-d7b7-43e5-ed0d-f676a90c63e7"
      },
      "source": [
        "print(acc_score_scanvi)\n",
        "print(acc_score_scanvi2)"
      ],
      "execution_count": null,
      "outputs": [
        {
          "output_type": "stream",
          "name": "stdout",
          "text": [
            "[0.7910854577521245, 0.7926887926887927, 0.7926887926887927]\n",
            "[0.9275292608625942, 0.9238415905082572, 0.9275292608625942]\n"
          ]
        }
      ]
    },
    {
      "cell_type": "code",
      "metadata": {
        "colab": {
          "base_uri": "https://localhost:8080/"
        },
        "id": "prbipeo-6G4w",
        "outputId": "28a9ae4e-3d37-4eb4-ce98-e8323af57844"
      },
      "source": [
        "# print(acc_score_scanvi)\n",
        "# print(acc_score_scanvi2)"
      ],
      "execution_count": null,
      "outputs": [
        {
          "output_type": "stream",
          "text": [
            "[0.7808241141574475, 0.783629950296617, 0.7790604457271124]\n",
            "[0.9048420715087382, 0.8896103896103896, 0.9135000801667469]\n"
          ],
          "name": "stdout"
        }
      ]
    },
    {
      "cell_type": "markdown",
      "metadata": {
        "id": "JfQmVeV0T7e3"
      },
      "source": [
        "Check train/test overfitting (with cell type labels)"
      ]
    },
    {
      "cell_type": "code",
      "metadata": {
        "colab": {
          "base_uri": "https://localhost:8080/",
          "height": 225
        },
        "id": "xMRQ2izQT_nL",
        "outputId": "84b71f1d-9ed4-4f66-bd2d-7416fd713f5e"
      },
      "source": [
        "# nca.fit(scaled_mat,labels,fracNCA = 0.25, silent = True,ret_loss = True) Parameters used for prediction\n",
        "nca = MCML(n_latent = n_latent, epochs = 100)\n",
        "\n",
        "lossesTrain, lossesTest = nca.trainTest(scaled_mat,np.array([lab1]), fracNCA = 0.25, silent = True)\n",
        "nca.plotLosses(figsize=(10,3),fname='tenxTrainTest.pdf',axisFontSize=10,tickFontSize=8)"
      ],
      "execution_count": null,
      "outputs": [
        {
          "output_type": "display_data",
          "data": {
            "image/png": "[encoded data removed]",
            "text/plain": [
              "<Figure size 720x216 with 4 Axes>"
            ]
          },
          "metadata": {
            "tags": []
          }
        }
      ]
    },
    {
      "cell_type": "code",
      "metadata": {
        "id": "0tS5G3zCfqUt"
      },
      "source": [
        "# Reconstruction loss only\n",
        "acc_scoreR = []\n",
        "acc_scoreR2 = []\n",
        "\n",
        "for i in range(3):\n",
        "  ncaR = MCML(n_latent = n_latent, epochs = 100)\n",
        "  labels = np.array([lab1])\n",
        "  train_inds = np.random.choice(len(scaled_mat), size = int(0.7*len(scaled_mat)),replace=False)\n",
        "  unlab_inds = [i for i in range(len(adata)) if i not in train_inds]\n",
        "  labels[:, unlab_inds] = np.nan\n",
        "  \n",
        "  lossesR, latentR = ncaR.fit(scaled_mat,nanLabs,fracNCA = 0, silent = True,ret_loss = True)\n",
        "  toc = time.perf_counter()\n",
        "  unlabeled_idx = []\n",
        "  for i in range(len(adata)):\n",
        "      if i not in train_inds:\n",
        "          unlabeled_idx.append(i)\n",
        "  preds = knn_infer(latentR, train_inds, adata.obs.cluster.values[train_inds], unlabeled_idx)\n",
        "  acc = accuracy_score(adata.obs.cluster.values[unlabeled_idx], preds)\n",
        "  acc_scoreR.append(acc)\n",
        "\n",
        "  preds2 = knn_infer(latentR, train_inds, adata.obs.sex_label.values[train_inds], unlabeled_idx)\n",
        "  acc2 = accuracy_score(adata.obs.sex_label.values[unlabeled_idx], preds2)\n",
        "  acc_scoreR2.append(acc2)\n",
        "  # print(f\"nnNCA fit in {toc - tic:0.4f} seconds\")"
      ],
      "execution_count": null,
      "outputs": []
    },
    {
      "cell_type": "code",
      "metadata": {
        "colab": {
          "base_uri": "https://localhost:8080/"
        },
        "id": "zlEAgUuULeZU",
        "outputId": "6e4b41e2-12e3-4492-b572-39e629466c05"
      },
      "source": [
        "print(acc_scoreR)\n",
        "print(acc_scoreR2)\n"
      ],
      "execution_count": null,
      "outputs": [
        {
          "output_type": "stream",
          "text": [
            "[0.8298997995991984, 0.8358316633266533, 0.8317434869739478]\n",
            "[0.9102204408817636, 0.9123847695390782, 0.9093386773547094]\n"
          ],
          "name": "stdout"
        }
      ]
    },
    {
      "cell_type": "markdown",
      "metadata": {
        "id": "Ezadu5uXLs88"
      },
      "source": [
        "PCA 50D"
      ]
    },
    {
      "cell_type": "code",
      "metadata": {
        "id": "dMQdSd9cLwRC"
      },
      "source": [
        "\n",
        "acc_scorePCA = []\n",
        "acc_scorePCA2 = []\n",
        "\n",
        "for i in range(3):\n",
        "\n",
        "  tsvd = TruncatedSVD(n_components=pcs)\n",
        "  x_pca = tsvd.fit_transform(scaled_mat)\n",
        "  \n",
        "  labels = np.array([lab1])\n",
        "  train_inds = np.random.choice(len(scaled_mat), size = int(0.7*len(scaled_mat)),replace=False)\n",
        "  unlab_inds = [i for i in range(len(adata)) if i not in train_inds]\n",
        "  labels[:, unlab_inds] = np.nan\n",
        "  \n",
        "  unlabeled_idx = []\n",
        "  for i in range(len(adata)):\n",
        "      if i not in train_inds:\n",
        "          unlabeled_idx.append(i)\n",
        "\n",
        "  preds = knn_infer(x_pca, train_inds, adata.obs.cluster.values[train_inds], unlabeled_idx)\n",
        "  acc = accuracy_score(adata.obs.cluster.values[unlabeled_idx], preds)\n",
        "  acc_scorePCA.append(acc)\n",
        "\n",
        "  preds2 = knn_infer(x_pca, train_inds, adata.obs.sex_label.values[train_inds], unlabeled_idx)\n",
        "  acc2 = accuracy_score(adata.obs.sex_label.values[unlabeled_idx], preds2)\n",
        "  acc_scorePCA2.append(acc2)\n",
        "  # print(f\"nnNCA fit in {toc - tic:0.4f} seconds\")"
      ],
      "execution_count": null,
      "outputs": []
    },
    {
      "cell_type": "code",
      "metadata": {
        "id": "6p6oknUGLwj4",
        "colab": {
          "base_uri": "https://localhost:8080/"
        },
        "outputId": "514e1ead-982b-46ba-de2b-dc7007fd04de"
      },
      "source": [
        "print(acc_scorePCA)\n",
        "print(acc_scorePCA2)"
      ],
      "execution_count": null,
      "outputs": [
        {
          "output_type": "stream",
          "text": [
            "[0.816192384769539, 0.8143486973947895, 0.8129058116232465]\n",
            "[0.9044488977955912, 0.9079759519038076, 0.9068537074148296]\n"
          ],
          "name": "stdout"
        }
      ]
    },
    {
      "cell_type": "markdown",
      "metadata": {
        "id": "6v9Pev-JLvCb"
      },
      "source": [
        "NCA Below"
      ]
    },
    {
      "cell_type": "code",
      "metadata": {
        "id": "up8Yft-KvvzU"
      },
      "source": [
        "# NCA loss only\n",
        "acc_scoreNCA = []\n",
        "acc_scoreNCA2 = []\n",
        "acc_scoreNCA3 = []\n",
        "\n",
        "for i in range(1): #3\n",
        "  nca = MCML(n_latent = n_latent, epochs = 100)\n",
        "  ncaR2 = MCML(n_latent = n_latent, epochs = 100)\n",
        "\n",
        "  labels = np.array([lab1]).copy()\n",
        "  train_inds = np.random.choice(len(scaled_mat), size = int(0.7*len(scaled_mat)),replace=False) #0.7\n",
        "  unlab_inds = [i for i in range(len(adata)) if i not in train_inds]\n",
        "  labels[:, unlab_inds] = np.nan\n",
        "\n",
        "  #2 labels\n",
        "  labels2 = allLabs2.copy()\n",
        "  labels2[:, unlab_inds] = np.nan\n",
        "\n",
        "  losses, latent = nca.fit(scaled_mat,labels,fracNCA = 1, silent = True,ret_loss = True)\n",
        "\n",
        "  losses2, latent2 = ncaR2.fit(scaled_mat,labels2,fracNCA = 1, silent = True,ret_loss = True)\n",
        "\n",
        "  toc = time.perf_counter()\n",
        "  unlabeled_idx = []\n",
        "  for i in range(len(adata)):\n",
        "      if i not in train_inds:\n",
        "          unlabeled_idx.append(i)\n",
        "  preds = knn_infer(latent, train_inds, adata.obs.cluster.values[train_inds], unlabeled_idx)\n",
        "  acc = accuracy_score(adata.obs.cluster.values[unlabeled_idx], preds)\n",
        "  acc_scoreNCA.append(acc)\n",
        "\n",
        "  preds2 = knn_infer(latent2, train_inds, adata.obs.cluster.values[train_inds], unlabeled_idx)\n",
        "  acc2 = accuracy_score(adata.obs.cluster.values[unlabeled_idx], preds2)\n",
        "  acc_scoreNCA2.append(acc2)\n",
        "\n",
        "  preds2 = knn_infer(latent2, train_inds, adata.obs.sex_label.values[train_inds], unlabeled_idx)\n",
        "  acc2 = accuracy_score(adata.obs.sex_label.values[unlabeled_idx], preds2)\n",
        "  acc_scoreNCA3.append(acc2)\n",
        "\n",
        "  # print(f\"nnNCA fit in {toc - tic:0.4f} seconds\")"
      ],
      "execution_count": null,
      "outputs": []
    },
    {
      "cell_type": "code",
      "metadata": {
        "colab": {
          "base_uri": "https://localhost:8080/"
        },
        "id": "jbrOTr2TxEcb",
        "outputId": "a220a327-26b4-481f-9ce7-e2ea852b24b7"
      },
      "source": [
        "print(acc_scoreNCA)\n",
        "print(acc_scoreNCA2)\n",
        "print(acc_scoreNCA3)"
      ],
      "execution_count": null,
      "outputs": [
        {
          "output_type": "stream",
          "text": [
            "[0.7521442885771543]\n",
            "[0.7487775551102205]\n",
            "[0.872064128256513]\n"
          ],
          "name": "stdout"
        }
      ]
    },
    {
      "cell_type": "code",
      "metadata": {
        "id": "HYhSKoZ8y6o7"
      },
      "source": [
        "# fracNCA = 0.3\n",
        "acc_scoreBoth = []\n",
        "acc_scoreBoth2 = []\n",
        "acc_scoreBoth3 = []\n",
        "\n",
        "for i in range(3): #3\n",
        "  nca = MCML(n_latent = n_latent, epochs = 100)\n",
        "  ncaR2 = MCML(n_latent = n_latent, epochs = 100)\n",
        "\n",
        "  labels = np.array([lab1]).copy()\n",
        "  train_inds = np.random.choice(len(scaled_mat), size = int(0.7*len(scaled_mat)),replace=False)\n",
        "  unlab_inds = [i for i in range(len(adata)) if i not in train_inds]\n",
        "  labels[:, unlab_inds] = np.nan\n",
        "\n",
        "  #2 labels\n",
        "  labels2 = allLabs2.copy()\n",
        "  labels2[:, unlab_inds] = np.nan\n",
        "\n",
        "  losses, latent = nca.fit(scaled_mat,labels,fracNCA = 0.25, silent = True,ret_loss = True)\n",
        "  losses2, latent2 = ncaR2.fit(scaled_mat,labels2,fracNCA = 0.25, silent = True,ret_loss = True)\n",
        "\n",
        "\n",
        "  toc = time.perf_counter()\n",
        "  unlabeled_idx = []\n",
        "  for i in range(len(adata)):\n",
        "      if i not in train_inds:\n",
        "          unlabeled_idx.append(i)\n",
        "  preds = knn_infer(latent, train_inds, adata.obs.cluster.values[train_inds], unlabeled_idx)\n",
        "  acc = accuracy_score(adata.obs.cluster.values[unlabeled_idx], preds)\n",
        "  acc_scoreBoth.append(acc)\n",
        "\n",
        "  preds2 = knn_infer(latent2, train_inds, adata.obs.cluster.values[train_inds], unlabeled_idx)\n",
        "  acc2 = accuracy_score(adata.obs.cluster.values[unlabeled_idx], preds2)\n",
        "  acc_scoreBoth2.append(acc2)\n",
        "\n",
        "  preds2 = knn_infer(latent2, train_inds, adata.obs.sex_label.values[train_inds], unlabeled_idx)\n",
        "  acc2 = accuracy_score(adata.obs.sex_label.values[unlabeled_idx], preds2)\n",
        "  acc_scoreBoth3.append(acc2)\n",
        "\n",
        "  # # print(f\"nnNCA fit in {toc - tic:0.4f} seconds\")"
      ],
      "execution_count": null,
      "outputs": []
    },
    {
      "cell_type": "code",
      "metadata": {
        "colab": {
          "base_uri": "https://localhost:8080/"
        },
        "id": "DHDbNWVGSbRy",
        "outputId": "be150bdd-e565-47fa-d8b2-29cb28462731"
      },
      "source": [
        "print(acc_scoreBoth)\n",
        "print(acc_scoreBoth2)\n",
        "print(acc_scoreBoth3)"
      ],
      "execution_count": null,
      "outputs": [
        {
          "output_type": "stream",
          "text": [
            "[0.836312625250501, 0.8432865731462926, 0.8446492985971944]\n",
            "[0.8392785571142285, 0.8459318637274549, 0.8428857715430862]\n",
            "[0.919438877755511, 0.919438877755511, 0.9228857715430862]\n"
          ],
          "name": "stdout"
        }
      ]
    },
    {
      "cell_type": "code",
      "metadata": {
        "colab": {
          "base_uri": "https://localhost:8080/",
          "height": 265
        },
        "id": "1VWING8kPkSg",
        "outputId": "324255be-8488-4072-d436-2486895bca1e"
      },
      "source": [
        "fig, axs = plt.subplots(1, losses.shape[1],figsize=(8,4))\n",
        "for i in range(losses.shape[1]):\n",
        "  axs[i].plot(losses[:,i],label=str(i))\n",
        "  \n",
        "plt.legend()\n",
        "plt.show()"
      ],
      "execution_count": null,
      "outputs": [
        {
          "output_type": "display_data",
          "data": {
            "image/png": "[encoded data removed]",
            "text/plain": [
              "<Figure size 576x288 with 4 Axes>"
            ]
          },
          "metadata": {
            "tags": []
          }
        }
      ]
    },
    {
      "cell_type": "code",
      "metadata": {
        "id": "Cn_NqV2MI28H",
        "colab": {
          "base_uri": "https://localhost:8080/",
          "height": 265
        },
        "outputId": "b7917197-be91-4c73-b59b-f6b69f611119"
      },
      "source": [
        "fig, axs = plt.subplots(1, losses2.shape[1],figsize=(8,4))\n",
        "for i in range(losses2.shape[1]):\n",
        "  axs[i].plot(losses2[:,i],label=str(i))\n",
        "  \n",
        "plt.legend()\n",
        "plt.show()"
      ],
      "execution_count": null,
      "outputs": [
        {
          "output_type": "display_data",
          "data": {
            "image/png": "[encoded data removed]",
            "text/plain": [
              "<Figure size 576x288 with 4 Axes>"
            ]
          },
          "metadata": {
            "tags": []
          }
        }
      ]
    },
    {
      "cell_type": "markdown",
      "metadata": {
        "id": "ZwVU28-k-3yP"
      },
      "source": [
        "### **Save Analysis Output**"
      ]
    },
    {
      "cell_type": "code",
      "metadata": {
        "id": "zoobDgWX4acW"
      },
      "source": [
        "vals = pd.DataFrame()\n",
        "\n",
        "vals['Accuracy'] = acc_score + acc_score_scanvi + acc_scoreR + acc_scoreNCA + acc_scoreBoth + acc_score2 + acc_score_scanvi2 + acc_scoreR2 + acc_scoreNCA3 + acc_scoreBoth3 + acc_scoreNCA2 + acc_scoreBoth2 +\n",
        "acc_scorePCA +acc_scorePCA2  #+ netAE_score + netAE_score2"
      ],
      "execution_count": null,
      "outputs": []
    },
    {
      "cell_type": "code",
      "metadata": {
        "id": "AJY7DMRA642i"
      },
      "source": [
        "vals['Embed'] = ['LDVAE']*3 + ['SCANVI']*3 + ['Recon MCML']*3 + ['NCA 100% MCML']*1 + ['NCA-Recon MCML']*3 +['LDVAE']*3 + ['SCANVI']*3 + ['Recon MCML']*3 + ['NCA 100% MCML']*1 + ['NCA-Recon MCML']*3 + \n",
        "['NCA 100% MCML']*1 + ['NCA-Recon MCML']*3 + ['PCA 50D']*3 + ['PCA 50D']*3 #+ ['netAE']*2"
      ],
      "execution_count": null,
      "outputs": []
    },
    {
      "cell_type": "code",
      "metadata": {
        "id": "Is7_EmhR7tKn"
      },
      "source": [
        "vals['Label'] = ['CellType1']*13 + ['Gender2']*13 + ['CellType2']*4 + ['CellType1']*3 + ['Gender2']*3#+  ['CellType1'] #+  ['Gender2']"
      ],
      "execution_count": null,
      "outputs": []
    },
    {
      "cell_type": "code",
      "metadata": {
        "id": "cZBM1dlG8K5E",
        "colab": {
          "base_uri": "https://localhost:8080/",
          "height": 955
        },
        "outputId": "8efa678e-5e65-4bd1-86fb-7d9ff4f29ccf"
      },
      "source": [
        "vals\n"
      ],
      "execution_count": null,
      "outputs": [
        {
          "output_type": "execute_result",
          "data": {
            "text/html": [
              "<div>\n",
              "<style scoped>\n",
              "    .dataframe tbody tr th:only-of-type {\n",
              "        vertical-align: middle;\n",
              "    }\n",
              "\n",
              "    .dataframe tbody tr th {\n",
              "        vertical-align: top;\n",
              "    }\n",
              "\n",
              "    .dataframe thead th {\n",
              "        text-align: right;\n",
              "    }\n",
              "</style>\n",
              "<table border=\"1\" class=\"dataframe\">\n",
              "  <thead>\n",
              "    <tr style=\"text-align: right;\">\n",
              "      <th></th>\n",
              "      <th>Accuracy</th>\n",
              "      <th>Embed</th>\n",
              "      <th>Label</th>\n",
              "    </tr>\n",
              "  </thead>\n",
              "  <tbody>\n",
              "    <tr>\n",
              "      <th>0</th>\n",
              "      <td>0.683181</td>\n",
              "      <td>LDVAE</td>\n",
              "      <td>CellType1</td>\n",
              "    </tr>\n",
              "    <tr>\n",
              "      <th>1</th>\n",
              "      <td>0.681898</td>\n",
              "      <td>LDVAE</td>\n",
              "      <td>CellType1</td>\n",
              "    </tr>\n",
              "    <tr>\n",
              "      <th>2</th>\n",
              "      <td>0.681738</td>\n",
              "      <td>LDVAE</td>\n",
              "      <td>CellType1</td>\n",
              "    </tr>\n",
              "    <tr>\n",
              "      <th>3</th>\n",
              "      <td>0.780824</td>\n",
              "      <td>SCANVI</td>\n",
              "      <td>CellType1</td>\n",
              "    </tr>\n",
              "    <tr>\n",
              "      <th>4</th>\n",
              "      <td>0.783630</td>\n",
              "      <td>SCANVI</td>\n",
              "      <td>CellType1</td>\n",
              "    </tr>\n",
              "    <tr>\n",
              "      <th>5</th>\n",
              "      <td>0.779060</td>\n",
              "      <td>SCANVI</td>\n",
              "      <td>CellType1</td>\n",
              "    </tr>\n",
              "    <tr>\n",
              "      <th>6</th>\n",
              "      <td>0.829900</td>\n",
              "      <td>Recon MCML</td>\n",
              "      <td>CellType1</td>\n",
              "    </tr>\n",
              "    <tr>\n",
              "      <th>7</th>\n",
              "      <td>0.835832</td>\n",
              "      <td>Recon MCML</td>\n",
              "      <td>CellType1</td>\n",
              "    </tr>\n",
              "    <tr>\n",
              "      <th>8</th>\n",
              "      <td>0.831743</td>\n",
              "      <td>Recon MCML</td>\n",
              "      <td>CellType1</td>\n",
              "    </tr>\n",
              "    <tr>\n",
              "      <th>9</th>\n",
              "      <td>0.752144</td>\n",
              "      <td>NCA 100% MCML</td>\n",
              "      <td>CellType1</td>\n",
              "    </tr>\n",
              "    <tr>\n",
              "      <th>10</th>\n",
              "      <td>0.836313</td>\n",
              "      <td>NCA-Recon MCML</td>\n",
              "      <td>CellType1</td>\n",
              "    </tr>\n",
              "    <tr>\n",
              "      <th>11</th>\n",
              "      <td>0.843287</td>\n",
              "      <td>NCA-Recon MCML</td>\n",
              "      <td>CellType1</td>\n",
              "    </tr>\n",
              "    <tr>\n",
              "      <th>12</th>\n",
              "      <td>0.844649</td>\n",
              "      <td>NCA-Recon MCML</td>\n",
              "      <td>CellType1</td>\n",
              "    </tr>\n",
              "    <tr>\n",
              "      <th>13</th>\n",
              "      <td>0.883598</td>\n",
              "      <td>LDVAE</td>\n",
              "      <td>Gender2</td>\n",
              "    </tr>\n",
              "    <tr>\n",
              "      <th>14</th>\n",
              "      <td>0.886163</td>\n",
              "      <td>LDVAE</td>\n",
              "      <td>Gender2</td>\n",
              "    </tr>\n",
              "    <tr>\n",
              "      <th>15</th>\n",
              "      <td>0.884560</td>\n",
              "      <td>LDVAE</td>\n",
              "      <td>Gender2</td>\n",
              "    </tr>\n",
              "    <tr>\n",
              "      <th>16</th>\n",
              "      <td>0.904842</td>\n",
              "      <td>SCANVI</td>\n",
              "      <td>Gender2</td>\n",
              "    </tr>\n",
              "    <tr>\n",
              "      <th>17</th>\n",
              "      <td>0.889610</td>\n",
              "      <td>SCANVI</td>\n",
              "      <td>Gender2</td>\n",
              "    </tr>\n",
              "    <tr>\n",
              "      <th>18</th>\n",
              "      <td>0.913500</td>\n",
              "      <td>SCANVI</td>\n",
              "      <td>Gender2</td>\n",
              "    </tr>\n",
              "    <tr>\n",
              "      <th>19</th>\n",
              "      <td>0.910220</td>\n",
              "      <td>Recon MCML</td>\n",
              "      <td>Gender2</td>\n",
              "    </tr>\n",
              "    <tr>\n",
              "      <th>20</th>\n",
              "      <td>0.912385</td>\n",
              "      <td>Recon MCML</td>\n",
              "      <td>Gender2</td>\n",
              "    </tr>\n",
              "    <tr>\n",
              "      <th>21</th>\n",
              "      <td>0.909339</td>\n",
              "      <td>Recon MCML</td>\n",
              "      <td>Gender2</td>\n",
              "    </tr>\n",
              "    <tr>\n",
              "      <th>22</th>\n",
              "      <td>0.872064</td>\n",
              "      <td>NCA 100% MCML</td>\n",
              "      <td>Gender2</td>\n",
              "    </tr>\n",
              "    <tr>\n",
              "      <th>23</th>\n",
              "      <td>0.919439</td>\n",
              "      <td>NCA-Recon MCML</td>\n",
              "      <td>Gender2</td>\n",
              "    </tr>\n",
              "    <tr>\n",
              "      <th>24</th>\n",
              "      <td>0.919439</td>\n",
              "      <td>NCA-Recon MCML</td>\n",
              "      <td>Gender2</td>\n",
              "    </tr>\n",
              "    <tr>\n",
              "      <th>25</th>\n",
              "      <td>0.922886</td>\n",
              "      <td>NCA-Recon MCML</td>\n",
              "      <td>Gender2</td>\n",
              "    </tr>\n",
              "    <tr>\n",
              "      <th>26</th>\n",
              "      <td>0.748778</td>\n",
              "      <td>NCA 100% MCML</td>\n",
              "      <td>CellType2</td>\n",
              "    </tr>\n",
              "    <tr>\n",
              "      <th>27</th>\n",
              "      <td>0.839279</td>\n",
              "      <td>NCA-Recon MCML</td>\n",
              "      <td>CellType2</td>\n",
              "    </tr>\n",
              "    <tr>\n",
              "      <th>28</th>\n",
              "      <td>0.845932</td>\n",
              "      <td>NCA-Recon MCML</td>\n",
              "      <td>CellType2</td>\n",
              "    </tr>\n",
              "    <tr>\n",
              "      <th>29</th>\n",
              "      <td>0.842886</td>\n",
              "      <td>NCA-Recon MCML</td>\n",
              "      <td>CellType2</td>\n",
              "    </tr>\n",
              "  </tbody>\n",
              "</table>\n",
              "</div>"
            ],
            "text/plain": [
              "    Accuracy           Embed      Label\n",
              "0   0.683181           LDVAE  CellType1\n",
              "1   0.681898           LDVAE  CellType1\n",
              "2   0.681738           LDVAE  CellType1\n",
              "3   0.780824          SCANVI  CellType1\n",
              "4   0.783630          SCANVI  CellType1\n",
              "5   0.779060          SCANVI  CellType1\n",
              "6   0.829900      Recon MCML  CellType1\n",
              "7   0.835832      Recon MCML  CellType1\n",
              "8   0.831743      Recon MCML  CellType1\n",
              "9   0.752144   NCA 100% MCML  CellType1\n",
              "10  0.836313  NCA-Recon MCML  CellType1\n",
              "11  0.843287  NCA-Recon MCML  CellType1\n",
              "12  0.844649  NCA-Recon MCML  CellType1\n",
              "13  0.883598           LDVAE    Gender2\n",
              "14  0.886163           LDVAE    Gender2\n",
              "15  0.884560           LDVAE    Gender2\n",
              "16  0.904842          SCANVI    Gender2\n",
              "17  0.889610          SCANVI    Gender2\n",
              "18  0.913500          SCANVI    Gender2\n",
              "19  0.910220      Recon MCML    Gender2\n",
              "20  0.912385      Recon MCML    Gender2\n",
              "21  0.909339      Recon MCML    Gender2\n",
              "22  0.872064   NCA 100% MCML    Gender2\n",
              "23  0.919439  NCA-Recon MCML    Gender2\n",
              "24  0.919439  NCA-Recon MCML    Gender2\n",
              "25  0.922886  NCA-Recon MCML    Gender2\n",
              "26  0.748778   NCA 100% MCML  CellType2\n",
              "27  0.839279  NCA-Recon MCML  CellType2\n",
              "28  0.845932  NCA-Recon MCML  CellType2\n",
              "29  0.842886  NCA-Recon MCML  CellType2"
            ]
          },
          "metadata": {
            "tags": []
          },
          "execution_count": 32
        }
      ]
    },
    {
      "cell_type": "code",
      "metadata": {
        "id": "mOwQUKce8L7f",
        "colab": {
          "base_uri": "https://localhost:8080/",
          "height": 17
        },
        "outputId": "ac6dbebc-d3e2-47e9-c9fa-d9326fbf929a"
      },
      "source": [
        "from google.colab import files\n",
        "\n",
        "vals.to_csv('all10XPreds.csv')\n",
        "files.download('all10XPreds.csv')"
      ],
      "execution_count": null,
      "outputs": [
        {
          "output_type": "display_data",
          "data": {
            "application/javascript": [
              "\n",
              "    async function download(id, filename, size) {\n",
              "      if (!google.colab.kernel.accessAllowed) {\n",
              "        return;\n",
              "      }\n",
              "      const div = document.createElement('div');\n",
              "      const label = document.createElement('label');\n",
              "      label.textContent = `Downloading \"${filename}\": `;\n",
              "      div.appendChild(label);\n",
              "      const progress = document.createElement('progress');\n",
              "      progress.max = size;\n",
              "      div.appendChild(progress);\n",
              "      document.body.appendChild(div);\n",
              "\n",
              "      const buffers = [];\n",
              "      let downloaded = 0;\n",
              "\n",
              "      const channel = await google.colab.kernel.comms.open(id);\n",
              "      // Send a message to notify the kernel that we're ready.\n",
              "      channel.send({})\n",
              "\n",
              "      for await (const message of channel.messages) {\n",
              "        // Send a message to notify the kernel that we're ready.\n",
              "        channel.send({})\n",
              "        if (message.buffers) {\n",
              "          for (const buffer of message.buffers) {\n",
              "            buffers.push(buffer);\n",
              "            downloaded += buffer.byteLength;\n",
              "            progress.value = downloaded;\n",
              "          }\n",
              "        }\n",
              "      }\n",
              "      const blob = new Blob(buffers, {type: 'application/binary'});\n",
              "      const a = document.createElement('a');\n",
              "      a.href = window.URL.createObjectURL(blob);\n",
              "      a.download = filename;\n",
              "      div.appendChild(a);\n",
              "      a.click();\n",
              "      div.remove();\n",
              "    }\n",
              "  "
            ],
            "text/plain": [
              "<IPython.core.display.Javascript object>"
            ]
          },
          "metadata": {
            "tags": []
          }
        },
        {
          "output_type": "display_data",
          "data": {
            "application/javascript": [
              "download(\"download_8d72c436-a505-49d7-a23a-0d7472d16ef3\", \"all10XPreds.csv\", 1262)"
            ],
            "text/plain": [
              "<IPython.core.display.Javascript object>"
            ]
          },
          "metadata": {
            "tags": []
          }
        }
      ]
    },
    {
      "cell_type": "code",
      "metadata": {
        "id": "ccJzxZkICUXW"
      },
      "source": [
        ""
      ],
      "execution_count": null,
      "outputs": []
    },
    {
      "cell_type": "markdown",
      "metadata": {
        "id": "sxE-80vn1SLd"
      },
      "source": [
        "### **MCML Prediction Accuracy With Lower Percentages of Labeled Data**"
      ]
    },
    {
      "cell_type": "code",
      "metadata": {
        "id": "amQx6-Ia1Uy_"
      },
      "source": [
        "# fracNCA = 0.5 \n",
        "acc_scoreBoth = []\n",
        "percs = [0.7,0.6,0.5,0.4,0.3,0.2,0.1]\n",
        "\n",
        "for p in percs:\n",
        "  nca = MCML(n_latent = n_latent, epochs = 100)\n",
        "  ncaR2 = MCML(n_latent = n_latent, epochs = 100)\n",
        "\n",
        "  labels = np.array([lab1])\n",
        "  train_inds = np.random.choice(len(scaled_mat), size = int((p)*len(scaled_mat)),replace=False)\n",
        "  unlab_inds = [i for i in range(len(adata)) if i not in train_inds]\n",
        "  labels[:, unlab_inds] = np.nan\n",
        "\n",
        "  #2 labels\n",
        "  labels2 = allLabs2\n",
        "  labels2[:, unlab_inds] = np.nan\n",
        "\n",
        "  losses, latent = nca.fit(scaled_mat,labels,fracNCA = 0.25, silent = True,ret_loss = True)\n",
        "\n",
        "\n",
        "\n",
        "  toc = time.perf_counter()\n",
        "  unlabeled_idx = []\n",
        "  for i in range(len(adata)):\n",
        "      if i not in train_inds:\n",
        "          unlabeled_idx.append(i)\n",
        "  preds = knn_infer(latent, train_inds, adata.obs.cluster.values[train_inds], unlabeled_idx)\n",
        "  acc = accuracy_score(adata.obs.cluster.values[unlabeled_idx], preds)\n",
        "  acc_scoreBoth.append(acc)\n",
        "\n",
        "\n",
        "  # print(f\"nnNCA fit in {toc - tic:0.4f} seconds\")"
      ],
      "execution_count": null,
      "outputs": []
    },
    {
      "cell_type": "code",
      "metadata": {
        "colab": {
          "base_uri": "https://localhost:8080/",
          "height": 260
        },
        "id": "zdIB32yI1xyD",
        "outputId": "8481a365-96f1-4b3a-9667-4eea7378214d"
      },
      "source": [
        "lowPercsSmartSeq = pd.DataFrame()\n",
        "\n",
        "lowPercsSmartSeq['Accuracy'] = acc_scoreBoth\n",
        "lowPercsSmartSeq['Percent'] = percs\n",
        "\n",
        "lowPercsSmartSeq"
      ],
      "execution_count": null,
      "outputs": [
        {
          "output_type": "execute_result",
          "data": {
            "text/html": [
              "<div>\n",
              "<style scoped>\n",
              "    .dataframe tbody tr th:only-of-type {\n",
              "        vertical-align: middle;\n",
              "    }\n",
              "\n",
              "    .dataframe tbody tr th {\n",
              "        vertical-align: top;\n",
              "    }\n",
              "\n",
              "    .dataframe thead th {\n",
              "        text-align: right;\n",
              "    }\n",
              "</style>\n",
              "<table border=\"1\" class=\"dataframe\">\n",
              "  <thead>\n",
              "    <tr style=\"text-align: right;\">\n",
              "      <th></th>\n",
              "      <th>Accuracy</th>\n",
              "      <th>Percent</th>\n",
              "    </tr>\n",
              "  </thead>\n",
              "  <tbody>\n",
              "    <tr>\n",
              "      <th>0</th>\n",
              "      <td>0.844489</td>\n",
              "      <td>0.7</td>\n",
              "    </tr>\n",
              "    <tr>\n",
              "      <th>1</th>\n",
              "      <td>0.836941</td>\n",
              "      <td>0.6</td>\n",
              "    </tr>\n",
              "    <tr>\n",
              "      <th>2</th>\n",
              "      <td>0.832660</td>\n",
              "      <td>0.5</td>\n",
              "    </tr>\n",
              "    <tr>\n",
              "      <th>3</th>\n",
              "      <td>0.822551</td>\n",
              "      <td>0.4</td>\n",
              "    </tr>\n",
              "    <tr>\n",
              "      <th>4</th>\n",
              "      <td>0.812444</td>\n",
              "      <td>0.3</td>\n",
              "    </tr>\n",
              "    <tr>\n",
              "      <th>5</th>\n",
              "      <td>0.801106</td>\n",
              "      <td>0.2</td>\n",
              "    </tr>\n",
              "    <tr>\n",
              "      <th>6</th>\n",
              "      <td>0.767597</td>\n",
              "      <td>0.1</td>\n",
              "    </tr>\n",
              "  </tbody>\n",
              "</table>\n",
              "</div>"
            ],
            "text/plain": [
              "   Accuracy  Percent\n",
              "0  0.844489      0.7\n",
              "1  0.836941      0.6\n",
              "2  0.832660      0.5\n",
              "3  0.822551      0.4\n",
              "4  0.812444      0.3\n",
              "5  0.801106      0.2\n",
              "6  0.767597      0.1"
            ]
          },
          "metadata": {
            "tags": []
          },
          "execution_count": 35
        }
      ]
    },
    {
      "cell_type": "code",
      "metadata": {
        "id": "1CbdOBbo2ADy",
        "colab": {
          "base_uri": "https://localhost:8080/",
          "height": 17
        },
        "outputId": "9963ada0-0e70-4c78-d400-a92050624f95"
      },
      "source": [
        "from google.colab import files\n",
        "\n",
        "lowPercsSmartSeq.to_csv('lowPercs10XPreds.csv')\n",
        "files.download('lowPercs10XPreds.csv')"
      ],
      "execution_count": null,
      "outputs": [
        {
          "output_type": "display_data",
          "data": {
            "application/javascript": [
              "\n",
              "    async function download(id, filename, size) {\n",
              "      if (!google.colab.kernel.accessAllowed) {\n",
              "        return;\n",
              "      }\n",
              "      const div = document.createElement('div');\n",
              "      const label = document.createElement('label');\n",
              "      label.textContent = `Downloading \"${filename}\": `;\n",
              "      div.appendChild(label);\n",
              "      const progress = document.createElement('progress');\n",
              "      progress.max = size;\n",
              "      div.appendChild(progress);\n",
              "      document.body.appendChild(div);\n",
              "\n",
              "      const buffers = [];\n",
              "      let downloaded = 0;\n",
              "\n",
              "      const channel = await google.colab.kernel.comms.open(id);\n",
              "      // Send a message to notify the kernel that we're ready.\n",
              "      channel.send({})\n",
              "\n",
              "      for await (const message of channel.messages) {\n",
              "        // Send a message to notify the kernel that we're ready.\n",
              "        channel.send({})\n",
              "        if (message.buffers) {\n",
              "          for (const buffer of message.buffers) {\n",
              "            buffers.push(buffer);\n",
              "            downloaded += buffer.byteLength;\n",
              "            progress.value = downloaded;\n",
              "          }\n",
              "        }\n",
              "      }\n",
              "      const blob = new Blob(buffers, {type: 'application/binary'});\n",
              "      const a = document.createElement('a');\n",
              "      a.href = window.URL.createObjectURL(blob);\n",
              "      a.download = filename;\n",
              "      div.appendChild(a);\n",
              "      a.click();\n",
              "      div.remove();\n",
              "    }\n",
              "  "
            ],
            "text/plain": [
              "<IPython.core.display.Javascript object>"
            ]
          },
          "metadata": {
            "tags": []
          }
        },
        {
          "output_type": "display_data",
          "data": {
            "application/javascript": [
              "download(\"download_5d87d07c-26f9-43bc-9c25-e8a68f74f057\", \"lowPercs10XPreds.csv\", 192)"
            ],
            "text/plain": [
              "<IPython.core.display.Javascript object>"
            ]
          },
          "metadata": {
            "tags": []
          }
        }
      ]
    },
    {
      "cell_type": "markdown",
      "metadata": {
        "id": "lvhIEIIZU42H"
      },
      "source": [
        "### **Test KNN Jaccard**"
      ]
    },
    {
      "cell_type": "code",
      "metadata": {
        "id": "ot3LVTDp2uKs"
      },
      "source": [
        "rounds = 3"
      ],
      "execution_count": 15,
      "outputs": []
    },
    {
      "cell_type": "code",
      "metadata": {
        "id": "M9pAjYBIH_aj"
      },
      "source": [
        "batch_size = 128 #scaled_mat.shape[0]#len(adata.obs_names)\n",
        "#Make a (unit) circle \n",
        "#r = 1\n",
        "theta = np.linspace(0, 2*np.pi, batch_size)\n",
        "# #Turkey guy\n",
        "# x, y = (np.sin(2**theta) - 1.7) * np.cos(theta), (np.sin(2**theta) - 1.7) * np.sin(theta)\n",
        "\n",
        "# #Butterfly r = 4*cos(4cosθ))\n",
        "# x, y = (2*np.cos(4*np.cos(theta))) * np.cos(theta), (2*np.cos(4*np.cos(theta))) * np.sin(theta)\n",
        "\n",
        "# # Spiral\n",
        "#x, y = (1/2)*theta * np.cos(theta), (1/2)*theta * np.sin(theta)\n",
        "\n",
        "# #Quasi-rose\n",
        "x, y = (4 + np.cos(6*theta)) * np.cos(theta), (4 + np.cos(6*theta)) * np.sin(theta)\n",
        "\n",
        "\n",
        "#Make array input for dimension of shape \n",
        "coords = np.array([list(x),list(y)])"
      ],
      "execution_count": 16,
      "outputs": []
    },
    {
      "cell_type": "code",
      "metadata": {
        "colab": {
          "base_uri": "https://localhost:8080/",
          "height": 473
        },
        "id": "GQwgUqg4H_aj",
        "outputId": "4cda9efa-78ac-4805-dee3-fc9dccc6fc5a"
      },
      "source": [
        "plt.plot(x,y)"
      ],
      "execution_count": null,
      "outputs": [
        {
          "output_type": "execute_result",
          "data": {
            "text/plain": [
              "[<matplotlib.lines.Line2D at 0x7f5e4a127ad0>]"
            ]
          },
          "metadata": {
            "tags": []
          },
          "execution_count": 33
        },
        {
          "output_type": "display_data",
          "data": {
            "image/png": "[encoded data removed]",
            "text/plain": [
              "<Figure size 500x500 with 1 Axes>"
            ]
          },
          "metadata": {
            "tags": [],
            "image/png": {
              "width": 464,
              "height": 441
            }
          }
        }
      ]
    },
    {
      "cell_type": "code",
      "metadata": {
        "id": "MvhWhHWx5Pbh"
      },
      "source": [
        "#Ex utero \n",
        "fl = []\n",
        "flLab = []\n",
        "flType = []\n",
        "\n",
        "for i in range(rounds):\n",
        "  nca = Picasso(n_latent = 2, epochs = 500, batch_size = batch_size)\n",
        "  lossesB, latentB = nca.fit(scaled_mat,coords, frac = .3,silent=True,ret_loss=True)  #.06 for ex utero\n",
        "\n",
        "  fl += [latentB]\n",
        "  flLab += ['Flower']\n",
        "  flType += ['MCML 2D']\n",
        "\n",
        "\n",
        "\n"
      ],
      "execution_count": 17,
      "outputs": []
    },
    {
      "cell_type": "code",
      "metadata": {
        "id": "9oVhBqnZVJy4"
      },
      "source": [
        ""
      ],
      "execution_count": 17,
      "outputs": []
    },
    {
      "cell_type": "markdown",
      "metadata": {
        "id": "isFfNbYdVJ-B"
      },
      "source": [
        "Save KNN Jaccard Dists"
      ]
    },
    {
      "cell_type": "code",
      "metadata": {
        "id": "cRnPbhKYVJ-C"
      },
      "source": [
        "orig_indices = tl.getNeighbors(count_mat, n_neigh = 30,p=1)"
      ],
      "execution_count": null,
      "outputs": []
    },
    {
      "cell_type": "code",
      "metadata": {
        "id": "YNOkTGQXVJ-C"
      },
      "source": [
        "df = getJac(orig_indices,fl, flLab, 30)\n",
        "df.to_csv('tenxPicFlAmb.csv')"
      ],
      "execution_count": null,
      "outputs": []
    },
    {
      "cell_type": "code",
      "metadata": {
        "id": "9WP2Aq3qVJ-C"
      },
      "source": [
        "from google.colab import files\n",
        "files.download(\"tenxPicFlAmb.csv\")"
      ],
      "execution_count": null,
      "outputs": []
    },
    {
      "cell_type": "code",
      "metadata": {
        "colab": {
          "base_uri": "https://localhost:8080/",
          "height": 362
        },
        "id": "6hN1tXSx5Pbi",
        "outputId": "1f2ee971-df61-4a24-dbf8-ded155808539"
      },
      "source": [
        "nca.plotLosses(figsize=(10,3),axisFontSize=10,tickFontSize=8)"
      ],
      "execution_count": null,
      "outputs": [
        {
          "output_type": "display_data",
          "data": {
            "image/png": "[encoded data removed]",
            "text/plain": [
              "<Figure size 1250x375 with 3 Axes>"
            ]
          },
          "metadata": {
            "tags": [],
            "image/png": {
              "width": 1220,
              "height": 346
            }
          }
        }
      ]
    },
    {
      "cell_type": "code",
      "metadata": {
        "id": "GJC29mHH5Pbi",
        "colab": {
          "base_uri": "https://localhost:8080/",
          "height": 265
        },
        "outputId": "cb23415f-c93f-436e-e44b-0968eb9e8c21"
      },
      "source": [
        "# elephant parameters\n",
        "batch_size = 128 #scaled_mat.shape[0]#3850 # 50\n",
        "\n",
        "p1, p2, p3, p4 = (50 - 30j, 18 +  8j, 12 - 10j, -14 - 60j )\n",
        "p5 = 40 + 20j # eyepiece\n",
        "\n",
        "def fourier(t, C):\n",
        "    f = np.zeros(t.shape)\n",
        "    A, B = C.real, C.imag\n",
        "    for k in range(len(C)):\n",
        "        f = f + A[k]*np.cos(k*t) + B[k]*np.sin(k*t)\n",
        "    return f\n",
        "\n",
        "def elephant(t, p1, p2, p3, p4, p5):\n",
        "    npar = 6\n",
        "    Cx = np.zeros((npar,), dtype='complex')\n",
        "    Cy = np.zeros((npar,), dtype='complex')\n",
        "\n",
        "    Cx[1] = p1.real*1j\n",
        "    Cx[2] = p2.real*1j\n",
        "    Cx[3] = p3.real\n",
        "    Cx[5] = p4.real\n",
        "\n",
        "    Cy[1] = p4.imag + p1.imag*1j\n",
        "    Cy[2] = p2.imag*1j\n",
        "    Cy[3] = p3.imag*1j\n",
        "\n",
        "    # x = np.append(fourier(t,Cx), [-p5.imag]) #[-p5.imag]\n",
        "    # y = np.append(fourier(t,Cy), [p5.imag]) #[p5.imag]\n",
        "    x = fourier(t,Cx)\n",
        "    y = fourier(t,Cy)\n",
        "\n",
        "    return x,y\n",
        "\n",
        "x, y = elephant(np.linspace(0,2*np.pi,batch_size), p1, p2, p3, p4, p5)\n",
        "\n",
        "#Make array input for dimension of shape \n",
        "\n",
        "y = y#0.04*y #.025  .025    .025\n",
        "x = x#0.02*x #.015   .02     .015\n",
        "# y = 0.02*y  \n",
        "# x = 0.01*x\n",
        "\n",
        "coords = np.array([list(y),list(-x)])\n",
        "\n",
        "plt.plot(y,-x,'.',c='black')\n",
        "plt.show()\n"
      ],
      "execution_count": null,
      "outputs": [
        {
          "output_type": "display_data",
          "data": {
            "image/png": "[encoded data removed]",
            "text/plain": [
              "<Figure size 432x288 with 1 Axes>"
            ]
          },
          "metadata": {}
        }
      ]
    },
    {
      "cell_type": "code",
      "metadata": {
        "id": "VoE4GgRM5Pbj"
      },
      "source": [
        "#Test with task assignment in-utero\n",
        "el = []\n",
        "elLab = []\n",
        "elType = []\n",
        "\n",
        "for i in range(rounds):\n",
        "  nca = Picasso(n_latent = 2, epochs = 500, batch_size = batch_size)\n",
        "  lossesEl, latentEl = nca.fit(scaled_mat,coords, frac = 0.3,silent=True,ret_loss=True)\n",
        "\n",
        "  el += [latentEl]\n",
        "  elLab += ['Elephant']\n",
        "  elType += ['MCML 2D']\n",
        "\n",
        "\n"
      ],
      "execution_count": null,
      "outputs": []
    },
    {
      "cell_type": "code",
      "metadata": {
        "colab": {
          "base_uri": "https://localhost:8080/",
          "height": 362
        },
        "id": "vXCfP05h5Pbj",
        "outputId": "351bc6db-4a1d-4f6c-f3ad-393eb6ca3d4d"
      },
      "source": [
        "nca.plotLosses(figsize=(10,3),axisFontSize=10,tickFontSize=8)"
      ],
      "execution_count": null,
      "outputs": [
        {
          "output_type": "display_data",
          "data": {
            "image/png": "[encoded data removed]",
            "text/plain": [
              "<Figure size 1250x375 with 3 Axes>"
            ]
          },
          "metadata": {
            "tags": [],
            "image/png": {
              "width": 1220,
              "height": 346
            }
          }
        }
      ]
    },
    {
      "cell_type": "markdown",
      "metadata": {
        "id": "zSorGvYizNa2"
      },
      "source": [
        "Save KNN Jaccard Dists"
      ]
    },
    {
      "cell_type": "code",
      "metadata": {
        "id": "tlyVunOczjhj"
      },
      "source": [
        "orig_indices = tl.getNeighbors(count_mat, n_neigh = 30,p=1)"
      ],
      "execution_count": null,
      "outputs": []
    },
    {
      "cell_type": "code",
      "metadata": {
        "id": "um-QysBkwWX5"
      },
      "source": [
        "df = getJac(orig_indices,el, elLab, 30)\n",
        "df.to_csv('tenxPicElAmb.csv')"
      ],
      "execution_count": null,
      "outputs": []
    },
    {
      "cell_type": "code",
      "metadata": {
        "id": "ctqArxUTwypc"
      },
      "source": [
        "from google.colab import files\n",
        "files.download(\"tenxPicElAmb.csv\")"
      ],
      "execution_count": null,
      "outputs": []
    }
  ]
}